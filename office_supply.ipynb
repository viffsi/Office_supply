{
  "nbformat": 4,
  "nbformat_minor": 0,
  "metadata": {
    "kernelspec": {
      "language": "python",
      "display_name": "Python 3",
      "name": "python3"
    },
    "language_info": {
      "pygments_lexer": "ipython3",
      "nbconvert_exporter": "python",
      "version": "3.6.4",
      "file_extension": ".py",
      "codemirror_mode": {
        "name": "ipython",
        "version": 3
      },
      "name": "python",
      "mimetype": "text/x-python"
    },
    "colab": {
      "name": "office_supply.ipynb",
      "provenance": [],
      "include_colab_link": true
    }
  },
  "cells": [
    {
      "cell_type": "markdown",
      "metadata": {
        "id": "view-in-github",
        "colab_type": "text"
      },
      "source": [
        "<a href=\"https://colab.research.google.com/github/viffsi/Office_supply/blob/master/office_supply.ipynb\" target=\"_parent\"><img src=\"https://colab.research.google.com/assets/colab-badge.svg\" alt=\"Open In Colab\"/></a>"
      ]
    },
    {
      "cell_type": "code",
      "metadata": {
        "id": "rJGSoW8DS7BH",
        "colab_type": "code",
        "outputId": "5c738d10-f487-424a-c985-2b78b48b625d",
        "colab": {
          "base_uri": "https://localhost:8080/",
          "height": 34
        }
      },
      "source": [
        "from google.colab import drive\n",
        "drive.mount('/content/drive')"
      ],
      "execution_count": 730,
      "outputs": [
        {
          "output_type": "stream",
          "text": [
            "Drive already mounted at /content/drive; to attempt to forcibly remount, call drive.mount(\"/content/drive\", force_remount=True).\n"
          ],
          "name": "stdout"
        }
      ]
    },
    {
      "cell_type": "markdown",
      "metadata": {
        "id": "vpggf0eCSCHq",
        "colab_type": "text"
      },
      "source": [
        "staple import"
      ]
    },
    {
      "cell_type": "code",
      "metadata": {
        "trusted": true,
        "id": "Dek95cf4SCHz",
        "colab_type": "code",
        "colab": {}
      },
      "source": [
        "import pandas as pd\n",
        "import os\n",
        "import numpy as np\n",
        "import seaborn as sns\n",
        "import matplotlib.pyplot as plt\n",
        "from sklearn import preprocessing\n",
        "%matplotlib inline\n",
        "\n",
        "import warnings\n",
        "warnings.filterwarnings('ignore')"
      ],
      "execution_count": 0,
      "outputs": []
    },
    {
      "cell_type": "markdown",
      "metadata": {
        "_uuid": "d629ff2d2480ee46fbb7e2d37f6b5fab8052498a",
        "collapsed": true,
        "_cell_guid": "79c7e3d0-c299-4dcb-8224-4455121ee9b0",
        "trusted": false,
        "id": "wGIheg05SCIO",
        "colab_type": "text"
      },
      "source": [
        "EDA"
      ]
    },
    {
      "cell_type": "markdown",
      "metadata": {
        "id": "890EcWcESCIS",
        "colab_type": "text"
      },
      "source": [
        "**Column description**\n",
        "1. Customer Number\t \n",
        "A unique company identifier \n",
        "2. Campaign Period Sales \t \n",
        "Total dollar purchased during the campaign period \n",
        "3. Historical Sales Volume \t\n",
        "Total historical dollar purchased\n",
        "4. Date of First Purchase\t\n",
        "Date of first transaction\n",
        "5. Number of Prior Year Transactions\t\n",
        "The number of transactions in the year prior to the promotion period\n",
        "6. Do Not Direct Mail Solicit\t\n",
        "Does not allow promotional mail\n",
        "7. Do Not Email\t\n",
        "Does not allow promotional email\n",
        "8. Do Not Telemarket\t\n",
        "Does not allow promotional calls\n",
        "9. Repurchase Method\t\n",
        "Method of last purchase prior to the campaign\n",
        "10. Last Transaction Channel\t\n",
        "Sales channel of last purchase prior to the campaign\n",
        "11. Desk\t\n",
        "Prior purchase of this item\n",
        "12. Executive Chair\t\n",
        "Prior purchase of this item\n",
        "13. Standard Chair\t\n",
        "Prior purchase of this item\n",
        "14. Monitor\t\n",
        "Prior purchase of this item\n",
        "15. Printer\t\n",
        "Prior purchase of this item\n",
        "16. Computer\t\n",
        "Prior purchase of this item\n",
        "17. Insurance\t\n",
        "Prior purchase of this item\n",
        "18. Toner\t\n",
        "Prior purchase of this item\n",
        "19. Office Supplies\t\n",
        "Prior purchase of this item\n",
        "20. Number of Employees\t\n",
        "Purchased data on no. of employees\n",
        "21. Language\t\n",
        "Primary language spoken"
      ]
    },
    {
      "cell_type": "code",
      "metadata": {
        "trusted": true,
        "id": "yzEi0Dx9SCIX",
        "colab_type": "code",
        "outputId": "cb626fdb-0f31-4d58-b96f-5afc3ad074c2",
        "colab": {
          "base_uri": "https://localhost:8080/",
          "height": 233
        }
      },
      "source": [
        "df_temp = pd.read_excel (r'/content/drive/My Drive/office supply/OfficeSupplyCampaignResultS7-23-19.xlsx', sheet_name='Campaign Results')\n",
        "df_temp.head(3)"
      ],
      "execution_count": 732,
      "outputs": [
        {
          "output_type": "execute_result",
          "data": {
            "text/html": [
              "<div>\n",
              "<style scoped>\n",
              "    .dataframe tbody tr th:only-of-type {\n",
              "        vertical-align: middle;\n",
              "    }\n",
              "\n",
              "    .dataframe tbody tr th {\n",
              "        vertical-align: top;\n",
              "    }\n",
              "\n",
              "    .dataframe thead th {\n",
              "        text-align: right;\n",
              "    }\n",
              "</style>\n",
              "<table border=\"1\" class=\"dataframe\">\n",
              "  <thead>\n",
              "    <tr style=\"text-align: right;\">\n",
              "      <th></th>\n",
              "      <th>Customer Number</th>\n",
              "      <th>Campaign Period Sales</th>\n",
              "      <th>Historical Sales Volume</th>\n",
              "      <th>Date of First Purchase</th>\n",
              "      <th>Number of Prior Year Transactions</th>\n",
              "      <th>Do Not Direct Mail Solicit</th>\n",
              "      <th>Do Not Email</th>\n",
              "      <th>Do Not Telemarket</th>\n",
              "      <th>Repurchase Method</th>\n",
              "      <th>Last Transaction Channel</th>\n",
              "      <th>Desk</th>\n",
              "      <th>Executive Chair</th>\n",
              "      <th>Standard Chair</th>\n",
              "      <th>Monitor</th>\n",
              "      <th>Printer</th>\n",
              "      <th>Computer</th>\n",
              "      <th>Insurance</th>\n",
              "      <th>Toner</th>\n",
              "      <th>Office Supplies</th>\n",
              "      <th>Number of Employees</th>\n",
              "      <th>Language</th>\n",
              "    </tr>\n",
              "  </thead>\n",
              "  <tbody>\n",
              "    <tr>\n",
              "      <th>0</th>\n",
              "      <td>86734.0</td>\n",
              "      <td>238.704762</td>\n",
              "      <td>146803.428571</td>\n",
              "      <td>1968-10-01</td>\n",
              "      <td>15.0</td>\n",
              "      <td>0.0</td>\n",
              "      <td>0.0</td>\n",
              "      <td>0.0</td>\n",
              "      <td>AUTO RENEW</td>\n",
              "      <td>AUTO RENEW</td>\n",
              "      <td>N</td>\n",
              "      <td>N</td>\n",
              "      <td>N</td>\n",
              "      <td>N</td>\n",
              "      <td>N</td>\n",
              "      <td>N</td>\n",
              "      <td>Y</td>\n",
              "      <td>N</td>\n",
              "      <td>Y</td>\n",
              "      <td>6-10</td>\n",
              "      <td>English</td>\n",
              "    </tr>\n",
              "    <tr>\n",
              "      <th>1</th>\n",
              "      <td>97098.0</td>\n",
              "      <td>281.680000</td>\n",
              "      <td>439984.160000</td>\n",
              "      <td>1981-06-15</td>\n",
              "      <td>22.0</td>\n",
              "      <td>0.0</td>\n",
              "      <td>0.0</td>\n",
              "      <td>0.0</td>\n",
              "      <td>NOTICE</td>\n",
              "      <td>MAIL</td>\n",
              "      <td>N</td>\n",
              "      <td>N</td>\n",
              "      <td>N</td>\n",
              "      <td>N</td>\n",
              "      <td>N</td>\n",
              "      <td>N</td>\n",
              "      <td>N</td>\n",
              "      <td>N</td>\n",
              "      <td>Y</td>\n",
              "      <td>11-50</td>\n",
              "      <td>English</td>\n",
              "    </tr>\n",
              "    <tr>\n",
              "      <th>2</th>\n",
              "      <td>100836.0</td>\n",
              "      <td>432.857143</td>\n",
              "      <td>970465.714286</td>\n",
              "      <td>1962-11-01</td>\n",
              "      <td>19.0</td>\n",
              "      <td>0.0</td>\n",
              "      <td>0.0</td>\n",
              "      <td>0.0</td>\n",
              "      <td>NOTICE</td>\n",
              "      <td>MAIL</td>\n",
              "      <td>N</td>\n",
              "      <td>N</td>\n",
              "      <td>N</td>\n",
              "      <td>N</td>\n",
              "      <td>N</td>\n",
              "      <td>N</td>\n",
              "      <td>N</td>\n",
              "      <td>N</td>\n",
              "      <td>Y</td>\n",
              "      <td>6-10</td>\n",
              "      <td>English</td>\n",
              "    </tr>\n",
              "  </tbody>\n",
              "</table>\n",
              "</div>"
            ],
            "text/plain": [
              "   Customer Number  Campaign Period Sales  ...  Number of Employees Language\n",
              "0          86734.0             238.704762  ...                 6-10  English\n",
              "1          97098.0             281.680000  ...                11-50  English\n",
              "2         100836.0             432.857143  ...                 6-10  English\n",
              "\n",
              "[3 rows x 21 columns]"
            ]
          },
          "metadata": {
            "tags": []
          },
          "execution_count": 732
        }
      ]
    },
    {
      "cell_type": "code",
      "metadata": {
        "trusted": true,
        "id": "5gEY-NeLSCIr",
        "colab_type": "code",
        "outputId": "976fbcb6-b0d6-4745-ea17-6d836944f3b6",
        "colab": {
          "base_uri": "https://localhost:8080/",
          "height": 503
        }
      },
      "source": [
        "df_temp.info()"
      ],
      "execution_count": 733,
      "outputs": [
        {
          "output_type": "stream",
          "text": [
            "<class 'pandas.core.frame.DataFrame'>\n",
            "RangeIndex: 16173 entries, 0 to 16172\n",
            "Data columns (total 21 columns):\n",
            " #   Column                             Non-Null Count  Dtype         \n",
            "---  ------                             --------------  -----         \n",
            " 0   Customer Number                    16172 non-null  float64       \n",
            " 1   Campaign Period Sales              16172 non-null  float64       \n",
            " 2   Historical Sales Volume            16172 non-null  float64       \n",
            " 3   Date of First Purchase             16172 non-null  datetime64[ns]\n",
            " 4   Number of Prior Year Transactions  16172 non-null  float64       \n",
            " 5   Do Not Direct Mail Solicit         16172 non-null  float64       \n",
            " 6   Do Not Email                       16172 non-null  float64       \n",
            " 7   Do Not Telemarket                  16172 non-null  float64       \n",
            " 8   Repurchase Method                  16172 non-null  object        \n",
            " 9   Last Transaction Channel           15730 non-null  object        \n",
            " 10  Desk                               16173 non-null  object        \n",
            " 11  Executive Chair                    16171 non-null  object        \n",
            " 12  Standard Chair                     16171 non-null  object        \n",
            " 13  Monitor                            16171 non-null  object        \n",
            " 14  Printer                            16171 non-null  object        \n",
            " 15  Computer                           16172 non-null  object        \n",
            " 16  Insurance                          16170 non-null  object        \n",
            " 17  Toner                              16170 non-null  object        \n",
            " 18  Office Supplies                    16172 non-null  object        \n",
            " 19  Number of Employees                16170 non-null  object        \n",
            " 20  Language                           11701 non-null  object        \n",
            "dtypes: datetime64[ns](1), float64(7), object(13)\n",
            "memory usage: 2.6+ MB\n"
          ],
          "name": "stdout"
        }
      ]
    },
    {
      "cell_type": "markdown",
      "metadata": {
        "id": "NVlTEoaHSCI8",
        "colab_type": "text"
      },
      "source": [
        "refresh database"
      ]
    },
    {
      "cell_type": "code",
      "metadata": {
        "trusted": true,
        "id": "W9VGuDQ6SCJA",
        "colab_type": "code",
        "colab": {}
      },
      "source": [
        "df = df_temp"
      ],
      "execution_count": 0,
      "outputs": []
    },
    {
      "cell_type": "markdown",
      "metadata": {
        "id": "8mGyyoxeSCJS",
        "colab_type": "text"
      },
      "source": [
        "check duplicate record"
      ]
    },
    {
      "cell_type": "code",
      "metadata": {
        "trusted": true,
        "id": "2CWhyvFmSCJX",
        "colab_type": "code",
        "outputId": "b0bbcfe0-3781-43b9-c759-a7509a46db88",
        "colab": {
          "base_uri": "https://localhost:8080/",
          "height": 399
        }
      },
      "source": [
        "df.nunique()"
      ],
      "execution_count": 735,
      "outputs": [
        {
          "output_type": "execute_result",
          "data": {
            "text/plain": [
              "Customer Number                      16172\n",
              "Campaign Period Sales                 4322\n",
              "Historical Sales Volume              16162\n",
              "Date of First Purchase                3493\n",
              "Number of Prior Year Transactions       61\n",
              "Do Not Direct Mail Solicit               2\n",
              "Do Not Email                             2\n",
              "Do Not Telemarket                        2\n",
              "Repurchase Method                        3\n",
              "Last Transaction Channel                 8\n",
              "Desk                                     4\n",
              "Executive Chair                          2\n",
              "Standard Chair                           2\n",
              "Monitor                                  2\n",
              "Printer                                  2\n",
              "Computer                                 3\n",
              "Insurance                                3\n",
              "Toner                                    3\n",
              "Office Supplies                          2\n",
              "Number of Employees                      7\n",
              "Language                                18\n",
              "dtype: int64"
            ]
          },
          "metadata": {
            "tags": []
          },
          "execution_count": 735
        }
      ]
    },
    {
      "cell_type": "markdown",
      "metadata": {
        "id": "IKyXKlhXSCKY",
        "colab_type": "text"
      },
      "source": [
        "Data cleaning & mapping"
      ]
    },
    {
      "cell_type": "markdown",
      "metadata": {
        "id": "OsHXKeMWSCJm",
        "colab_type": "text"
      },
      "source": [
        "Does Campaign Period Sales consist only the transaction directly to the campaign or both this campaign transaction and normal transaction \n",
        "\n",
        "Should we take Campaign Period Sales where >0 as participate and =0 as not participate\n",
        "\n",
        "Or get a mean of the dollar purchased based on Number of Prior Year Transactions, and then take Campaign Period Sales minus mean where >mean as participate and =mean as not participate\n",
        "\n"
      ]
    },
    {
      "cell_type": "code",
      "metadata": {
        "trusted": true,
        "id": "7oc837UISCJp",
        "colab_type": "code",
        "outputId": "bc163348-8e4b-4683-b829-c9e423e7423c",
        "colab": {
          "base_uri": "https://localhost:8080/",
          "height": 173
        }
      },
      "source": [
        "df['Campaign Period Sales'].describe()"
      ],
      "execution_count": 736,
      "outputs": [
        {
          "output_type": "execute_result",
          "data": {
            "text/plain": [
              "count    16172.000000\n",
              "mean       245.896967\n",
              "std        720.317450\n",
              "min       -566.500000\n",
              "25%          0.000000\n",
              "50%          0.000000\n",
              "75%        145.669048\n",
              "max       8936.850000\n",
              "Name: Campaign Period Sales, dtype: float64"
            ]
          },
          "metadata": {
            "tags": []
          },
          "execution_count": 736
        }
      ]
    },
    {
      "cell_type": "code",
      "metadata": {
        "trusted": true,
        "id": "i6C6DL4WSCJ9",
        "colab_type": "code",
        "outputId": "a3772be6-80fc-49d4-96da-01f296ffd111",
        "colab": {
          "base_uri": "https://localhost:8080/",
          "height": 173
        }
      },
      "source": [
        "df.loc[df['Campaign Period Sales'] > 0, 'Campaign Period Sales'] = 1\n",
        "df.loc[df['Campaign Period Sales'] == 0, 'Campaign Period Sales'] = 0\n",
        "df['Campaign Period Sales'].value_counts()  "
      ],
      "execution_count": 737,
      "outputs": [
        {
          "output_type": "execute_result",
          "data": {
            "text/plain": [
              " 0.000000      11787\n",
              " 1.000000       4379\n",
              "-140.960000        1\n",
              "-161.166667        1\n",
              "-566.500000        1\n",
              "-119.333333        1\n",
              "-421.833333        1\n",
              "-14.320000         1\n",
              "Name: Campaign Period Sales, dtype: int64"
            ]
          },
          "metadata": {
            "tags": []
          },
          "execution_count": 737
        }
      ]
    },
    {
      "cell_type": "markdown",
      "metadata": {
        "id": "mrWVfv64SCKJ",
        "colab_type": "raw"
      },
      "source": [
        "negative value indicate refund, will drop"
      ]
    },
    {
      "cell_type": "code",
      "metadata": {
        "trusted": true,
        "id": "uyLjSRu_SCKM",
        "colab_type": "code",
        "outputId": "1e7dbc0c-55e5-41e3-a55c-cc9049137f55",
        "colab": {
          "base_uri": "https://localhost:8080/",
          "height": 69
        }
      },
      "source": [
        "df = df[df['Campaign Period Sales'] >= 0]\n",
        "df['Campaign Period Sales'].value_counts()  "
      ],
      "execution_count": 738,
      "outputs": [
        {
          "output_type": "execute_result",
          "data": {
            "text/plain": [
              "0.0    11787\n",
              "1.0     4379\n",
              "Name: Campaign Period Sales, dtype: int64"
            ]
          },
          "metadata": {
            "tags": []
          },
          "execution_count": 738
        }
      ]
    },
    {
      "cell_type": "code",
      "metadata": {
        "trusted": true,
        "id": "4Jsn5cGESCKa",
        "colab_type": "code",
        "colab": {}
      },
      "source": [
        "df = df.drop('Customer Number', axis = 1)"
      ],
      "execution_count": 0,
      "outputs": []
    },
    {
      "cell_type": "markdown",
      "metadata": {
        "id": "VLUlIVAGo72h",
        "colab_type": "text"
      },
      "source": [
        "Create new column for account age\n"
      ]
    },
    {
      "cell_type": "code",
      "metadata": {
        "id": "e18sWSKfxDP_",
        "colab_type": "code",
        "colab": {}
      },
      "source": [
        "from datetime import datetime\n",
        "from dateutil.relativedelta import relativedelta\n",
        "now = datetime.now()  \n",
        "\n",
        "df['diff_years'] = ((now - df['Date of First Purchase'])/365).dt.days"
      ],
      "execution_count": 0,
      "outputs": []
    },
    {
      "cell_type": "code",
      "metadata": {
        "id": "bGUaRtWwmTz7",
        "colab_type": "code",
        "outputId": "eb435717-9160-45d3-b379-27432511e3c9",
        "colab": {
          "base_uri": "https://localhost:8080/",
          "height": 173
        }
      },
      "source": [
        "df['diff_years'].describe()"
      ],
      "execution_count": 741,
      "outputs": [
        {
          "output_type": "execute_result",
          "data": {
            "text/plain": [
              "count    16166.000000\n",
              "mean        26.634418\n",
              "std         10.958774\n",
              "min          1.000000\n",
              "25%         22.000000\n",
              "50%         26.000000\n",
              "75%         32.000000\n",
              "max         94.000000\n",
              "Name: diff_years, dtype: float64"
            ]
          },
          "metadata": {
            "tags": []
          },
          "execution_count": 741
        }
      ]
    },
    {
      "cell_type": "markdown",
      "metadata": {
        "id": "x0DsOcdvtDWx",
        "colab_type": "text"
      },
      "source": [
        "not much of a recent buyer identified"
      ]
    },
    {
      "cell_type": "code",
      "metadata": {
        "id": "_4pOmnAbp5Yq",
        "colab_type": "code",
        "colab": {
          "base_uri": "https://localhost:8080/",
          "height": 208
        },
        "outputId": "8113a4da-a09c-4cfb-ac97-ef7bec9bef4d"
      },
      "source": [
        "df['diff_years'].value_counts(bins=10)"
      ],
      "execution_count": 742,
      "outputs": [
        {
          "output_type": "execute_result",
          "data": {
            "text/plain": [
              "(19.6, 28.9]     6898\n",
              "(28.9, 38.2]     4203\n",
              "(0.906, 10.3]    1545\n",
              "(10.3, 19.6]     1489\n",
              "(38.2, 47.5]     1397\n",
              "(47.5, 56.8]      500\n",
              "(56.8, 66.1]      119\n",
              "(66.1, 75.4]       14\n",
              "(84.7, 94.0]        1\n",
              "(75.4, 84.7]        0\n",
              "Name: diff_years, dtype: int64"
            ]
          },
          "metadata": {
            "tags": []
          },
          "execution_count": 742
        }
      ]
    },
    {
      "cell_type": "markdown",
      "metadata": {
        "id": "wf8afO4qo-ps",
        "colab_type": "text"
      },
      "source": [
        "Create new column for sales volume per year\n",
        "\n",
        "Has very low correlation to label, will drop"
      ]
    },
    {
      "cell_type": "code",
      "metadata": {
        "id": "64KwbjhCn2_8",
        "colab_type": "code",
        "colab": {}
      },
      "source": [
        "#df['salesVolumePerYear'] = df['Historical Sales Volume'] / df['diff_years'] \n",
        "#df['salesVolumePerYear'].describe()"
      ],
      "execution_count": 0,
      "outputs": []
    },
    {
      "cell_type": "markdown",
      "metadata": {
        "id": "MtktJtSTpWBa",
        "colab_type": "text"
      },
      "source": [
        "Create new column for sales order per year\n",
        "\n",
        "Has very low correlation to label, will drop"
      ]
    },
    {
      "cell_type": "code",
      "metadata": {
        "id": "cOKWIlukpQga",
        "colab_type": "code",
        "colab": {}
      },
      "source": [
        "#df['salesOrderPerYear'] = df['Number of Prior Year Transactions'] / df['diff_years'] \n",
        "#df['salesOrderPerYear'].describe()"
      ],
      "execution_count": 0,
      "outputs": []
    },
    {
      "cell_type": "code",
      "metadata": {
        "trusted": true,
        "id": "lkIi11kySCKm",
        "colab_type": "code",
        "outputId": "9239e30d-2168-4e2a-eab1-1a71f9894455",
        "colab": {
          "base_uri": "https://localhost:8080/",
          "height": 69
        }
      },
      "source": [
        "df['Do Not Direct Mail Solicit'].value_counts()"
      ],
      "execution_count": 745,
      "outputs": [
        {
          "output_type": "execute_result",
          "data": {
            "text/plain": [
              "0.0    14425\n",
              "1.0     1741\n",
              "Name: Do Not Direct Mail Solicit, dtype: int64"
            ]
          },
          "metadata": {
            "tags": []
          },
          "execution_count": 745
        }
      ]
    },
    {
      "cell_type": "code",
      "metadata": {
        "trusted": true,
        "id": "IfEGHLE1SCK0",
        "colab_type": "code",
        "outputId": "9985b644-4da4-4b93-8f31-f676d305c2e7",
        "colab": {
          "base_uri": "https://localhost:8080/",
          "height": 69
        }
      },
      "source": [
        "df['Do Not Email'].value_counts()    "
      ],
      "execution_count": 746,
      "outputs": [
        {
          "output_type": "execute_result",
          "data": {
            "text/plain": [
              "0.0    12745\n",
              "1.0     3421\n",
              "Name: Do Not Email, dtype: int64"
            ]
          },
          "metadata": {
            "tags": []
          },
          "execution_count": 746
        }
      ]
    },
    {
      "cell_type": "code",
      "metadata": {
        "trusted": true,
        "id": "mlgAQ6PaSCLA",
        "colab_type": "code",
        "outputId": "33af2240-f45a-48dd-af64-174bb58e1223",
        "colab": {
          "base_uri": "https://localhost:8080/",
          "height": 69
        }
      },
      "source": [
        "df['Do Not Telemarket'].value_counts()"
      ],
      "execution_count": 747,
      "outputs": [
        {
          "output_type": "execute_result",
          "data": {
            "text/plain": [
              "0.0    14590\n",
              "1.0     1576\n",
              "Name: Do Not Telemarket, dtype: int64"
            ]
          },
          "metadata": {
            "tags": []
          },
          "execution_count": 747
        }
      ]
    },
    {
      "cell_type": "code",
      "metadata": {
        "trusted": true,
        "id": "A6LSEusDSCLL",
        "colab_type": "code",
        "outputId": "355f7d90-f268-4ffc-887b-3071db33f586",
        "colab": {
          "base_uri": "https://localhost:8080/",
          "height": 86
        }
      },
      "source": [
        "df['Repurchase Method'].value_counts()"
      ],
      "execution_count": 748,
      "outputs": [
        {
          "output_type": "execute_result",
          "data": {
            "text/plain": [
              "NOTICE          11897\n",
              "AUTO RENEW       4268\n",
              "PAYMENT PLAN        1\n",
              "Name: Repurchase Method, dtype: int64"
            ]
          },
          "metadata": {
            "tags": []
          },
          "execution_count": 748
        }
      ]
    },
    {
      "cell_type": "code",
      "metadata": {
        "trusted": true,
        "id": "QURb8pm8SCLW",
        "colab_type": "code",
        "outputId": "4e12d356-9bf1-4712-fe55-a50b9c407379",
        "colab": {
          "base_uri": "https://localhost:8080/",
          "height": 173
        }
      },
      "source": [
        "df['Last Transaction Channel'].value_counts()"
      ],
      "execution_count": 749,
      "outputs": [
        {
          "output_type": "execute_result",
          "data": {
            "text/plain": [
              "MAIL              7766\n",
              "AUTO RENEW        3141\n",
              "WEB               2645\n",
              "PHONE             1096\n",
              "BRANCH (POS)       633\n",
              "BRANCH (PHONE)     411\n",
              "BILLING             18\n",
              "IT                  14\n",
              "Name: Last Transaction Channel, dtype: int64"
            ]
          },
          "metadata": {
            "tags": []
          },
          "execution_count": 749
        }
      ]
    },
    {
      "cell_type": "code",
      "metadata": {
        "trusted": true,
        "id": "JUr36KJ5SCLh",
        "colab_type": "code",
        "outputId": "5cbd1f20-c216-49f0-a679-2faac07505fd",
        "colab": {
          "base_uri": "https://localhost:8080/",
          "height": 34
        }
      },
      "source": [
        "df['Last Transaction Channel'].isnull().sum()"
      ],
      "execution_count": 750,
      "outputs": [
        {
          "output_type": "execute_result",
          "data": {
            "text/plain": [
              "442"
            ]
          },
          "metadata": {
            "tags": []
          },
          "execution_count": 750
        }
      ]
    },
    {
      "cell_type": "code",
      "metadata": {
        "trusted": true,
        "id": "oEK-Zo-BSCLq",
        "colab_type": "code",
        "colab": {}
      },
      "source": [
        "df = df[df['Last Transaction Channel'].notna()]"
      ],
      "execution_count": 0,
      "outputs": []
    },
    {
      "cell_type": "code",
      "metadata": {
        "trusted": true,
        "id": "0xPoyvZDSCLz",
        "colab_type": "code",
        "outputId": "be0c774d-8cc6-419d-f7f8-c8503b9d7cae",
        "colab": {
          "base_uri": "https://localhost:8080/",
          "height": 86
        }
      },
      "source": [
        "df['Desk'].value_counts()"
      ],
      "execution_count": 752,
      "outputs": [
        {
          "output_type": "execute_result",
          "data": {
            "text/plain": [
              "N     14837\n",
              "Y       886\n",
              "YY        1\n",
              "Name: Desk, dtype: int64"
            ]
          },
          "metadata": {
            "tags": []
          },
          "execution_count": 752
        }
      ]
    },
    {
      "cell_type": "markdown",
      "metadata": {
        "id": "xNvIvKxlSCL_",
        "colab_type": "text"
      },
      "source": [
        "There is a problem with Desk column, 1 extra line and 1 incorrect value\n",
        "\n",
        "Find out the location of this adnormal to decide next action\n",
        "\n",
        "Incorrect value will map later"
      ]
    },
    {
      "cell_type": "code",
      "metadata": {
        "trusted": true,
        "id": "T9k66hdKSCMA",
        "colab_type": "code",
        "outputId": "a49b1301-ecf5-4143-bf89-041ac1334198",
        "colab": {
          "base_uri": "https://localhost:8080/",
          "height": 34
        }
      },
      "source": [
        "print(df[df['Desk']==911].index.values)"
      ],
      "execution_count": 753,
      "outputs": [
        {
          "output_type": "stream",
          "text": [
            "[]\n"
          ],
          "name": "stdout"
        }
      ]
    },
    {
      "cell_type": "code",
      "metadata": {
        "trusted": true,
        "id": "Z_BDlA2dSCMG",
        "colab_type": "code",
        "outputId": "c3ae97d0-f78c-49b3-c549-12f0846b477f",
        "colab": {
          "base_uri": "https://localhost:8080/",
          "height": 216
        }
      },
      "source": [
        "df.tail(3)"
      ],
      "execution_count": 754,
      "outputs": [
        {
          "output_type": "execute_result",
          "data": {
            "text/html": [
              "<div>\n",
              "<style scoped>\n",
              "    .dataframe tbody tr th:only-of-type {\n",
              "        vertical-align: middle;\n",
              "    }\n",
              "\n",
              "    .dataframe tbody tr th {\n",
              "        vertical-align: top;\n",
              "    }\n",
              "\n",
              "    .dataframe thead th {\n",
              "        text-align: right;\n",
              "    }\n",
              "</style>\n",
              "<table border=\"1\" class=\"dataframe\">\n",
              "  <thead>\n",
              "    <tr style=\"text-align: right;\">\n",
              "      <th></th>\n",
              "      <th>Campaign Period Sales</th>\n",
              "      <th>Historical Sales Volume</th>\n",
              "      <th>Date of First Purchase</th>\n",
              "      <th>Number of Prior Year Transactions</th>\n",
              "      <th>Do Not Direct Mail Solicit</th>\n",
              "      <th>Do Not Email</th>\n",
              "      <th>Do Not Telemarket</th>\n",
              "      <th>Repurchase Method</th>\n",
              "      <th>Last Transaction Channel</th>\n",
              "      <th>Desk</th>\n",
              "      <th>Executive Chair</th>\n",
              "      <th>Standard Chair</th>\n",
              "      <th>Monitor</th>\n",
              "      <th>Printer</th>\n",
              "      <th>Computer</th>\n",
              "      <th>Insurance</th>\n",
              "      <th>Toner</th>\n",
              "      <th>Office Supplies</th>\n",
              "      <th>Number of Employees</th>\n",
              "      <th>Language</th>\n",
              "      <th>diff_years</th>\n",
              "    </tr>\n",
              "  </thead>\n",
              "  <tbody>\n",
              "    <tr>\n",
              "      <th>16169</th>\n",
              "      <td>0.0</td>\n",
              "      <td>2.355030e+06</td>\n",
              "      <td>1995-01-01</td>\n",
              "      <td>6.0</td>\n",
              "      <td>0.0</td>\n",
              "      <td>0.0</td>\n",
              "      <td>0.0</td>\n",
              "      <td>NOTICE</td>\n",
              "      <td>MAIL</td>\n",
              "      <td>N</td>\n",
              "      <td>N</td>\n",
              "      <td>N</td>\n",
              "      <td>N</td>\n",
              "      <td>N</td>\n",
              "      <td>N</td>\n",
              "      <td>N</td>\n",
              "      <td>N</td>\n",
              "      <td>N</td>\n",
              "      <td></td>\n",
              "      <td>NaN</td>\n",
              "      <td>25</td>\n",
              "    </tr>\n",
              "    <tr>\n",
              "      <th>16170</th>\n",
              "      <td>0.0</td>\n",
              "      <td>5.845700e+05</td>\n",
              "      <td>1996-02-01</td>\n",
              "      <td>2.0</td>\n",
              "      <td>0.0</td>\n",
              "      <td>1.0</td>\n",
              "      <td>0.0</td>\n",
              "      <td>NOTICE</td>\n",
              "      <td>MAIL</td>\n",
              "      <td>N</td>\n",
              "      <td>N</td>\n",
              "      <td>N</td>\n",
              "      <td>N</td>\n",
              "      <td>N</td>\n",
              "      <td>N</td>\n",
              "      <td>N</td>\n",
              "      <td>N</td>\n",
              "      <td>N</td>\n",
              "      <td></td>\n",
              "      <td>NaN</td>\n",
              "      <td>24</td>\n",
              "    </tr>\n",
              "    <tr>\n",
              "      <th>16171</th>\n",
              "      <td>0.0</td>\n",
              "      <td>1.949425e+06</td>\n",
              "      <td>1998-03-15</td>\n",
              "      <td>4.0</td>\n",
              "      <td>0.0</td>\n",
              "      <td>0.0</td>\n",
              "      <td>0.0</td>\n",
              "      <td>NOTICE</td>\n",
              "      <td>PHONE</td>\n",
              "      <td>N</td>\n",
              "      <td>N</td>\n",
              "      <td>N</td>\n",
              "      <td>N</td>\n",
              "      <td>N</td>\n",
              "      <td>N</td>\n",
              "      <td>N</td>\n",
              "      <td>N</td>\n",
              "      <td>N</td>\n",
              "      <td></td>\n",
              "      <td>NaN</td>\n",
              "      <td>22</td>\n",
              "    </tr>\n",
              "  </tbody>\n",
              "</table>\n",
              "</div>"
            ],
            "text/plain": [
              "       Campaign Period Sales  Historical Sales Volume  ... Language  diff_years\n",
              "16169                    0.0             2.355030e+06  ...      NaN          25\n",
              "16170                    0.0             5.845700e+05  ...      NaN          24\n",
              "16171                    0.0             1.949425e+06  ...      NaN          22\n",
              "\n",
              "[3 rows x 21 columns]"
            ]
          },
          "metadata": {
            "tags": []
          },
          "execution_count": 754
        }
      ]
    },
    {
      "cell_type": "code",
      "metadata": {
        "trusted": true,
        "id": "1MmZdyUBSCML",
        "colab_type": "code",
        "outputId": "141f2655-3a25-4fa1-dde1-163927394fe0",
        "colab": {
          "base_uri": "https://localhost:8080/",
          "height": 216
        }
      },
      "source": [
        "df = df[df.Desk != 911]\n",
        "df.tail(3)"
      ],
      "execution_count": 755,
      "outputs": [
        {
          "output_type": "execute_result",
          "data": {
            "text/html": [
              "<div>\n",
              "<style scoped>\n",
              "    .dataframe tbody tr th:only-of-type {\n",
              "        vertical-align: middle;\n",
              "    }\n",
              "\n",
              "    .dataframe tbody tr th {\n",
              "        vertical-align: top;\n",
              "    }\n",
              "\n",
              "    .dataframe thead th {\n",
              "        text-align: right;\n",
              "    }\n",
              "</style>\n",
              "<table border=\"1\" class=\"dataframe\">\n",
              "  <thead>\n",
              "    <tr style=\"text-align: right;\">\n",
              "      <th></th>\n",
              "      <th>Campaign Period Sales</th>\n",
              "      <th>Historical Sales Volume</th>\n",
              "      <th>Date of First Purchase</th>\n",
              "      <th>Number of Prior Year Transactions</th>\n",
              "      <th>Do Not Direct Mail Solicit</th>\n",
              "      <th>Do Not Email</th>\n",
              "      <th>Do Not Telemarket</th>\n",
              "      <th>Repurchase Method</th>\n",
              "      <th>Last Transaction Channel</th>\n",
              "      <th>Desk</th>\n",
              "      <th>Executive Chair</th>\n",
              "      <th>Standard Chair</th>\n",
              "      <th>Monitor</th>\n",
              "      <th>Printer</th>\n",
              "      <th>Computer</th>\n",
              "      <th>Insurance</th>\n",
              "      <th>Toner</th>\n",
              "      <th>Office Supplies</th>\n",
              "      <th>Number of Employees</th>\n",
              "      <th>Language</th>\n",
              "      <th>diff_years</th>\n",
              "    </tr>\n",
              "  </thead>\n",
              "  <tbody>\n",
              "    <tr>\n",
              "      <th>16169</th>\n",
              "      <td>0.0</td>\n",
              "      <td>2.355030e+06</td>\n",
              "      <td>1995-01-01</td>\n",
              "      <td>6.0</td>\n",
              "      <td>0.0</td>\n",
              "      <td>0.0</td>\n",
              "      <td>0.0</td>\n",
              "      <td>NOTICE</td>\n",
              "      <td>MAIL</td>\n",
              "      <td>N</td>\n",
              "      <td>N</td>\n",
              "      <td>N</td>\n",
              "      <td>N</td>\n",
              "      <td>N</td>\n",
              "      <td>N</td>\n",
              "      <td>N</td>\n",
              "      <td>N</td>\n",
              "      <td>N</td>\n",
              "      <td></td>\n",
              "      <td>NaN</td>\n",
              "      <td>25</td>\n",
              "    </tr>\n",
              "    <tr>\n",
              "      <th>16170</th>\n",
              "      <td>0.0</td>\n",
              "      <td>5.845700e+05</td>\n",
              "      <td>1996-02-01</td>\n",
              "      <td>2.0</td>\n",
              "      <td>0.0</td>\n",
              "      <td>1.0</td>\n",
              "      <td>0.0</td>\n",
              "      <td>NOTICE</td>\n",
              "      <td>MAIL</td>\n",
              "      <td>N</td>\n",
              "      <td>N</td>\n",
              "      <td>N</td>\n",
              "      <td>N</td>\n",
              "      <td>N</td>\n",
              "      <td>N</td>\n",
              "      <td>N</td>\n",
              "      <td>N</td>\n",
              "      <td>N</td>\n",
              "      <td></td>\n",
              "      <td>NaN</td>\n",
              "      <td>24</td>\n",
              "    </tr>\n",
              "    <tr>\n",
              "      <th>16171</th>\n",
              "      <td>0.0</td>\n",
              "      <td>1.949425e+06</td>\n",
              "      <td>1998-03-15</td>\n",
              "      <td>4.0</td>\n",
              "      <td>0.0</td>\n",
              "      <td>0.0</td>\n",
              "      <td>0.0</td>\n",
              "      <td>NOTICE</td>\n",
              "      <td>PHONE</td>\n",
              "      <td>N</td>\n",
              "      <td>N</td>\n",
              "      <td>N</td>\n",
              "      <td>N</td>\n",
              "      <td>N</td>\n",
              "      <td>N</td>\n",
              "      <td>N</td>\n",
              "      <td>N</td>\n",
              "      <td>N</td>\n",
              "      <td></td>\n",
              "      <td>NaN</td>\n",
              "      <td>22</td>\n",
              "    </tr>\n",
              "  </tbody>\n",
              "</table>\n",
              "</div>"
            ],
            "text/plain": [
              "       Campaign Period Sales  Historical Sales Volume  ... Language  diff_years\n",
              "16169                    0.0             2.355030e+06  ...      NaN          25\n",
              "16170                    0.0             5.845700e+05  ...      NaN          24\n",
              "16171                    0.0             1.949425e+06  ...      NaN          22\n",
              "\n",
              "[3 rows x 21 columns]"
            ]
          },
          "metadata": {
            "tags": []
          },
          "execution_count": 755
        }
      ]
    },
    {
      "cell_type": "code",
      "metadata": {
        "trusted": true,
        "id": "crBwSaofSCMR",
        "colab_type": "code",
        "outputId": "32e1c177-bb29-4639-a78d-e903d4c42320",
        "colab": {
          "base_uri": "https://localhost:8080/",
          "height": 86
        }
      },
      "source": [
        "df['Desk'].value_counts()"
      ],
      "execution_count": 756,
      "outputs": [
        {
          "output_type": "execute_result",
          "data": {
            "text/plain": [
              "N     14837\n",
              "Y       886\n",
              "YY        1\n",
              "Name: Desk, dtype: int64"
            ]
          },
          "metadata": {
            "tags": []
          },
          "execution_count": 756
        }
      ]
    },
    {
      "cell_type": "code",
      "metadata": {
        "trusted": true,
        "id": "dOGzNR5LSCMW",
        "colab_type": "code",
        "colab": {}
      },
      "source": [
        "df['Desk'] = df['Desk'].map( {'N': 0, 'Y': 1, 'YY': 1} )"
      ],
      "execution_count": 0,
      "outputs": []
    },
    {
      "cell_type": "code",
      "metadata": {
        "trusted": true,
        "id": "aaDFe_9KSCMc",
        "colab_type": "code",
        "outputId": "2c16d916-4f0a-4079-e711-9abe617b398d",
        "colab": {
          "base_uri": "https://localhost:8080/",
          "height": 69
        }
      },
      "source": [
        "df['Desk'].value_counts()"
      ],
      "execution_count": 758,
      "outputs": [
        {
          "output_type": "execute_result",
          "data": {
            "text/plain": [
              "0    14837\n",
              "1      887\n",
              "Name: Desk, dtype: int64"
            ]
          },
          "metadata": {
            "tags": []
          },
          "execution_count": 758
        }
      ]
    },
    {
      "cell_type": "code",
      "metadata": {
        "trusted": true,
        "id": "Wd6A5j44SCMk",
        "colab_type": "code",
        "outputId": "728b883f-d7c0-42ab-97ef-b51567b992cc",
        "colab": {
          "base_uri": "https://localhost:8080/",
          "height": 69
        }
      },
      "source": [
        "df['Executive Chair'].value_counts()"
      ],
      "execution_count": 759,
      "outputs": [
        {
          "output_type": "execute_result",
          "data": {
            "text/plain": [
              "N    14592\n",
              "Y     1131\n",
              "Name: Executive Chair, dtype: int64"
            ]
          },
          "metadata": {
            "tags": []
          },
          "execution_count": 759
        }
      ]
    },
    {
      "cell_type": "code",
      "metadata": {
        "trusted": true,
        "id": "Sj8N538VSCMs",
        "colab_type": "code",
        "colab": {}
      },
      "source": [
        "df['Executive Chair'] = df['Executive Chair'].map( {'N': 0, 'Y': 1} )\n",
        "df['Executive Chair'].replace('', np.nan, inplace=True)\n",
        "#df.dropna(subset=['Executive Chair'], inplace=True)"
      ],
      "execution_count": 0,
      "outputs": []
    },
    {
      "cell_type": "code",
      "metadata": {
        "trusted": true,
        "id": "UeAJCnShSCMy",
        "colab_type": "code",
        "outputId": "2fcfec2a-11af-42a1-91e0-3c9c89217a09",
        "colab": {
          "base_uri": "https://localhost:8080/",
          "height": 69
        }
      },
      "source": [
        "df['Executive Chair'].value_counts()"
      ],
      "execution_count": 761,
      "outputs": [
        {
          "output_type": "execute_result",
          "data": {
            "text/plain": [
              "0.0    14592\n",
              "1.0     1131\n",
              "Name: Executive Chair, dtype: int64"
            ]
          },
          "metadata": {
            "tags": []
          },
          "execution_count": 761
        }
      ]
    },
    {
      "cell_type": "code",
      "metadata": {
        "trusted": true,
        "id": "oUw_f4HvSCM3",
        "colab_type": "code",
        "outputId": "aecb7fbc-a385-4e72-f0e5-b08a962c964c",
        "colab": {
          "base_uri": "https://localhost:8080/",
          "height": 69
        }
      },
      "source": [
        "df['Standard Chair'].value_counts()\n"
      ],
      "execution_count": 762,
      "outputs": [
        {
          "output_type": "execute_result",
          "data": {
            "text/plain": [
              "N    15452\n",
              "Y      271\n",
              "Name: Standard Chair, dtype: int64"
            ]
          },
          "metadata": {
            "tags": []
          },
          "execution_count": 762
        }
      ]
    },
    {
      "cell_type": "code",
      "metadata": {
        "trusted": true,
        "id": "3NA72luSSCM8",
        "colab_type": "code",
        "outputId": "7c40ee4a-c213-4ceb-895e-1b22c70f90c4",
        "colab": {
          "base_uri": "https://localhost:8080/",
          "height": 69
        }
      },
      "source": [
        "df['Standard Chair'] = df['Standard Chair'].map( {'N': 0, 'Y': 1} )\n",
        "\n",
        "df['Standard Chair'].value_counts()"
      ],
      "execution_count": 763,
      "outputs": [
        {
          "output_type": "execute_result",
          "data": {
            "text/plain": [
              "0.0    15452\n",
              "1.0      271\n",
              "Name: Standard Chair, dtype: int64"
            ]
          },
          "metadata": {
            "tags": []
          },
          "execution_count": 763
        }
      ]
    },
    {
      "cell_type": "code",
      "metadata": {
        "trusted": true,
        "id": "hn5EnnfESCND",
        "colab_type": "code",
        "outputId": "27f87b91-4d26-480e-93d6-4b465857fc03",
        "colab": {
          "base_uri": "https://localhost:8080/",
          "height": 69
        }
      },
      "source": [
        "df['Monitor'].value_counts()"
      ],
      "execution_count": 764,
      "outputs": [
        {
          "output_type": "execute_result",
          "data": {
            "text/plain": [
              "N    15431\n",
              "Y      292\n",
              "Name: Monitor, dtype: int64"
            ]
          },
          "metadata": {
            "tags": []
          },
          "execution_count": 764
        }
      ]
    },
    {
      "cell_type": "code",
      "metadata": {
        "trusted": true,
        "id": "6lKvaJWbSCNJ",
        "colab_type": "code",
        "outputId": "1d7cae58-6cb3-4930-dc72-24344e377658",
        "colab": {
          "base_uri": "https://localhost:8080/",
          "height": 69
        }
      },
      "source": [
        "df['Monitor'] = df['Monitor'].map( {'N': 0, 'Y': 1} )\n",
        "df['Monitor'].value_counts()"
      ],
      "execution_count": 765,
      "outputs": [
        {
          "output_type": "execute_result",
          "data": {
            "text/plain": [
              "0.0    15431\n",
              "1.0      292\n",
              "Name: Monitor, dtype: int64"
            ]
          },
          "metadata": {
            "tags": []
          },
          "execution_count": 765
        }
      ]
    },
    {
      "cell_type": "code",
      "metadata": {
        "trusted": true,
        "id": "8D2pYgYLSCNR",
        "colab_type": "code",
        "outputId": "67d5da7a-ef99-4f3d-e687-c3cb4cb76fb5",
        "colab": {
          "base_uri": "https://localhost:8080/",
          "height": 69
        }
      },
      "source": [
        "df['Printer'].value_counts()"
      ],
      "execution_count": 766,
      "outputs": [
        {
          "output_type": "execute_result",
          "data": {
            "text/plain": [
              "N    15305\n",
              "Y      418\n",
              "Name: Printer, dtype: int64"
            ]
          },
          "metadata": {
            "tags": []
          },
          "execution_count": 766
        }
      ]
    },
    {
      "cell_type": "code",
      "metadata": {
        "trusted": true,
        "id": "J1vDG5hcSCNW",
        "colab_type": "code",
        "outputId": "5c35aea9-000e-4439-893f-be5d832033f3",
        "colab": {
          "base_uri": "https://localhost:8080/",
          "height": 69
        }
      },
      "source": [
        "df['Printer'] = df['Printer'].map( {'N': 0, 'Y': 1} )\n",
        "df['Printer'].value_counts()"
      ],
      "execution_count": 767,
      "outputs": [
        {
          "output_type": "execute_result",
          "data": {
            "text/plain": [
              "0.0    15305\n",
              "1.0      418\n",
              "Name: Printer, dtype: int64"
            ]
          },
          "metadata": {
            "tags": []
          },
          "execution_count": 767
        }
      ]
    },
    {
      "cell_type": "code",
      "metadata": {
        "trusted": true,
        "id": "ZyvMicniSCNa",
        "colab_type": "code",
        "outputId": "43d64aa0-4abe-4393-a911-9cc2472e13e2",
        "colab": {
          "base_uri": "https://localhost:8080/",
          "height": 86
        }
      },
      "source": [
        "df['Computer'].value_counts()\n"
      ],
      "execution_count": 768,
      "outputs": [
        {
          "output_type": "execute_result",
          "data": {
            "text/plain": [
              "N     15498\n",
              "Y       225\n",
              "YY        1\n",
              "Name: Computer, dtype: int64"
            ]
          },
          "metadata": {
            "tags": []
          },
          "execution_count": 768
        }
      ]
    },
    {
      "cell_type": "code",
      "metadata": {
        "trusted": true,
        "id": "a-_AEP1PSCNf",
        "colab_type": "code",
        "outputId": "24c08c10-eaa9-47a7-fb92-e21566be9c16",
        "colab": {
          "base_uri": "https://localhost:8080/",
          "height": 69
        }
      },
      "source": [
        "df['Computer'] = df['Computer'].map( {'N': 0, 'Y': 1,'YY': 1} )\n",
        "df['Computer'].value_counts()"
      ],
      "execution_count": 769,
      "outputs": [
        {
          "output_type": "execute_result",
          "data": {
            "text/plain": [
              "0    15498\n",
              "1      226\n",
              "Name: Computer, dtype: int64"
            ]
          },
          "metadata": {
            "tags": []
          },
          "execution_count": 769
        }
      ]
    },
    {
      "cell_type": "code",
      "metadata": {
        "trusted": true,
        "id": "gBoBTxDcSCNj",
        "colab_type": "code",
        "outputId": "1445b263-c51b-490b-8c0b-046e538297c7",
        "colab": {
          "base_uri": "https://localhost:8080/",
          "height": 86
        }
      },
      "source": [
        "df['Insurance'].value_counts()\n"
      ],
      "execution_count": 770,
      "outputs": [
        {
          "output_type": "execute_result",
          "data": {
            "text/plain": [
              "N     13845\n",
              "Y      1876\n",
              "YY        1\n",
              "Name: Insurance, dtype: int64"
            ]
          },
          "metadata": {
            "tags": []
          },
          "execution_count": 770
        }
      ]
    },
    {
      "cell_type": "code",
      "metadata": {
        "trusted": true,
        "id": "97MzQqHRSCNo",
        "colab_type": "code",
        "outputId": "5b1f44e7-621e-4f58-d5cc-1e341a2d9142",
        "colab": {
          "base_uri": "https://localhost:8080/",
          "height": 69
        }
      },
      "source": [
        "df['Insurance'] = df['Insurance'].map( {'N': 0, 'Y': 1,'YY': 1} )\n",
        "df['Insurance'].replace('', np.nan, inplace=True)\n",
        "df.dropna(subset=['Insurance'], inplace=True)\n",
        "df['Insurance'].value_counts()"
      ],
      "execution_count": 771,
      "outputs": [
        {
          "output_type": "execute_result",
          "data": {
            "text/plain": [
              "0.0    13845\n",
              "1.0     1877\n",
              "Name: Insurance, dtype: int64"
            ]
          },
          "metadata": {
            "tags": []
          },
          "execution_count": 771
        }
      ]
    },
    {
      "cell_type": "code",
      "metadata": {
        "trusted": true,
        "id": "cZXNDlocSCNt",
        "colab_type": "code",
        "outputId": "a2838eea-0083-48e7-e48a-c400888dd1b9",
        "colab": {
          "base_uri": "https://localhost:8080/",
          "height": 86
        }
      },
      "source": [
        "df['Toner'].value_counts()\n"
      ],
      "execution_count": 772,
      "outputs": [
        {
          "output_type": "execute_result",
          "data": {
            "text/plain": [
              "N     14683\n",
              "Y      1038\n",
              "YY        1\n",
              "Name: Toner, dtype: int64"
            ]
          },
          "metadata": {
            "tags": []
          },
          "execution_count": 772
        }
      ]
    },
    {
      "cell_type": "code",
      "metadata": {
        "trusted": true,
        "id": "-3-igs8pSCNy",
        "colab_type": "code",
        "outputId": "7340d800-c6c2-49e0-eba9-00a244f5a2aa",
        "colab": {
          "base_uri": "https://localhost:8080/",
          "height": 69
        }
      },
      "source": [
        "df['Toner'] = df['Toner'].map( {'N': 0, 'Y': 1,'YY': 1} )\n",
        "df['Toner'].value_counts()"
      ],
      "execution_count": 773,
      "outputs": [
        {
          "output_type": "execute_result",
          "data": {
            "text/plain": [
              "0    14683\n",
              "1     1039\n",
              "Name: Toner, dtype: int64"
            ]
          },
          "metadata": {
            "tags": []
          },
          "execution_count": 773
        }
      ]
    },
    {
      "cell_type": "code",
      "metadata": {
        "trusted": true,
        "id": "B3mEYn99SCN2",
        "colab_type": "code",
        "outputId": "9ad713b3-a445-457e-f429-dd283fa73edf",
        "colab": {
          "base_uri": "https://localhost:8080/",
          "height": 69
        }
      },
      "source": [
        "df['Office Supplies'].value_counts()"
      ],
      "execution_count": 774,
      "outputs": [
        {
          "output_type": "execute_result",
          "data": {
            "text/plain": [
              "Y    11514\n",
              "N     4208\n",
              "Name: Office Supplies, dtype: int64"
            ]
          },
          "metadata": {
            "tags": []
          },
          "execution_count": 774
        }
      ]
    },
    {
      "cell_type": "code",
      "metadata": {
        "trusted": true,
        "id": "XY_fB--nSCN6",
        "colab_type": "code",
        "outputId": "c8017cc6-84b0-44af-8ff5-437bb8d87416",
        "colab": {
          "base_uri": "https://localhost:8080/",
          "height": 69
        }
      },
      "source": [
        "df['Office Supplies'] = df['Office Supplies'].map( {'N': 0, 'Y': 1,'YY': 1} )\n",
        "df['Office Supplies'].value_counts()"
      ],
      "execution_count": 775,
      "outputs": [
        {
          "output_type": "execute_result",
          "data": {
            "text/plain": [
              "1    11514\n",
              "0     4208\n",
              "Name: Office Supplies, dtype: int64"
            ]
          },
          "metadata": {
            "tags": []
          },
          "execution_count": 775
        }
      ]
    },
    {
      "cell_type": "code",
      "metadata": {
        "trusted": true,
        "id": "hP9jCBRrSCN_",
        "colab_type": "code",
        "outputId": "e396a300-6153-4181-8669-5efe1f56863d",
        "colab": {
          "base_uri": "https://localhost:8080/",
          "height": 156
        }
      },
      "source": [
        "df['Number of Employees'].value_counts()"
      ],
      "execution_count": 776,
      "outputs": [
        {
          "output_type": "execute_result",
          "data": {
            "text/plain": [
              "6-10       5103\n",
              "           3604\n",
              "1-5        2637\n",
              "11-50      2170\n",
              "51-100     1349\n",
              "101-500     639\n",
              "500+        218\n",
              "Name: Number of Employees, dtype: int64"
            ]
          },
          "metadata": {
            "tags": []
          },
          "execution_count": 776
        }
      ]
    },
    {
      "cell_type": "markdown",
      "metadata": {
        "id": "dTKXKpQ9SCOD",
        "colab_type": "text"
      },
      "source": [
        "blank value on numbers of employee. quantity are significant enough to not drop"
      ]
    },
    {
      "cell_type": "code",
      "metadata": {
        "trusted": true,
        "id": "GdYAyrriSCOH",
        "colab_type": "code",
        "outputId": "9c358cfe-79b1-4271-c6cc-224c97c0bc28",
        "colab": {
          "base_uri": "https://localhost:8080/",
          "height": 156
        }
      },
      "source": [
        "df['Number of Employees_copy'] = df['Number of Employees']\n",
        "df['Number of Employees_copy'] = df['Number of Employees_copy'].replace(r'^\\s*$', np.NaN, regex=True)\n",
        "df['Number of Employees_copy'] = df['Number of Employees_copy'].astype(str)\n",
        "df['Number of Employees_copy'] = df['Number of Employees_copy'].map({'1-5': 0, '6-10': 1, '11-50': 2, '51-100': 3, '101-500': 4, '500+': 5, 'nan': 6})\n",
        "df['Number of Employees_copy'].value_counts()"
      ],
      "execution_count": 777,
      "outputs": [
        {
          "output_type": "execute_result",
          "data": {
            "text/plain": [
              "1    5103\n",
              "6    3606\n",
              "0    2637\n",
              "2    2170\n",
              "3    1349\n",
              "4     639\n",
              "5     218\n",
              "Name: Number of Employees_copy, dtype: int64"
            ]
          },
          "metadata": {
            "tags": []
          },
          "execution_count": 777
        }
      ]
    },
    {
      "cell_type": "code",
      "metadata": {
        "trusted": true,
        "id": "v0oS4pMmSCOL",
        "colab_type": "code",
        "outputId": "2a0a01b4-eb71-42df-a5fd-dac87095b368",
        "colab": {
          "base_uri": "https://localhost:8080/",
          "height": 156
        }
      },
      "source": [
        "df['Number of Employees_copy']=df['Number of Employees_copy'].replace(6, df['Number of Employees_copy'].mean(), regex=True)\n",
        "df['Number of Employees_copy'].value_counts()"
      ],
      "execution_count": 778,
      "outputs": [
        {
          "output_type": "execute_result",
          "data": {
            "text/plain": [
              "1.000000    5103\n",
              "2.466098    3606\n",
              "0.000000    2637\n",
              "2.000000    2170\n",
              "3.000000    1349\n",
              "4.000000     639\n",
              "5.000000     218\n",
              "Name: Number of Employees_copy, dtype: int64"
            ]
          },
          "metadata": {
            "tags": []
          },
          "execution_count": 778
        }
      ]
    },
    {
      "cell_type": "code",
      "metadata": {
        "trusted": true,
        "id": "_ZcqjeUOSCOR",
        "colab_type": "code",
        "colab": {}
      },
      "source": [
        "df = df.drop('Number of Employees_copy', axis = 1)"
      ],
      "execution_count": 0,
      "outputs": []
    },
    {
      "cell_type": "markdown",
      "metadata": {
        "id": "oVjOWeDkSCOd",
        "colab_type": "text"
      },
      "source": [
        "category mean suggest the blanks should be in between of category 11-50 and category 51-100\n",
        "\n",
        "will merge these 3 category together"
      ]
    },
    {
      "cell_type": "code",
      "metadata": {
        "trusted": true,
        "id": "mR2gkP-5SCOd",
        "colab_type": "code",
        "colab": {}
      },
      "source": [
        "#df['Number of Employees'] = df['Number of Employees'].map({'11-50': 11-100, '51-100': 11-100, r'^\\s*$': 11-100})\n",
        "df['Number of Employees'] = df['Number of Employees'].replace(r'^\\s*$', np.nan, regex=True)\n",
        "df['Number of Employees'] = df['Number of Employees'].astype(str)\n",
        "df['Number of Employees'] = df['Number of Employees'].replace(\"11-50\",\"11-100\").replace(\"51-100\",\"11-100\").replace(\"nan\",\"11-100\")"
      ],
      "execution_count": 0,
      "outputs": []
    },
    {
      "cell_type": "code",
      "metadata": {
        "trusted": true,
        "id": "nhNZlfNVSCOg",
        "colab_type": "code",
        "outputId": "35265a79-8668-4b06-ce1c-e287a3410a90",
        "colab": {
          "base_uri": "https://localhost:8080/",
          "height": 121
        }
      },
      "source": [
        "df['Number of Employees'].value_counts()"
      ],
      "execution_count": 781,
      "outputs": [
        {
          "output_type": "execute_result",
          "data": {
            "text/plain": [
              "11-100     7125\n",
              "6-10       5103\n",
              "1-5        2637\n",
              "101-500     639\n",
              "500+        218\n",
              "Name: Number of Employees, dtype: int64"
            ]
          },
          "metadata": {
            "tags": []
          },
          "execution_count": 781
        }
      ]
    },
    {
      "cell_type": "code",
      "metadata": {
        "trusted": true,
        "id": "Y40TYg68SCOj",
        "colab_type": "code",
        "outputId": "b269e68e-b077-4454-b738-96cc3e7d8f54",
        "colab": {
          "base_uri": "https://localhost:8080/",
          "height": 347
        }
      },
      "source": [
        "df['Language'].value_counts()"
      ],
      "execution_count": 782,
      "outputs": [
        {
          "output_type": "execute_result",
          "data": {
            "text/plain": [
              "English       11037\n",
              "Spanish          88\n",
              "Italian          45\n",
              "Portuguese       40\n",
              "Hindi            39\n",
              "Chinese          30\n",
              "Russian          24\n",
              "Hebrew           20\n",
              "Arabic           16\n",
              "German           15\n",
              "Greek            14\n",
              "Japanese         11\n",
              "Polish           10\n",
              "Vietnamese        9\n",
              "French            6\n",
              "Korean            4\n",
              "Thai              2\n",
              "Pashto            1\n",
              "Name: Language, dtype: int64"
            ]
          },
          "metadata": {
            "tags": []
          },
          "execution_count": 782
        }
      ]
    },
    {
      "cell_type": "markdown",
      "metadata": {
        "id": "ULwdtrXBSCOm",
        "colab_type": "text"
      },
      "source": [
        "group all the non english together and group nan into english"
      ]
    },
    {
      "cell_type": "code",
      "metadata": {
        "trusted": true,
        "id": "ssvlvP1ASCOn",
        "colab_type": "code",
        "colab": {}
      },
      "source": [
        "\n",
        "List=df.Language.value_counts().index[1:].tolist()\n",
        "mapping={}\n",
        "for s in List:\n",
        "    mapping[s]='Else'\n",
        "df['Language']=df['Language'].map(lambda x: mapping[x] if x in mapping else x)\n",
        "df['Language'] = df['Language'].map( {'English': 1,'Else': 0} )\n",
        "df.Language.value_counts()\n",
        "df.rename(columns={'Language': 'isEnglish'}, inplace=True)\n",
        "df['isEnglish'] = df['isEnglish'].replace(np.nan,1 , regex=True)"
      ],
      "execution_count": 0,
      "outputs": []
    },
    {
      "cell_type": "code",
      "metadata": {
        "trusted": true,
        "id": "a6wdde1ESCOq",
        "colab_type": "code",
        "outputId": "177dd222-38a0-4c09-d240-742614fc883f",
        "colab": {
          "base_uri": "https://localhost:8080/",
          "height": 69
        }
      },
      "source": [
        "df['isEnglish'].value_counts()"
      ],
      "execution_count": 784,
      "outputs": [
        {
          "output_type": "execute_result",
          "data": {
            "text/plain": [
              "1.0    15348\n",
              "0.0      374\n",
              "Name: isEnglish, dtype: int64"
            ]
          },
          "metadata": {
            "tags": []
          },
          "execution_count": 784
        }
      ]
    },
    {
      "cell_type": "code",
      "metadata": {
        "trusted": true,
        "id": "q53pjZIrSCOu",
        "colab_type": "code",
        "outputId": "7ecaf84e-8ce4-4fcb-a31b-7f740d92ed83",
        "colab": {
          "base_uri": "https://localhost:8080/",
          "height": 503
        }
      },
      "source": [
        "df.info()"
      ],
      "execution_count": 785,
      "outputs": [
        {
          "output_type": "stream",
          "text": [
            "<class 'pandas.core.frame.DataFrame'>\n",
            "Int64Index: 15722 entries, 0 to 16171\n",
            "Data columns (total 21 columns):\n",
            " #   Column                             Non-Null Count  Dtype         \n",
            "---  ------                             --------------  -----         \n",
            " 0   Campaign Period Sales              15722 non-null  float64       \n",
            " 1   Historical Sales Volume            15722 non-null  float64       \n",
            " 2   Date of First Purchase             15722 non-null  datetime64[ns]\n",
            " 3   Number of Prior Year Transactions  15722 non-null  float64       \n",
            " 4   Do Not Direct Mail Solicit         15722 non-null  float64       \n",
            " 5   Do Not Email                       15722 non-null  float64       \n",
            " 6   Do Not Telemarket                  15722 non-null  float64       \n",
            " 7   Repurchase Method                  15722 non-null  object        \n",
            " 8   Last Transaction Channel           15722 non-null  object        \n",
            " 9   Desk                               15722 non-null  int64         \n",
            " 10  Executive Chair                    15722 non-null  float64       \n",
            " 11  Standard Chair                     15722 non-null  float64       \n",
            " 12  Monitor                            15722 non-null  float64       \n",
            " 13  Printer                            15722 non-null  float64       \n",
            " 14  Computer                           15722 non-null  int64         \n",
            " 15  Insurance                          15722 non-null  float64       \n",
            " 16  Toner                              15722 non-null  int64         \n",
            " 17  Office Supplies                    15722 non-null  int64         \n",
            " 18  Number of Employees                15722 non-null  object        \n",
            " 19  isEnglish                          15722 non-null  float64       \n",
            " 20  diff_years                         15722 non-null  int64         \n",
            "dtypes: datetime64[ns](1), float64(12), int64(5), object(3)\n",
            "memory usage: 2.6+ MB\n"
          ],
          "name": "stdout"
        }
      ]
    },
    {
      "cell_type": "code",
      "metadata": {
        "id": "MVlRHq7UWU2v",
        "colab_type": "code",
        "colab": {}
      },
      "source": [
        "for col in ['Campaign Period Sales', 'Number of Prior Year Transactions', 'Do Not Direct Mail Solicit', 'Do Not Email', 'Do Not Telemarket', 'Executive Chair', 'Insurance', 'isEnglish']:\n",
        "    df[col] = df[col].astype('int')"
      ],
      "execution_count": 0,
      "outputs": []
    },
    {
      "cell_type": "code",
      "metadata": {
        "id": "O6YAJlfkfZdw",
        "colab_type": "code",
        "outputId": "2f2c8001-dffa-4007-82dd-483baf0985e9",
        "colab": {
          "base_uri": "https://localhost:8080/",
          "height": 503
        }
      },
      "source": [
        "df.info()"
      ],
      "execution_count": 787,
      "outputs": [
        {
          "output_type": "stream",
          "text": [
            "<class 'pandas.core.frame.DataFrame'>\n",
            "Int64Index: 15722 entries, 0 to 16171\n",
            "Data columns (total 21 columns):\n",
            " #   Column                             Non-Null Count  Dtype         \n",
            "---  ------                             --------------  -----         \n",
            " 0   Campaign Period Sales              15722 non-null  int64         \n",
            " 1   Historical Sales Volume            15722 non-null  float64       \n",
            " 2   Date of First Purchase             15722 non-null  datetime64[ns]\n",
            " 3   Number of Prior Year Transactions  15722 non-null  int64         \n",
            " 4   Do Not Direct Mail Solicit         15722 non-null  int64         \n",
            " 5   Do Not Email                       15722 non-null  int64         \n",
            " 6   Do Not Telemarket                  15722 non-null  int64         \n",
            " 7   Repurchase Method                  15722 non-null  object        \n",
            " 8   Last Transaction Channel           15722 non-null  object        \n",
            " 9   Desk                               15722 non-null  int64         \n",
            " 10  Executive Chair                    15722 non-null  int64         \n",
            " 11  Standard Chair                     15722 non-null  float64       \n",
            " 12  Monitor                            15722 non-null  float64       \n",
            " 13  Printer                            15722 non-null  float64       \n",
            " 14  Computer                           15722 non-null  int64         \n",
            " 15  Insurance                          15722 non-null  int64         \n",
            " 16  Toner                              15722 non-null  int64         \n",
            " 17  Office Supplies                    15722 non-null  int64         \n",
            " 18  Number of Employees                15722 non-null  object        \n",
            " 19  isEnglish                          15722 non-null  int64         \n",
            " 20  diff_years                         15722 non-null  int64         \n",
            "dtypes: datetime64[ns](1), float64(4), int64(13), object(3)\n",
            "memory usage: 2.6+ MB\n"
          ],
          "name": "stdout"
        }
      ]
    },
    {
      "cell_type": "markdown",
      "metadata": {
        "id": "Fwp1cgCmljc_",
        "colab_type": "text"
      },
      "source": [
        "heatmap"
      ]
    },
    {
      "cell_type": "code",
      "metadata": {
        "id": "HFKQQE8TmsBf",
        "colab_type": "code",
        "colab": {}
      },
      "source": [
        "df['Number of Employees_heatmap'] = df['Number of Employees']\n",
        "df['Number of Employees_heatmap'] = df['Number of Employees_heatmap'].map({'1-5': 0, '6-10': 1, '11-100': 2, '101-500': 3, '500+': 4})"
      ],
      "execution_count": 0,
      "outputs": []
    },
    {
      "cell_type": "code",
      "metadata": {
        "id": "fWbSnPL1lpBU",
        "colab_type": "code",
        "outputId": "4d7c628e-c5c0-47fe-e6f6-aeccdf66266f",
        "colab": {
          "base_uri": "https://localhost:8080/",
          "height": 754
        }
      },
      "source": [
        "corrmat = df.corr()\n",
        "top_corr_features = corrmat.index\n",
        "plt.figure(figsize=(10,10))\n",
        "#plot heat map\n",
        "g=sns.heatmap(df[top_corr_features].corr(),annot=True,cmap=\"RdYlGn\")"
      ],
      "execution_count": 789,
      "outputs": [
        {
          "output_type": "display_data",
          "data": {
            "image/png": "[encoded data removed]",
            "text/plain": [
              "<Figure size 720x720 with 2 Axes>"
            ]
          },
          "metadata": {
            "tags": [],
            "needs_background": "light"
          }
        }
      ]
    },
    {
      "cell_type": "code",
      "metadata": {
        "id": "hlp8TmzFM7oQ",
        "colab_type": "code",
        "outputId": "24c3450f-c217-44df-e7b7-e7af56edef9c",
        "colab": {
          "base_uri": "https://localhost:8080/",
          "height": 614
        }
      },
      "source": [
        "df_corr = df.corr().unstack().sort_values(kind=\"quicksort\", ascending=False).reset_index()\n",
        "df_corr.rename(columns={\"level_0\": \"Feature 1\", \"level_1\": \"Feature 2\", 0: 'Correlation Coefficient'}, inplace=True)\n",
        "df_corr[df_corr['Feature 1'] == 'Campaign Period Sales']"
      ],
      "execution_count": 790,
      "outputs": [
        {
          "output_type": "execute_result",
          "data": {
            "text/html": [
              "<div>\n",
              "<style scoped>\n",
              "    .dataframe tbody tr th:only-of-type {\n",
              "        vertical-align: middle;\n",
              "    }\n",
              "\n",
              "    .dataframe tbody tr th {\n",
              "        vertical-align: top;\n",
              "    }\n",
              "\n",
              "    .dataframe thead th {\n",
              "        text-align: right;\n",
              "    }\n",
              "</style>\n",
              "<table border=\"1\" class=\"dataframe\">\n",
              "  <thead>\n",
              "    <tr style=\"text-align: right;\">\n",
              "      <th></th>\n",
              "      <th>Feature 1</th>\n",
              "      <th>Feature 2</th>\n",
              "      <th>Correlation Coefficient</th>\n",
              "    </tr>\n",
              "  </thead>\n",
              "  <tbody>\n",
              "    <tr>\n",
              "      <th>17</th>\n",
              "      <td>Campaign Period Sales</td>\n",
              "      <td>Campaign Period Sales</td>\n",
              "      <td>1.000000</td>\n",
              "    </tr>\n",
              "    <tr>\n",
              "      <th>43</th>\n",
              "      <td>Campaign Period Sales</td>\n",
              "      <td>diff_years</td>\n",
              "      <td>0.285407</td>\n",
              "    </tr>\n",
              "    <tr>\n",
              "      <th>75</th>\n",
              "      <td>Campaign Period Sales</td>\n",
              "      <td>Monitor</td>\n",
              "      <td>0.170015</td>\n",
              "    </tr>\n",
              "    <tr>\n",
              "      <th>80</th>\n",
              "      <td>Campaign Period Sales</td>\n",
              "      <td>Computer</td>\n",
              "      <td>0.155554</td>\n",
              "    </tr>\n",
              "    <tr>\n",
              "      <th>83</th>\n",
              "      <td>Campaign Period Sales</td>\n",
              "      <td>Standard Chair</td>\n",
              "      <td>0.154078</td>\n",
              "    </tr>\n",
              "    <tr>\n",
              "      <th>91</th>\n",
              "      <td>Campaign Period Sales</td>\n",
              "      <td>Number of Prior Year Transactions</td>\n",
              "      <td>0.138927</td>\n",
              "    </tr>\n",
              "    <tr>\n",
              "      <th>94</th>\n",
              "      <td>Campaign Period Sales</td>\n",
              "      <td>Printer</td>\n",
              "      <td>0.132670</td>\n",
              "    </tr>\n",
              "    <tr>\n",
              "      <th>121</th>\n",
              "      <td>Campaign Period Sales</td>\n",
              "      <td>Executive Chair</td>\n",
              "      <td>0.079881</td>\n",
              "    </tr>\n",
              "    <tr>\n",
              "      <th>124</th>\n",
              "      <td>Campaign Period Sales</td>\n",
              "      <td>Toner</td>\n",
              "      <td>0.078490</td>\n",
              "    </tr>\n",
              "    <tr>\n",
              "      <th>156</th>\n",
              "      <td>Campaign Period Sales</td>\n",
              "      <td>Insurance</td>\n",
              "      <td>0.043865</td>\n",
              "    </tr>\n",
              "    <tr>\n",
              "      <th>160</th>\n",
              "      <td>Campaign Period Sales</td>\n",
              "      <td>Desk</td>\n",
              "      <td>0.041977</td>\n",
              "    </tr>\n",
              "    <tr>\n",
              "      <th>162</th>\n",
              "      <td>Campaign Period Sales</td>\n",
              "      <td>Office Supplies</td>\n",
              "      <td>0.034699</td>\n",
              "    </tr>\n",
              "    <tr>\n",
              "      <th>192</th>\n",
              "      <td>Campaign Period Sales</td>\n",
              "      <td>isEnglish</td>\n",
              "      <td>0.013806</td>\n",
              "    </tr>\n",
              "    <tr>\n",
              "      <th>209</th>\n",
              "      <td>Campaign Period Sales</td>\n",
              "      <td>Do Not Telemarket</td>\n",
              "      <td>0.012132</td>\n",
              "    </tr>\n",
              "    <tr>\n",
              "      <th>218</th>\n",
              "      <td>Campaign Period Sales</td>\n",
              "      <td>Do Not Direct Mail Solicit</td>\n",
              "      <td>0.010319</td>\n",
              "    </tr>\n",
              "    <tr>\n",
              "      <th>231</th>\n",
              "      <td>Campaign Period Sales</td>\n",
              "      <td>Do Not Email</td>\n",
              "      <td>0.004947</td>\n",
              "    </tr>\n",
              "    <tr>\n",
              "      <th>279</th>\n",
              "      <td>Campaign Period Sales</td>\n",
              "      <td>Number of Employees_heatmap</td>\n",
              "      <td>-0.019435</td>\n",
              "    </tr>\n",
              "    <tr>\n",
              "      <th>292</th>\n",
              "      <td>Campaign Period Sales</td>\n",
              "      <td>Historical Sales Volume</td>\n",
              "      <td>-0.033734</td>\n",
              "    </tr>\n",
              "  </tbody>\n",
              "</table>\n",
              "</div>"
            ],
            "text/plain": [
              "                 Feature 1  ... Correlation Coefficient\n",
              "17   Campaign Period Sales  ...                1.000000\n",
              "43   Campaign Period Sales  ...                0.285407\n",
              "75   Campaign Period Sales  ...                0.170015\n",
              "80   Campaign Period Sales  ...                0.155554\n",
              "83   Campaign Period Sales  ...                0.154078\n",
              "91   Campaign Period Sales  ...                0.138927\n",
              "94   Campaign Period Sales  ...                0.132670\n",
              "121  Campaign Period Sales  ...                0.079881\n",
              "124  Campaign Period Sales  ...                0.078490\n",
              "156  Campaign Period Sales  ...                0.043865\n",
              "160  Campaign Period Sales  ...                0.041977\n",
              "162  Campaign Period Sales  ...                0.034699\n",
              "192  Campaign Period Sales  ...                0.013806\n",
              "209  Campaign Period Sales  ...                0.012132\n",
              "218  Campaign Period Sales  ...                0.010319\n",
              "231  Campaign Period Sales  ...                0.004947\n",
              "279  Campaign Period Sales  ...               -0.019435\n",
              "292  Campaign Period Sales  ...               -0.033734\n",
              "\n",
              "[18 rows x 3 columns]"
            ]
          },
          "metadata": {
            "tags": []
          },
          "execution_count": 790
        }
      ]
    },
    {
      "cell_type": "code",
      "metadata": {
        "id": "-qIROKqeYZtm",
        "colab_type": "code",
        "colab": {}
      },
      "source": [
        "df = df.drop('Number of Employees_heatmap', axis = 1)"
      ],
      "execution_count": 0,
      "outputs": []
    },
    {
      "cell_type": "markdown",
      "metadata": {
        "id": "wtW0YxAtWKL_",
        "colab_type": "text"
      },
      "source": [
        "most of the feature didnt show much correlation to the label\n",
        "\n",
        "will use all of them to do modelling"
      ]
    },
    {
      "cell_type": "code",
      "metadata": {
        "id": "TpYIfXezCd2W",
        "colab_type": "code",
        "outputId": "9d73e84e-7cb7-4751-cecd-3c6d0d201a5d",
        "colab": {
          "base_uri": "https://localhost:8080/",
          "height": 927
        }
      },
      "source": [
        "cat_features = ['Repurchase Method', 'Last Transaction Channel']\n",
        "\n",
        "fig, axs = plt.subplots(ncols=1, nrows=2, figsize=(10, 10))\n",
        "plt.subplots_adjust(right=1.5, top=1.25)\n",
        "\n",
        "for i, feature in enumerate(cat_features, 1):    \n",
        "    plt.subplot(1, 2, i)\n",
        "    sns.countplot(x=feature, hue='Campaign Period Sales', data=df)\n",
        "    \n",
        "    plt.xlabel('{}'.format(feature), size=10, labelpad=5)\n",
        "    plt.ylabel('Customer Count', size=10, labelpad=5)    \n",
        "    plt.tick_params(axis='x', labelsize=10)\n",
        "    plt.tick_params(axis='y', labelsize=10)\n",
        "    \n",
        "    plt.legend(['Not Participated', 'Participated'], loc='upper center', prop={'size': 8})\n",
        "    plt.title('Count of participation in {} Feature'.format(feature), size=10, y=1.05)\n",
        "\n",
        "plt.show()"
      ],
      "execution_count": 792,
      "outputs": [
        {
          "output_type": "display_data",
          "data": {
            "image/png": "[encoded data removed]",
            "text/plain": [
              "<Figure size 720x720 with 2 Axes>"
            ]
          },
          "metadata": {
            "tags": [],
            "needs_background": "light"
          }
        }
      ]
    },
    {
      "cell_type": "code",
      "metadata": {
        "id": "OJgRWdsJnhAo",
        "colab_type": "code",
        "outputId": "3d8d8487-56ef-4310-c0e4-03d1643b01d9",
        "colab": {
          "base_uri": "https://localhost:8080/",
          "height": 34
        }
      },
      "source": [
        "from sklearn.model_selection import train_test_split\n",
        "from sklearn.linear_model import LogisticRegression\n",
        "\n",
        "df.drop(columns=['Date of First Purchase', 'Historical Sales Volume'], inplace=True)\n",
        "df_encode = pd.get_dummies(df, prefix_sep='_', drop_first=True)\n",
        "\n",
        "\n",
        "X = np.array(df_encode.drop(columns='Campaign Period Sales'))\n",
        "Y = np.array(df_encode['Campaign Period Sales'])\n",
        "\n",
        "X_train, X_test, Y_train, Y_test = train_test_split(X, Y, test_size=0.2,random_state=0)\n",
        "\n",
        "lr = LogisticRegression()\n",
        "lr.fit(X_train, Y_train)\n",
        "print(\"Logisticregression = \" ,lr.score(X_test, Y_test))\n",
        "\n"
      ],
      "execution_count": 793,
      "outputs": [
        {
          "output_type": "stream",
          "text": [
            "Logisticregression =  0.7828298887122417\n"
          ],
          "name": "stdout"
        }
      ]
    },
    {
      "cell_type": "markdown",
      "metadata": {
        "id": "khLvveUTkyzL",
        "colab_type": "text"
      },
      "source": [
        "base line is 0.73\n",
        "\n",
        "how can we get better than that?\n",
        "\n",
        "1. merging the pervious purchased to 1 column.(doesnt show much correlation, drop)\n",
        "2. does sales volume per year and number of tranx per year affect campaign?(doesnt show much correlation, drop)\n",
        "3. recent buy parts of office supplies?(account active >1 year, unable to segregate recent buyer)\n",
        "4. computer set buyers has the dendency to look for discount? [computer, monitor, printer, standard chair](shows some correlation, keep)"
      ]
    },
    {
      "cell_type": "markdown",
      "metadata": {
        "id": "pw8rJYUwqfO4",
        "colab_type": "text"
      },
      "source": [
        "merging the pervious purchased to 1 column\n",
        "\n"
      ]
    },
    {
      "cell_type": "code",
      "metadata": {
        "id": "U9Zg_5HPk9QS",
        "colab_type": "code",
        "colab": {}
      },
      "source": [
        "def label_purchased (row):\n",
        "   if row['Monitor'] + row['Computer'] + row['Standard Chair'] + row['Printer'] + row['Insurance'] + row['Desk'] + row['Office Supplies'] > 0 :\n",
        "      return 1\n",
        "   return 0\n",
        "\n",
        "#df['hasPriorPurchased_label'] = df.apply (lambda row: label_purchased(row), axis=1)"
      ],
      "execution_count": 0,
      "outputs": []
    },
    {
      "cell_type": "markdown",
      "metadata": {
        "id": "vdkKc1wdvJwR",
        "colab_type": "text"
      },
      "source": [
        "Check if purchased whole basic computer set, mon+comp+chair+printer"
      ]
    },
    {
      "cell_type": "code",
      "metadata": {
        "id": "39YL56nVeEZ5",
        "colab_type": "code",
        "colab": {}
      },
      "source": [
        "def label_purchased (row):\n",
        "   if row['Monitor'] + row['Computer'] + row['Standard Chair'] + row['Printer']  > 0 :\n",
        "      return 1\n",
        "   return 0\n",
        "\n",
        "df['BasicComputerBuyer'] = df.apply (lambda row: label_purchased(row), axis=1)"
      ],
      "execution_count": 0,
      "outputs": []
    },
    {
      "cell_type": "markdown",
      "metadata": {
        "id": "RTBW8pJLvP4G",
        "colab_type": "text"
      },
      "source": [
        "how much of a basic set acquired?"
      ]
    },
    {
      "cell_type": "code",
      "metadata": {
        "id": "4KPDOtk7eUdA",
        "colab_type": "code",
        "colab": {}
      },
      "source": [
        "df['OwnedBasicSet'] = df['Monitor'] + df['Computer'] + df['Standard Chair'] + df['Printer']\n",
        "df['OwnedBasicSet'] = df['OwnedBasicSet'].astype('int')"
      ],
      "execution_count": 0,
      "outputs": []
    },
    {
      "cell_type": "code",
      "metadata": {
        "id": "ZI6xRDyAyBsy",
        "colab_type": "code",
        "outputId": "d5ba53aa-af84-47ac-8fab-332daf417564",
        "colab": {
          "base_uri": "https://localhost:8080/",
          "height": 233
        }
      },
      "source": [
        "df.head(3)"
      ],
      "execution_count": 797,
      "outputs": [
        {
          "output_type": "execute_result",
          "data": {
            "text/html": [
              "<div>\n",
              "<style scoped>\n",
              "    .dataframe tbody tr th:only-of-type {\n",
              "        vertical-align: middle;\n",
              "    }\n",
              "\n",
              "    .dataframe tbody tr th {\n",
              "        vertical-align: top;\n",
              "    }\n",
              "\n",
              "    .dataframe thead th {\n",
              "        text-align: right;\n",
              "    }\n",
              "</style>\n",
              "<table border=\"1\" class=\"dataframe\">\n",
              "  <thead>\n",
              "    <tr style=\"text-align: right;\">\n",
              "      <th></th>\n",
              "      <th>Campaign Period Sales</th>\n",
              "      <th>Number of Prior Year Transactions</th>\n",
              "      <th>Do Not Direct Mail Solicit</th>\n",
              "      <th>Do Not Email</th>\n",
              "      <th>Do Not Telemarket</th>\n",
              "      <th>Repurchase Method</th>\n",
              "      <th>Last Transaction Channel</th>\n",
              "      <th>Desk</th>\n",
              "      <th>Executive Chair</th>\n",
              "      <th>Standard Chair</th>\n",
              "      <th>Monitor</th>\n",
              "      <th>Printer</th>\n",
              "      <th>Computer</th>\n",
              "      <th>Insurance</th>\n",
              "      <th>Toner</th>\n",
              "      <th>Office Supplies</th>\n",
              "      <th>Number of Employees</th>\n",
              "      <th>isEnglish</th>\n",
              "      <th>diff_years</th>\n",
              "      <th>BasicComputerBuyer</th>\n",
              "      <th>OwnedBasicSet</th>\n",
              "    </tr>\n",
              "  </thead>\n",
              "  <tbody>\n",
              "    <tr>\n",
              "      <th>0</th>\n",
              "      <td>1</td>\n",
              "      <td>15</td>\n",
              "      <td>0</td>\n",
              "      <td>0</td>\n",
              "      <td>0</td>\n",
              "      <td>AUTO RENEW</td>\n",
              "      <td>AUTO RENEW</td>\n",
              "      <td>0</td>\n",
              "      <td>0</td>\n",
              "      <td>0.0</td>\n",
              "      <td>0.0</td>\n",
              "      <td>0.0</td>\n",
              "      <td>0</td>\n",
              "      <td>1</td>\n",
              "      <td>0</td>\n",
              "      <td>1</td>\n",
              "      <td>6-10</td>\n",
              "      <td>1</td>\n",
              "      <td>51</td>\n",
              "      <td>0</td>\n",
              "      <td>0</td>\n",
              "    </tr>\n",
              "    <tr>\n",
              "      <th>1</th>\n",
              "      <td>1</td>\n",
              "      <td>22</td>\n",
              "      <td>0</td>\n",
              "      <td>0</td>\n",
              "      <td>0</td>\n",
              "      <td>NOTICE</td>\n",
              "      <td>MAIL</td>\n",
              "      <td>0</td>\n",
              "      <td>0</td>\n",
              "      <td>0.0</td>\n",
              "      <td>0.0</td>\n",
              "      <td>0.0</td>\n",
              "      <td>0</td>\n",
              "      <td>0</td>\n",
              "      <td>0</td>\n",
              "      <td>1</td>\n",
              "      <td>11-100</td>\n",
              "      <td>1</td>\n",
              "      <td>38</td>\n",
              "      <td>0</td>\n",
              "      <td>0</td>\n",
              "    </tr>\n",
              "    <tr>\n",
              "      <th>2</th>\n",
              "      <td>1</td>\n",
              "      <td>19</td>\n",
              "      <td>0</td>\n",
              "      <td>0</td>\n",
              "      <td>0</td>\n",
              "      <td>NOTICE</td>\n",
              "      <td>MAIL</td>\n",
              "      <td>0</td>\n",
              "      <td>0</td>\n",
              "      <td>0.0</td>\n",
              "      <td>0.0</td>\n",
              "      <td>0.0</td>\n",
              "      <td>0</td>\n",
              "      <td>0</td>\n",
              "      <td>0</td>\n",
              "      <td>1</td>\n",
              "      <td>6-10</td>\n",
              "      <td>1</td>\n",
              "      <td>57</td>\n",
              "      <td>0</td>\n",
              "      <td>0</td>\n",
              "    </tr>\n",
              "  </tbody>\n",
              "</table>\n",
              "</div>"
            ],
            "text/plain": [
              "   Campaign Period Sales  ...  OwnedBasicSet\n",
              "0                      1  ...              0\n",
              "1                      1  ...              0\n",
              "2                      1  ...              0\n",
              "\n",
              "[3 rows x 21 columns]"
            ]
          },
          "metadata": {
            "tags": []
          },
          "execution_count": 797
        }
      ]
    },
    {
      "cell_type": "code",
      "metadata": {
        "id": "qSsqYP6MyMUN",
        "colab_type": "code",
        "outputId": "f692aedf-2287-4046-a7aa-e3062d3ba83c",
        "colab": {
          "base_uri": "https://localhost:8080/",
          "height": 143
        }
      },
      "source": [
        "df.drop(['Standard Chair', 'Monitor', 'Printer', 'Computer', 'Insurance',  'Office Supplies', 'Desk','Number of Employees','Do Not Telemarket','Do Not Direct Mail Solicit','Do Not Email','Last Transaction Channel','isEnglish','Repurchase Method'], axis=1, inplace=True)\n",
        "df.head(3)"
      ],
      "execution_count": 798,
      "outputs": [
        {
          "output_type": "execute_result",
          "data": {
            "text/html": [
              "<div>\n",
              "<style scoped>\n",
              "    .dataframe tbody tr th:only-of-type {\n",
              "        vertical-align: middle;\n",
              "    }\n",
              "\n",
              "    .dataframe tbody tr th {\n",
              "        vertical-align: top;\n",
              "    }\n",
              "\n",
              "    .dataframe thead th {\n",
              "        text-align: right;\n",
              "    }\n",
              "</style>\n",
              "<table border=\"1\" class=\"dataframe\">\n",
              "  <thead>\n",
              "    <tr style=\"text-align: right;\">\n",
              "      <th></th>\n",
              "      <th>Campaign Period Sales</th>\n",
              "      <th>Number of Prior Year Transactions</th>\n",
              "      <th>Executive Chair</th>\n",
              "      <th>Toner</th>\n",
              "      <th>diff_years</th>\n",
              "      <th>BasicComputerBuyer</th>\n",
              "      <th>OwnedBasicSet</th>\n",
              "    </tr>\n",
              "  </thead>\n",
              "  <tbody>\n",
              "    <tr>\n",
              "      <th>0</th>\n",
              "      <td>1</td>\n",
              "      <td>15</td>\n",
              "      <td>0</td>\n",
              "      <td>0</td>\n",
              "      <td>51</td>\n",
              "      <td>0</td>\n",
              "      <td>0</td>\n",
              "    </tr>\n",
              "    <tr>\n",
              "      <th>1</th>\n",
              "      <td>1</td>\n",
              "      <td>22</td>\n",
              "      <td>0</td>\n",
              "      <td>0</td>\n",
              "      <td>38</td>\n",
              "      <td>0</td>\n",
              "      <td>0</td>\n",
              "    </tr>\n",
              "    <tr>\n",
              "      <th>2</th>\n",
              "      <td>1</td>\n",
              "      <td>19</td>\n",
              "      <td>0</td>\n",
              "      <td>0</td>\n",
              "      <td>57</td>\n",
              "      <td>0</td>\n",
              "      <td>0</td>\n",
              "    </tr>\n",
              "  </tbody>\n",
              "</table>\n",
              "</div>"
            ],
            "text/plain": [
              "   Campaign Period Sales  ...  OwnedBasicSet\n",
              "0                      1  ...              0\n",
              "1                      1  ...              0\n",
              "2                      1  ...              0\n",
              "\n",
              "[3 rows x 7 columns]"
            ]
          },
          "metadata": {
            "tags": []
          },
          "execution_count": 798
        }
      ]
    },
    {
      "cell_type": "code",
      "metadata": {
        "id": "XRQJkw-Q0ueH",
        "colab_type": "code",
        "colab": {}
      },
      "source": [
        "#from sklearn.model_selection import train_test_split\n",
        "#from sklearn.linear_model import LogisticRegression\n",
        "from sklearn import model_selection\n",
        "from sklearn.model_selection import KFold\n",
        "from sklearn.model_selection import LeaveOneOut\n",
        "from sklearn.model_selection import LeavePOut\n",
        "from sklearn.model_selection import ShuffleSplit\n",
        "from sklearn.model_selection import StratifiedKFold\n",
        "#df.drop(columns=['Date of First Purchase', 'Historical Sales Volume'], inplace=True)\n",
        "df_encode = pd.get_dummies(df, prefix_sep='_', drop_first=True)\n",
        "\n",
        "\n",
        "X = np.array(df_encode.drop(columns='Campaign Period Sales'))\n",
        "Y = np.array(df_encode['Campaign Period Sales'])\n",
        "\n",
        "X_train, X_test, Y_train, Y_test = train_test_split(X, Y, test_size=0.2,random_state=0)"
      ],
      "execution_count": 0,
      "outputs": []
    },
    {
      "cell_type": "code",
      "metadata": {
        "id": "zciGploUw2qk",
        "colab_type": "code",
        "colab": {}
      },
      "source": [
        "from sklearn.model_selection import GridSearchCV\n",
        "from sklearn.tree import DecisionTreeClassifier\n",
        "from sklearn.neighbors import KNeighborsClassifier\n",
        "from sklearn.svm import SVC"
      ],
      "execution_count": 0,
      "outputs": []
    },
    {
      "cell_type": "code",
      "metadata": {
        "id": "Db1pLjEYw41O",
        "colab_type": "code",
        "colab": {}
      },
      "source": [
        "model_param = {\n",
        "    'DecisionTreeClassifier':{\n",
        "        'model':DecisionTreeClassifier(),\n",
        "        'param':{\n",
        "            'criterion': ['gini','entropy']\n",
        "        }\n",
        "    },\n",
        "        'KNeighborsClassifier':{\n",
        "        'model':KNeighborsClassifier(),\n",
        "        'param':{\n",
        "            'n_neighbors': [5,10,15,20,25]\n",
        "        }\n",
        "    },\n",
        "        'SVC':{\n",
        "        'model':SVC(),\n",
        "        'param':{\n",
        "            'kernel':['rbf','linear','sigmoid'],\n",
        "            'C': [0.1, 1, 10, 100]\n",
        "         \n",
        "        }\n",
        "    }\n",
        "}"
      ],
      "execution_count": 0,
      "outputs": []
    },
    {
      "cell_type": "code",
      "metadata": {
        "id": "XLThgYTXw_j_",
        "colab_type": "code",
        "colab": {
          "base_uri": "https://localhost:8080/",
          "height": 382
        },
        "outputId": "1ce22faa-40ad-4b81-b2f9-fc93393818fa"
      },
      "source": [
        "scores =[]\n",
        "for model_name, mp in model_param.items():\n",
        "    model_selection = GridSearchCV(estimator=mp['model'],param_grid=mp['param'],cv=5,return_train_score=False)\n",
        "    model_selection.fit(X_train,Y_train)\n",
        "    scores.append({\n",
        "        'model': model_name,\n",
        "        'best_score': model_selection.best_score_,\n",
        "        'best_params': model_selection.best_params_\n",
        "    })"
      ],
      "execution_count": 802,
      "outputs": [
        {
          "output_type": "error",
          "ename": "KeyboardInterrupt",
          "evalue": "ignored",
          "traceback": [
            "\u001b[0;31m---------------------------------------------------------------------------\u001b[0m",
            "\u001b[0;31mKeyboardInterrupt\u001b[0m                         Traceback (most recent call last)",
            "\u001b[0;32m<ipython-input-802-a3cb0d001006>\u001b[0m in \u001b[0;36m<module>\u001b[0;34m()\u001b[0m\n\u001b[1;32m      2\u001b[0m \u001b[0;32mfor\u001b[0m \u001b[0mmodel_name\u001b[0m\u001b[0;34m,\u001b[0m \u001b[0mmp\u001b[0m \u001b[0;32min\u001b[0m \u001b[0mmodel_param\u001b[0m\u001b[0;34m.\u001b[0m\u001b[0mitems\u001b[0m\u001b[0;34m(\u001b[0m\u001b[0;34m)\u001b[0m\u001b[0;34m:\u001b[0m\u001b[0;34m\u001b[0m\u001b[0;34m\u001b[0m\u001b[0m\n\u001b[1;32m      3\u001b[0m     \u001b[0mmodel_selection\u001b[0m \u001b[0;34m=\u001b[0m \u001b[0mGridSearchCV\u001b[0m\u001b[0;34m(\u001b[0m\u001b[0mestimator\u001b[0m\u001b[0;34m=\u001b[0m\u001b[0mmp\u001b[0m\u001b[0;34m[\u001b[0m\u001b[0;34m'model'\u001b[0m\u001b[0;34m]\u001b[0m\u001b[0;34m,\u001b[0m\u001b[0mparam_grid\u001b[0m\u001b[0;34m=\u001b[0m\u001b[0mmp\u001b[0m\u001b[0;34m[\u001b[0m\u001b[0;34m'param'\u001b[0m\u001b[0;34m]\u001b[0m\u001b[0;34m,\u001b[0m\u001b[0mcv\u001b[0m\u001b[0;34m=\u001b[0m\u001b[0;36m5\u001b[0m\u001b[0;34m,\u001b[0m\u001b[0mreturn_train_score\u001b[0m\u001b[0;34m=\u001b[0m\u001b[0;32mFalse\u001b[0m\u001b[0;34m)\u001b[0m\u001b[0;34m\u001b[0m\u001b[0;34m\u001b[0m\u001b[0m\n\u001b[0;32m----> 4\u001b[0;31m     \u001b[0mmodel_selection\u001b[0m\u001b[0;34m.\u001b[0m\u001b[0mfit\u001b[0m\u001b[0;34m(\u001b[0m\u001b[0mX_train\u001b[0m\u001b[0;34m,\u001b[0m\u001b[0mY_train\u001b[0m\u001b[0;34m)\u001b[0m\u001b[0;34m\u001b[0m\u001b[0;34m\u001b[0m\u001b[0m\n\u001b[0m\u001b[1;32m      5\u001b[0m     scores.append({\n\u001b[1;32m      6\u001b[0m         \u001b[0;34m'model'\u001b[0m\u001b[0;34m:\u001b[0m \u001b[0mmodel_name\u001b[0m\u001b[0;34m,\u001b[0m\u001b[0;34m\u001b[0m\u001b[0;34m\u001b[0m\u001b[0m\n",
            "\u001b[0;32m/usr/local/lib/python3.6/dist-packages/sklearn/model_selection/_search.py\u001b[0m in \u001b[0;36mfit\u001b[0;34m(self, X, y, groups, **fit_params)\u001b[0m\n\u001b[1;32m    708\u001b[0m                 \u001b[0;32mreturn\u001b[0m \u001b[0mresults\u001b[0m\u001b[0;34m\u001b[0m\u001b[0;34m\u001b[0m\u001b[0m\n\u001b[1;32m    709\u001b[0m \u001b[0;34m\u001b[0m\u001b[0m\n\u001b[0;32m--> 710\u001b[0;31m             \u001b[0mself\u001b[0m\u001b[0;34m.\u001b[0m\u001b[0m_run_search\u001b[0m\u001b[0;34m(\u001b[0m\u001b[0mevaluate_candidates\u001b[0m\u001b[0;34m)\u001b[0m\u001b[0;34m\u001b[0m\u001b[0;34m\u001b[0m\u001b[0m\n\u001b[0m\u001b[1;32m    711\u001b[0m \u001b[0;34m\u001b[0m\u001b[0m\n\u001b[1;32m    712\u001b[0m         \u001b[0;31m# For multi-metric evaluation, store the best_index_, best_params_ and\u001b[0m\u001b[0;34m\u001b[0m\u001b[0;34m\u001b[0m\u001b[0;34m\u001b[0m\u001b[0m\n",
            "\u001b[0;32m/usr/local/lib/python3.6/dist-packages/sklearn/model_selection/_search.py\u001b[0m in \u001b[0;36m_run_search\u001b[0;34m(self, evaluate_candidates)\u001b[0m\n\u001b[1;32m   1149\u001b[0m     \u001b[0;32mdef\u001b[0m \u001b[0m_run_search\u001b[0m\u001b[0;34m(\u001b[0m\u001b[0mself\u001b[0m\u001b[0;34m,\u001b[0m \u001b[0mevaluate_candidates\u001b[0m\u001b[0;34m)\u001b[0m\u001b[0;34m:\u001b[0m\u001b[0;34m\u001b[0m\u001b[0;34m\u001b[0m\u001b[0m\n\u001b[1;32m   1150\u001b[0m         \u001b[0;34m\"\"\"Search all candidates in param_grid\"\"\"\u001b[0m\u001b[0;34m\u001b[0m\u001b[0;34m\u001b[0m\u001b[0m\n\u001b[0;32m-> 1151\u001b[0;31m         \u001b[0mevaluate_candidates\u001b[0m\u001b[0;34m(\u001b[0m\u001b[0mParameterGrid\u001b[0m\u001b[0;34m(\u001b[0m\u001b[0mself\u001b[0m\u001b[0;34m.\u001b[0m\u001b[0mparam_grid\u001b[0m\u001b[0;34m)\u001b[0m\u001b[0;34m)\u001b[0m\u001b[0;34m\u001b[0m\u001b[0;34m\u001b[0m\u001b[0m\n\u001b[0m\u001b[1;32m   1152\u001b[0m \u001b[0;34m\u001b[0m\u001b[0m\n\u001b[1;32m   1153\u001b[0m \u001b[0;34m\u001b[0m\u001b[0m\n",
            "\u001b[0;32m/usr/local/lib/python3.6/dist-packages/sklearn/model_selection/_search.py\u001b[0m in \u001b[0;36mevaluate_candidates\u001b[0;34m(candidate_params)\u001b[0m\n\u001b[1;32m    687\u001b[0m                                \u001b[0;32mfor\u001b[0m \u001b[0mparameters\u001b[0m\u001b[0;34m,\u001b[0m \u001b[0;34m(\u001b[0m\u001b[0mtrain\u001b[0m\u001b[0;34m,\u001b[0m \u001b[0mtest\u001b[0m\u001b[0;34m)\u001b[0m\u001b[0;34m\u001b[0m\u001b[0;34m\u001b[0m\u001b[0m\n\u001b[1;32m    688\u001b[0m                                in product(candidate_params,\n\u001b[0;32m--> 689\u001b[0;31m                                           cv.split(X, y, groups)))\n\u001b[0m\u001b[1;32m    690\u001b[0m \u001b[0;34m\u001b[0m\u001b[0m\n\u001b[1;32m    691\u001b[0m                 \u001b[0;32mif\u001b[0m \u001b[0mlen\u001b[0m\u001b[0;34m(\u001b[0m\u001b[0mout\u001b[0m\u001b[0;34m)\u001b[0m \u001b[0;34m<\u001b[0m \u001b[0;36m1\u001b[0m\u001b[0;34m:\u001b[0m\u001b[0;34m\u001b[0m\u001b[0;34m\u001b[0m\u001b[0m\n",
            "\u001b[0;32m/usr/local/lib/python3.6/dist-packages/joblib/parallel.py\u001b[0m in \u001b[0;36m__call__\u001b[0;34m(self, iterable)\u001b[0m\n\u001b[1;32m   1005\u001b[0m                 \u001b[0mself\u001b[0m\u001b[0;34m.\u001b[0m\u001b[0m_iterating\u001b[0m \u001b[0;34m=\u001b[0m \u001b[0mself\u001b[0m\u001b[0;34m.\u001b[0m\u001b[0m_original_iterator\u001b[0m \u001b[0;32mis\u001b[0m \u001b[0;32mnot\u001b[0m \u001b[0;32mNone\u001b[0m\u001b[0;34m\u001b[0m\u001b[0;34m\u001b[0m\u001b[0m\n\u001b[1;32m   1006\u001b[0m \u001b[0;34m\u001b[0m\u001b[0m\n\u001b[0;32m-> 1007\u001b[0;31m             \u001b[0;32mwhile\u001b[0m \u001b[0mself\u001b[0m\u001b[0;34m.\u001b[0m\u001b[0mdispatch_one_batch\u001b[0m\u001b[0;34m(\u001b[0m\u001b[0miterator\u001b[0m\u001b[0;34m)\u001b[0m\u001b[0;34m:\u001b[0m\u001b[0;34m\u001b[0m\u001b[0;34m\u001b[0m\u001b[0m\n\u001b[0m\u001b[1;32m   1008\u001b[0m                 \u001b[0;32mpass\u001b[0m\u001b[0;34m\u001b[0m\u001b[0;34m\u001b[0m\u001b[0m\n\u001b[1;32m   1009\u001b[0m \u001b[0;34m\u001b[0m\u001b[0m\n",
            "\u001b[0;32m/usr/local/lib/python3.6/dist-packages/joblib/parallel.py\u001b[0m in \u001b[0;36mdispatch_one_batch\u001b[0;34m(self, iterator)\u001b[0m\n\u001b[1;32m    833\u001b[0m                 \u001b[0;32mreturn\u001b[0m \u001b[0;32mFalse\u001b[0m\u001b[0;34m\u001b[0m\u001b[0;34m\u001b[0m\u001b[0m\n\u001b[1;32m    834\u001b[0m             \u001b[0;32melse\u001b[0m\u001b[0;34m:\u001b[0m\u001b[0;34m\u001b[0m\u001b[0;34m\u001b[0m\u001b[0m\n\u001b[0;32m--> 835\u001b[0;31m                 \u001b[0mself\u001b[0m\u001b[0;34m.\u001b[0m\u001b[0m_dispatch\u001b[0m\u001b[0;34m(\u001b[0m\u001b[0mtasks\u001b[0m\u001b[0;34m)\u001b[0m\u001b[0;34m\u001b[0m\u001b[0;34m\u001b[0m\u001b[0m\n\u001b[0m\u001b[1;32m    836\u001b[0m                 \u001b[0;32mreturn\u001b[0m \u001b[0;32mTrue\u001b[0m\u001b[0;34m\u001b[0m\u001b[0;34m\u001b[0m\u001b[0m\n\u001b[1;32m    837\u001b[0m \u001b[0;34m\u001b[0m\u001b[0m\n",
            "\u001b[0;32m/usr/local/lib/python3.6/dist-packages/joblib/parallel.py\u001b[0m in \u001b[0;36m_dispatch\u001b[0;34m(self, batch)\u001b[0m\n\u001b[1;32m    752\u001b[0m         \u001b[0;32mwith\u001b[0m \u001b[0mself\u001b[0m\u001b[0;34m.\u001b[0m\u001b[0m_lock\u001b[0m\u001b[0;34m:\u001b[0m\u001b[0;34m\u001b[0m\u001b[0;34m\u001b[0m\u001b[0m\n\u001b[1;32m    753\u001b[0m             \u001b[0mjob_idx\u001b[0m \u001b[0;34m=\u001b[0m \u001b[0mlen\u001b[0m\u001b[0;34m(\u001b[0m\u001b[0mself\u001b[0m\u001b[0;34m.\u001b[0m\u001b[0m_jobs\u001b[0m\u001b[0;34m)\u001b[0m\u001b[0;34m\u001b[0m\u001b[0;34m\u001b[0m\u001b[0m\n\u001b[0;32m--> 754\u001b[0;31m             \u001b[0mjob\u001b[0m \u001b[0;34m=\u001b[0m \u001b[0mself\u001b[0m\u001b[0;34m.\u001b[0m\u001b[0m_backend\u001b[0m\u001b[0;34m.\u001b[0m\u001b[0mapply_async\u001b[0m\u001b[0;34m(\u001b[0m\u001b[0mbatch\u001b[0m\u001b[0;34m,\u001b[0m \u001b[0mcallback\u001b[0m\u001b[0;34m=\u001b[0m\u001b[0mcb\u001b[0m\u001b[0;34m)\u001b[0m\u001b[0;34m\u001b[0m\u001b[0;34m\u001b[0m\u001b[0m\n\u001b[0m\u001b[1;32m    755\u001b[0m             \u001b[0;31m# A job can complete so quickly than its callback is\u001b[0m\u001b[0;34m\u001b[0m\u001b[0;34m\u001b[0m\u001b[0;34m\u001b[0m\u001b[0m\n\u001b[1;32m    756\u001b[0m             \u001b[0;31m# called before we get here, causing self._jobs to\u001b[0m\u001b[0;34m\u001b[0m\u001b[0;34m\u001b[0m\u001b[0;34m\u001b[0m\u001b[0m\n",
            "\u001b[0;32m/usr/local/lib/python3.6/dist-packages/joblib/_parallel_backends.py\u001b[0m in \u001b[0;36mapply_async\u001b[0;34m(self, func, callback)\u001b[0m\n\u001b[1;32m    207\u001b[0m     \u001b[0;32mdef\u001b[0m \u001b[0mapply_async\u001b[0m\u001b[0;34m(\u001b[0m\u001b[0mself\u001b[0m\u001b[0;34m,\u001b[0m \u001b[0mfunc\u001b[0m\u001b[0;34m,\u001b[0m \u001b[0mcallback\u001b[0m\u001b[0;34m=\u001b[0m\u001b[0;32mNone\u001b[0m\u001b[0;34m)\u001b[0m\u001b[0;34m:\u001b[0m\u001b[0;34m\u001b[0m\u001b[0;34m\u001b[0m\u001b[0m\n\u001b[1;32m    208\u001b[0m         \u001b[0;34m\"\"\"Schedule a func to be run\"\"\"\u001b[0m\u001b[0;34m\u001b[0m\u001b[0;34m\u001b[0m\u001b[0m\n\u001b[0;32m--> 209\u001b[0;31m         \u001b[0mresult\u001b[0m \u001b[0;34m=\u001b[0m \u001b[0mImmediateResult\u001b[0m\u001b[0;34m(\u001b[0m\u001b[0mfunc\u001b[0m\u001b[0;34m)\u001b[0m\u001b[0;34m\u001b[0m\u001b[0;34m\u001b[0m\u001b[0m\n\u001b[0m\u001b[1;32m    210\u001b[0m         \u001b[0;32mif\u001b[0m \u001b[0mcallback\u001b[0m\u001b[0;34m:\u001b[0m\u001b[0;34m\u001b[0m\u001b[0;34m\u001b[0m\u001b[0m\n\u001b[1;32m    211\u001b[0m             \u001b[0mcallback\u001b[0m\u001b[0;34m(\u001b[0m\u001b[0mresult\u001b[0m\u001b[0;34m)\u001b[0m\u001b[0;34m\u001b[0m\u001b[0;34m\u001b[0m\u001b[0m\n",
            "\u001b[0;32m/usr/local/lib/python3.6/dist-packages/joblib/_parallel_backends.py\u001b[0m in \u001b[0;36m__init__\u001b[0;34m(self, batch)\u001b[0m\n\u001b[1;32m    588\u001b[0m         \u001b[0;31m# Don't delay the application, to avoid keeping the input\u001b[0m\u001b[0;34m\u001b[0m\u001b[0;34m\u001b[0m\u001b[0;34m\u001b[0m\u001b[0m\n\u001b[1;32m    589\u001b[0m         \u001b[0;31m# arguments in memory\u001b[0m\u001b[0;34m\u001b[0m\u001b[0;34m\u001b[0m\u001b[0;34m\u001b[0m\u001b[0m\n\u001b[0;32m--> 590\u001b[0;31m         \u001b[0mself\u001b[0m\u001b[0;34m.\u001b[0m\u001b[0mresults\u001b[0m \u001b[0;34m=\u001b[0m \u001b[0mbatch\u001b[0m\u001b[0;34m(\u001b[0m\u001b[0;34m)\u001b[0m\u001b[0;34m\u001b[0m\u001b[0;34m\u001b[0m\u001b[0m\n\u001b[0m\u001b[1;32m    591\u001b[0m \u001b[0;34m\u001b[0m\u001b[0m\n\u001b[1;32m    592\u001b[0m     \u001b[0;32mdef\u001b[0m \u001b[0mget\u001b[0m\u001b[0;34m(\u001b[0m\u001b[0mself\u001b[0m\u001b[0;34m)\u001b[0m\u001b[0;34m:\u001b[0m\u001b[0;34m\u001b[0m\u001b[0;34m\u001b[0m\u001b[0m\n",
            "\u001b[0;32m/usr/local/lib/python3.6/dist-packages/joblib/parallel.py\u001b[0m in \u001b[0;36m__call__\u001b[0;34m(self)\u001b[0m\n\u001b[1;32m    254\u001b[0m         \u001b[0;32mwith\u001b[0m \u001b[0mparallel_backend\u001b[0m\u001b[0;34m(\u001b[0m\u001b[0mself\u001b[0m\u001b[0;34m.\u001b[0m\u001b[0m_backend\u001b[0m\u001b[0;34m,\u001b[0m \u001b[0mn_jobs\u001b[0m\u001b[0;34m=\u001b[0m\u001b[0mself\u001b[0m\u001b[0;34m.\u001b[0m\u001b[0m_n_jobs\u001b[0m\u001b[0;34m)\u001b[0m\u001b[0;34m:\u001b[0m\u001b[0;34m\u001b[0m\u001b[0;34m\u001b[0m\u001b[0m\n\u001b[1;32m    255\u001b[0m             return [func(*args, **kwargs)\n\u001b[0;32m--> 256\u001b[0;31m                     for func, args, kwargs in self.items]\n\u001b[0m\u001b[1;32m    257\u001b[0m \u001b[0;34m\u001b[0m\u001b[0m\n\u001b[1;32m    258\u001b[0m     \u001b[0;32mdef\u001b[0m \u001b[0m__len__\u001b[0m\u001b[0;34m(\u001b[0m\u001b[0mself\u001b[0m\u001b[0;34m)\u001b[0m\u001b[0;34m:\u001b[0m\u001b[0;34m\u001b[0m\u001b[0;34m\u001b[0m\u001b[0m\n",
            "\u001b[0;32m/usr/local/lib/python3.6/dist-packages/joblib/parallel.py\u001b[0m in \u001b[0;36m<listcomp>\u001b[0;34m(.0)\u001b[0m\n\u001b[1;32m    254\u001b[0m         \u001b[0;32mwith\u001b[0m \u001b[0mparallel_backend\u001b[0m\u001b[0;34m(\u001b[0m\u001b[0mself\u001b[0m\u001b[0;34m.\u001b[0m\u001b[0m_backend\u001b[0m\u001b[0;34m,\u001b[0m \u001b[0mn_jobs\u001b[0m\u001b[0;34m=\u001b[0m\u001b[0mself\u001b[0m\u001b[0;34m.\u001b[0m\u001b[0m_n_jobs\u001b[0m\u001b[0;34m)\u001b[0m\u001b[0;34m:\u001b[0m\u001b[0;34m\u001b[0m\u001b[0;34m\u001b[0m\u001b[0m\n\u001b[1;32m    255\u001b[0m             return [func(*args, **kwargs)\n\u001b[0;32m--> 256\u001b[0;31m                     for func, args, kwargs in self.items]\n\u001b[0m\u001b[1;32m    257\u001b[0m \u001b[0;34m\u001b[0m\u001b[0m\n\u001b[1;32m    258\u001b[0m     \u001b[0;32mdef\u001b[0m \u001b[0m__len__\u001b[0m\u001b[0;34m(\u001b[0m\u001b[0mself\u001b[0m\u001b[0;34m)\u001b[0m\u001b[0;34m:\u001b[0m\u001b[0;34m\u001b[0m\u001b[0;34m\u001b[0m\u001b[0m\n",
            "\u001b[0;32m/usr/local/lib/python3.6/dist-packages/sklearn/model_selection/_validation.py\u001b[0m in \u001b[0;36m_fit_and_score\u001b[0;34m(estimator, X, y, scorer, train, test, verbose, parameters, fit_params, return_train_score, return_parameters, return_n_test_samples, return_times, return_estimator, error_score)\u001b[0m\n\u001b[1;32m    542\u001b[0m     \u001b[0;32melse\u001b[0m\u001b[0;34m:\u001b[0m\u001b[0;34m\u001b[0m\u001b[0;34m\u001b[0m\u001b[0m\n\u001b[1;32m    543\u001b[0m         \u001b[0mfit_time\u001b[0m \u001b[0;34m=\u001b[0m \u001b[0mtime\u001b[0m\u001b[0;34m.\u001b[0m\u001b[0mtime\u001b[0m\u001b[0;34m(\u001b[0m\u001b[0;34m)\u001b[0m \u001b[0;34m-\u001b[0m \u001b[0mstart_time\u001b[0m\u001b[0;34m\u001b[0m\u001b[0;34m\u001b[0m\u001b[0m\n\u001b[0;32m--> 544\u001b[0;31m         \u001b[0mtest_scores\u001b[0m \u001b[0;34m=\u001b[0m \u001b[0m_score\u001b[0m\u001b[0;34m(\u001b[0m\u001b[0mestimator\u001b[0m\u001b[0;34m,\u001b[0m \u001b[0mX_test\u001b[0m\u001b[0;34m,\u001b[0m \u001b[0my_test\u001b[0m\u001b[0;34m,\u001b[0m \u001b[0mscorer\u001b[0m\u001b[0;34m)\u001b[0m\u001b[0;34m\u001b[0m\u001b[0;34m\u001b[0m\u001b[0m\n\u001b[0m\u001b[1;32m    545\u001b[0m         \u001b[0mscore_time\u001b[0m \u001b[0;34m=\u001b[0m \u001b[0mtime\u001b[0m\u001b[0;34m.\u001b[0m\u001b[0mtime\u001b[0m\u001b[0;34m(\u001b[0m\u001b[0;34m)\u001b[0m \u001b[0;34m-\u001b[0m \u001b[0mstart_time\u001b[0m \u001b[0;34m-\u001b[0m \u001b[0mfit_time\u001b[0m\u001b[0;34m\u001b[0m\u001b[0;34m\u001b[0m\u001b[0m\n\u001b[1;32m    546\u001b[0m         \u001b[0;32mif\u001b[0m \u001b[0mreturn_train_score\u001b[0m\u001b[0;34m:\u001b[0m\u001b[0;34m\u001b[0m\u001b[0;34m\u001b[0m\u001b[0m\n",
            "\u001b[0;32m/usr/local/lib/python3.6/dist-packages/sklearn/model_selection/_validation.py\u001b[0m in \u001b[0;36m_score\u001b[0;34m(estimator, X_test, y_test, scorer)\u001b[0m\n\u001b[1;32m    589\u001b[0m         \u001b[0mscores\u001b[0m \u001b[0;34m=\u001b[0m \u001b[0mscorer\u001b[0m\u001b[0;34m(\u001b[0m\u001b[0mestimator\u001b[0m\u001b[0;34m,\u001b[0m \u001b[0mX_test\u001b[0m\u001b[0;34m)\u001b[0m\u001b[0;34m\u001b[0m\u001b[0;34m\u001b[0m\u001b[0m\n\u001b[1;32m    590\u001b[0m     \u001b[0;32melse\u001b[0m\u001b[0;34m:\u001b[0m\u001b[0;34m\u001b[0m\u001b[0;34m\u001b[0m\u001b[0m\n\u001b[0;32m--> 591\u001b[0;31m         \u001b[0mscores\u001b[0m \u001b[0;34m=\u001b[0m \u001b[0mscorer\u001b[0m\u001b[0;34m(\u001b[0m\u001b[0mestimator\u001b[0m\u001b[0;34m,\u001b[0m \u001b[0mX_test\u001b[0m\u001b[0;34m,\u001b[0m \u001b[0my_test\u001b[0m\u001b[0;34m)\u001b[0m\u001b[0;34m\u001b[0m\u001b[0;34m\u001b[0m\u001b[0m\n\u001b[0m\u001b[1;32m    592\u001b[0m \u001b[0;34m\u001b[0m\u001b[0m\n\u001b[1;32m    593\u001b[0m     error_msg = (\"scoring must return a number, got %s (%s) \"\n",
            "\u001b[0;32m/usr/local/lib/python3.6/dist-packages/sklearn/metrics/_scorer.py\u001b[0m in \u001b[0;36m__call__\u001b[0;34m(self, estimator, *args, **kwargs)\u001b[0m\n\u001b[1;32m     87\u001b[0m                                       *args, **kwargs)\n\u001b[1;32m     88\u001b[0m             \u001b[0;32melse\u001b[0m\u001b[0;34m:\u001b[0m\u001b[0;34m\u001b[0m\u001b[0;34m\u001b[0m\u001b[0m\n\u001b[0;32m---> 89\u001b[0;31m                 \u001b[0mscore\u001b[0m \u001b[0;34m=\u001b[0m \u001b[0mscorer\u001b[0m\u001b[0;34m(\u001b[0m\u001b[0mestimator\u001b[0m\u001b[0;34m,\u001b[0m \u001b[0;34m*\u001b[0m\u001b[0margs\u001b[0m\u001b[0;34m,\u001b[0m \u001b[0;34m**\u001b[0m\u001b[0mkwargs\u001b[0m\u001b[0;34m)\u001b[0m\u001b[0;34m\u001b[0m\u001b[0;34m\u001b[0m\u001b[0m\n\u001b[0m\u001b[1;32m     90\u001b[0m             \u001b[0mscores\u001b[0m\u001b[0;34m[\u001b[0m\u001b[0mname\u001b[0m\u001b[0;34m]\u001b[0m \u001b[0;34m=\u001b[0m \u001b[0mscore\u001b[0m\u001b[0;34m\u001b[0m\u001b[0;34m\u001b[0m\u001b[0m\n\u001b[1;32m     91\u001b[0m         \u001b[0;32mreturn\u001b[0m \u001b[0mscores\u001b[0m\u001b[0;34m\u001b[0m\u001b[0;34m\u001b[0m\u001b[0m\n",
            "\u001b[0;32m/usr/local/lib/python3.6/dist-packages/sklearn/metrics/_scorer.py\u001b[0m in \u001b[0;36m_passthrough_scorer\u001b[0;34m(estimator, *args, **kwargs)\u001b[0m\n\u001b[1;32m    369\u001b[0m \u001b[0;32mdef\u001b[0m \u001b[0m_passthrough_scorer\u001b[0m\u001b[0;34m(\u001b[0m\u001b[0mestimator\u001b[0m\u001b[0;34m,\u001b[0m \u001b[0;34m*\u001b[0m\u001b[0margs\u001b[0m\u001b[0;34m,\u001b[0m \u001b[0;34m**\u001b[0m\u001b[0mkwargs\u001b[0m\u001b[0;34m)\u001b[0m\u001b[0;34m:\u001b[0m\u001b[0;34m\u001b[0m\u001b[0;34m\u001b[0m\u001b[0m\n\u001b[1;32m    370\u001b[0m     \u001b[0;34m\"\"\"Function that wraps estimator.score\"\"\"\u001b[0m\u001b[0;34m\u001b[0m\u001b[0;34m\u001b[0m\u001b[0m\n\u001b[0;32m--> 371\u001b[0;31m     \u001b[0;32mreturn\u001b[0m \u001b[0mestimator\u001b[0m\u001b[0;34m.\u001b[0m\u001b[0mscore\u001b[0m\u001b[0;34m(\u001b[0m\u001b[0;34m*\u001b[0m\u001b[0margs\u001b[0m\u001b[0;34m,\u001b[0m \u001b[0;34m**\u001b[0m\u001b[0mkwargs\u001b[0m\u001b[0;34m)\u001b[0m\u001b[0;34m\u001b[0m\u001b[0;34m\u001b[0m\u001b[0m\n\u001b[0m\u001b[1;32m    372\u001b[0m \u001b[0;34m\u001b[0m\u001b[0m\n\u001b[1;32m    373\u001b[0m \u001b[0;34m\u001b[0m\u001b[0m\n",
            "\u001b[0;32m/usr/local/lib/python3.6/dist-packages/sklearn/base.py\u001b[0m in \u001b[0;36mscore\u001b[0;34m(self, X, y, sample_weight)\u001b[0m\n\u001b[1;32m    367\u001b[0m         \"\"\"\n\u001b[1;32m    368\u001b[0m         \u001b[0;32mfrom\u001b[0m \u001b[0;34m.\u001b[0m\u001b[0mmetrics\u001b[0m \u001b[0;32mimport\u001b[0m \u001b[0maccuracy_score\u001b[0m\u001b[0;34m\u001b[0m\u001b[0;34m\u001b[0m\u001b[0m\n\u001b[0;32m--> 369\u001b[0;31m         \u001b[0;32mreturn\u001b[0m \u001b[0maccuracy_score\u001b[0m\u001b[0;34m(\u001b[0m\u001b[0my\u001b[0m\u001b[0;34m,\u001b[0m \u001b[0mself\u001b[0m\u001b[0;34m.\u001b[0m\u001b[0mpredict\u001b[0m\u001b[0;34m(\u001b[0m\u001b[0mX\u001b[0m\u001b[0;34m)\u001b[0m\u001b[0;34m,\u001b[0m \u001b[0msample_weight\u001b[0m\u001b[0;34m=\u001b[0m\u001b[0msample_weight\u001b[0m\u001b[0;34m)\u001b[0m\u001b[0;34m\u001b[0m\u001b[0;34m\u001b[0m\u001b[0m\n\u001b[0m\u001b[1;32m    370\u001b[0m \u001b[0;34m\u001b[0m\u001b[0m\n\u001b[1;32m    371\u001b[0m \u001b[0;34m\u001b[0m\u001b[0m\n",
            "\u001b[0;32m/usr/local/lib/python3.6/dist-packages/sklearn/svm/_base.py\u001b[0m in \u001b[0;36mpredict\u001b[0;34m(self, X)\u001b[0m\n\u001b[1;32m    592\u001b[0m             \u001b[0my\u001b[0m \u001b[0;34m=\u001b[0m \u001b[0mnp\u001b[0m\u001b[0;34m.\u001b[0m\u001b[0margmax\u001b[0m\u001b[0;34m(\u001b[0m\u001b[0mself\u001b[0m\u001b[0;34m.\u001b[0m\u001b[0mdecision_function\u001b[0m\u001b[0;34m(\u001b[0m\u001b[0mX\u001b[0m\u001b[0;34m)\u001b[0m\u001b[0;34m,\u001b[0m \u001b[0maxis\u001b[0m\u001b[0;34m=\u001b[0m\u001b[0;36m1\u001b[0m\u001b[0;34m)\u001b[0m\u001b[0;34m\u001b[0m\u001b[0;34m\u001b[0m\u001b[0m\n\u001b[1;32m    593\u001b[0m         \u001b[0;32melse\u001b[0m\u001b[0;34m:\u001b[0m\u001b[0;34m\u001b[0m\u001b[0;34m\u001b[0m\u001b[0m\n\u001b[0;32m--> 594\u001b[0;31m             \u001b[0my\u001b[0m \u001b[0;34m=\u001b[0m \u001b[0msuper\u001b[0m\u001b[0;34m(\u001b[0m\u001b[0;34m)\u001b[0m\u001b[0;34m.\u001b[0m\u001b[0mpredict\u001b[0m\u001b[0;34m(\u001b[0m\u001b[0mX\u001b[0m\u001b[0;34m)\u001b[0m\u001b[0;34m\u001b[0m\u001b[0;34m\u001b[0m\u001b[0m\n\u001b[0m\u001b[1;32m    595\u001b[0m         \u001b[0;32mreturn\u001b[0m \u001b[0mself\u001b[0m\u001b[0;34m.\u001b[0m\u001b[0mclasses_\u001b[0m\u001b[0;34m.\u001b[0m\u001b[0mtake\u001b[0m\u001b[0;34m(\u001b[0m\u001b[0mnp\u001b[0m\u001b[0;34m.\u001b[0m\u001b[0masarray\u001b[0m\u001b[0;34m(\u001b[0m\u001b[0my\u001b[0m\u001b[0;34m,\u001b[0m \u001b[0mdtype\u001b[0m\u001b[0;34m=\u001b[0m\u001b[0mnp\u001b[0m\u001b[0;34m.\u001b[0m\u001b[0mintp\u001b[0m\u001b[0;34m)\u001b[0m\u001b[0;34m)\u001b[0m\u001b[0;34m\u001b[0m\u001b[0;34m\u001b[0m\u001b[0m\n\u001b[1;32m    596\u001b[0m \u001b[0;34m\u001b[0m\u001b[0m\n",
            "\u001b[0;32m/usr/local/lib/python3.6/dist-packages/sklearn/svm/_base.py\u001b[0m in \u001b[0;36mpredict\u001b[0;34m(self, X)\u001b[0m\n\u001b[1;32m    315\u001b[0m         \u001b[0mX\u001b[0m \u001b[0;34m=\u001b[0m \u001b[0mself\u001b[0m\u001b[0;34m.\u001b[0m\u001b[0m_validate_for_predict\u001b[0m\u001b[0;34m(\u001b[0m\u001b[0mX\u001b[0m\u001b[0;34m)\u001b[0m\u001b[0;34m\u001b[0m\u001b[0;34m\u001b[0m\u001b[0m\n\u001b[1;32m    316\u001b[0m         \u001b[0mpredict\u001b[0m \u001b[0;34m=\u001b[0m \u001b[0mself\u001b[0m\u001b[0;34m.\u001b[0m\u001b[0m_sparse_predict\u001b[0m \u001b[0;32mif\u001b[0m \u001b[0mself\u001b[0m\u001b[0;34m.\u001b[0m\u001b[0m_sparse\u001b[0m \u001b[0;32melse\u001b[0m \u001b[0mself\u001b[0m\u001b[0;34m.\u001b[0m\u001b[0m_dense_predict\u001b[0m\u001b[0;34m\u001b[0m\u001b[0;34m\u001b[0m\u001b[0m\n\u001b[0;32m--> 317\u001b[0;31m         \u001b[0;32mreturn\u001b[0m \u001b[0mpredict\u001b[0m\u001b[0;34m(\u001b[0m\u001b[0mX\u001b[0m\u001b[0;34m)\u001b[0m\u001b[0;34m\u001b[0m\u001b[0;34m\u001b[0m\u001b[0m\n\u001b[0m\u001b[1;32m    318\u001b[0m \u001b[0;34m\u001b[0m\u001b[0m\n\u001b[1;32m    319\u001b[0m     \u001b[0;32mdef\u001b[0m \u001b[0m_dense_predict\u001b[0m\u001b[0;34m(\u001b[0m\u001b[0mself\u001b[0m\u001b[0;34m,\u001b[0m \u001b[0mX\u001b[0m\u001b[0;34m)\u001b[0m\u001b[0;34m:\u001b[0m\u001b[0;34m\u001b[0m\u001b[0;34m\u001b[0m\u001b[0m\n",
            "\u001b[0;32m/usr/local/lib/python3.6/dist-packages/sklearn/svm/_base.py\u001b[0m in \u001b[0;36m_dense_predict\u001b[0;34m(self, X)\u001b[0m\n\u001b[1;32m    337\u001b[0m             \u001b[0mself\u001b[0m\u001b[0;34m.\u001b[0m\u001b[0mprobA_\u001b[0m\u001b[0;34m,\u001b[0m \u001b[0mself\u001b[0m\u001b[0;34m.\u001b[0m\u001b[0mprobB_\u001b[0m\u001b[0;34m,\u001b[0m \u001b[0msvm_type\u001b[0m\u001b[0;34m=\u001b[0m\u001b[0msvm_type\u001b[0m\u001b[0;34m,\u001b[0m \u001b[0mkernel\u001b[0m\u001b[0;34m=\u001b[0m\u001b[0mkernel\u001b[0m\u001b[0;34m,\u001b[0m\u001b[0;34m\u001b[0m\u001b[0;34m\u001b[0m\u001b[0m\n\u001b[1;32m    338\u001b[0m             \u001b[0mdegree\u001b[0m\u001b[0;34m=\u001b[0m\u001b[0mself\u001b[0m\u001b[0;34m.\u001b[0m\u001b[0mdegree\u001b[0m\u001b[0;34m,\u001b[0m \u001b[0mcoef0\u001b[0m\u001b[0;34m=\u001b[0m\u001b[0mself\u001b[0m\u001b[0;34m.\u001b[0m\u001b[0mcoef0\u001b[0m\u001b[0;34m,\u001b[0m \u001b[0mgamma\u001b[0m\u001b[0;34m=\u001b[0m\u001b[0mself\u001b[0m\u001b[0;34m.\u001b[0m\u001b[0m_gamma\u001b[0m\u001b[0;34m,\u001b[0m\u001b[0;34m\u001b[0m\u001b[0;34m\u001b[0m\u001b[0m\n\u001b[0;32m--> 339\u001b[0;31m             cache_size=self.cache_size)\n\u001b[0m\u001b[1;32m    340\u001b[0m \u001b[0;34m\u001b[0m\u001b[0m\n\u001b[1;32m    341\u001b[0m     \u001b[0;32mdef\u001b[0m \u001b[0m_sparse_predict\u001b[0m\u001b[0;34m(\u001b[0m\u001b[0mself\u001b[0m\u001b[0;34m,\u001b[0m \u001b[0mX\u001b[0m\u001b[0;34m)\u001b[0m\u001b[0;34m:\u001b[0m\u001b[0;34m\u001b[0m\u001b[0;34m\u001b[0m\u001b[0m\n",
            "\u001b[0;31mKeyboardInterrupt\u001b[0m: "
          ]
        }
      ]
    },
    {
      "cell_type": "code",
      "metadata": {
        "id": "8j8T3BiRxEKI",
        "colab_type": "code",
        "colab": {}
      },
      "source": [
        "df_model_score = pd.DataFrame(scores,columns=['model','best_score','best_params'])\n",
        "df_model_score"
      ],
      "execution_count": 0,
      "outputs": []
    },
    {
      "cell_type": "code",
      "metadata": {
        "id": "04bCo9oqofgT",
        "colab_type": "code",
        "colab": {}
      },
      "source": [
        "#X_train, X_test, Y_train, Y_test = train_test_split(X, Y, test_size=0.2,random_state=0)\n",
        "\n",
        "#lr = LogisticRegression()\n",
        "#lr.fit(X_train, Y_train)\n",
        "#print(\"LogisticRegression: %.2f%%\" % (lr.score(X_test, Y_test)*100.0))\n",
        "\n",
        "\n",
        "kfold = model_selection.KFold(n_splits=10, random_state=100)\n",
        "model_kfold = LogisticRegression()\n",
        "results_kfold = model_selection.cross_val_score(model_kfold, X, Y, cv=kfold)\n",
        "print(\"LogisticRegression: %.2f%%\" % (results_kfold.mean()*100.0))"
      ],
      "execution_count": 0,
      "outputs": []
    },
    {
      "cell_type": "code",
      "metadata": {
        "id": "g99eQeR8ism2",
        "colab_type": "code",
        "colab": {}
      },
      "source": [
        "corrmat = df_encode.corr()\n",
        "top_corr_features = corrmat.index\n",
        "plt.figure(figsize=(10,10))\n",
        "#plot heat map\n",
        "g=sns.heatmap(df_encode[top_corr_features].corr(),annot=True,cmap=\"RdYlGn\")"
      ],
      "execution_count": 0,
      "outputs": []
    },
    {
      "cell_type": "code",
      "metadata": {
        "id": "yFDTX79Ii0uj",
        "colab_type": "code",
        "colab": {}
      },
      "source": [
        "df_corr = df_encode.corr().unstack().sort_values(kind=\"quicksort\", ascending=False).reset_index()\n",
        "df_corr.rename(columns={\"level_0\": \"Feature 1\", \"level_1\": \"Feature 2\", 0: 'Correlation Coefficient'}, inplace=True)\n",
        "df_corr[df_corr['Feature 1'] == 'Campaign Period Sales']"
      ],
      "execution_count": 0,
      "outputs": []
    }
  ]
}