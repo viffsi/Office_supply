{
  "nbformat": 4,
  "nbformat_minor": 0,
  "metadata": {
    "kernelspec": {
      "language": "python",
      "display_name": "Python 3",
      "name": "python3"
    },
    "language_info": {
      "pygments_lexer": "ipython3",
      "nbconvert_exporter": "python",
      "version": "3.6.4",
      "file_extension": ".py",
      "codemirror_mode": {
        "name": "ipython",
        "version": 3
      },
      "name": "python",
      "mimetype": "text/x-python"
    },
    "colab": {
      "name": "office_supply.ipynb",
      "provenance": [],
      "include_colab_link": true
    }
  },
  "cells": [
    {
      "cell_type": "markdown",
      "metadata": {
        "id": "view-in-github",
        "colab_type": "text"
      },
      "source": [
        "<a href=\"https://colab.research.google.com/github/viffsi/Office_supply/blob/master/office_supply.ipynb\" target=\"_parent\"><img src=\"https://colab.research.google.com/assets/colab-badge.svg\" alt=\"Open In Colab\"/></a>"
      ]
    },
    {
      "cell_type": "code",
      "metadata": {
        "id": "rJGSoW8DS7BH",
        "colab_type": "code",
        "outputId": "4319272c-15e2-4b27-eed5-1b4c38d7a7c4",
        "colab": {
          "base_uri": "https://localhost:8080/",
          "height": 34
        }
      },
      "source": [
        "from google.colab import drive\n",
        "drive.mount('/content/drive')"
      ],
      "execution_count": 175,
      "outputs": [
        {
          "output_type": "stream",
          "text": [
            "Drive already mounted at /content/drive; to attempt to forcibly remount, call drive.mount(\"/content/drive\", force_remount=True).\n"
          ],
          "name": "stdout"
        }
      ]
    },
    {
      "cell_type": "markdown",
      "metadata": {
        "id": "vpggf0eCSCHq",
        "colab_type": "text"
      },
      "source": [
        "staple import"
      ]
    },
    {
      "cell_type": "code",
      "metadata": {
        "trusted": true,
        "id": "Dek95cf4SCHz",
        "colab_type": "code",
        "colab": {}
      },
      "source": [
        "import pandas as pd\n",
        "import os\n",
        "import numpy as np\n",
        "import seaborn as sns\n",
        "import matplotlib.pyplot as plt\n",
        "from sklearn import preprocessing\n",
        "%matplotlib inline\n",
        "\n",
        "import warnings\n",
        "warnings.filterwarnings('ignore')"
      ],
      "execution_count": 0,
      "outputs": []
    },
    {
      "cell_type": "markdown",
      "metadata": {
        "_uuid": "d629ff2d2480ee46fbb7e2d37f6b5fab8052498a",
        "collapsed": true,
        "_cell_guid": "79c7e3d0-c299-4dcb-8224-4455121ee9b0",
        "trusted": false,
        "id": "wGIheg05SCIO",
        "colab_type": "text"
      },
      "source": [
        "EDA"
      ]
    },
    {
      "cell_type": "markdown",
      "metadata": {
        "id": "890EcWcESCIS",
        "colab_type": "text"
      },
      "source": [
        "**Column description**\n",
        "1. Customer Number\t \n",
        "A unique company identifier \n",
        "2. Campaign Period Sales \t \n",
        "Total dollar purchased during the campaign period \n",
        "3. Historical Sales Volume \t\n",
        "Total historical dollar purchased\n",
        "4. Date of First Purchase\t\n",
        "Date of first transaction\n",
        "5. Number of Prior Year Transactions\t\n",
        "The number of transactions in the year prior to the promotion period\n",
        "6. Do Not Direct Mail Solicit\t\n",
        "Does not allow promotional mail\n",
        "7. Do Not Email\t\n",
        "Does not allow promotional email\n",
        "8. Do Not Telemarket\t\n",
        "Does not allow promotional calls\n",
        "9. Repurchase Method\t\n",
        "Method of last purchase prior to the campaign\n",
        "10. Last Transaction Channel\t\n",
        "Sales channel of last purchase prior to the campaign\n",
        "11. Desk\t\n",
        "Prior purchase of this item\n",
        "12. Executive Chair\t\n",
        "Prior purchase of this item\n",
        "13. Standard Chair\t\n",
        "Prior purchase of this item\n",
        "14. Monitor\t\n",
        "Prior purchase of this item\n",
        "15. Printer\t\n",
        "Prior purchase of this item\n",
        "16. Computer\t\n",
        "Prior purchase of this item\n",
        "17. Insurance\t\n",
        "Prior purchase of this item\n",
        "18. Toner\t\n",
        "Prior purchase of this item\n",
        "19. Office Supplies\t\n",
        "Prior purchase of this item\n",
        "20. Number of Employees\t\n",
        "Purchased data on no. of employees\n",
        "21. Language\t\n",
        "Primary language spoken"
      ]
    },
    {
      "cell_type": "code",
      "metadata": {
        "trusted": true,
        "id": "yzEi0Dx9SCIX",
        "colab_type": "code",
        "outputId": "7fbf7319-4e6e-4343-fe6e-0caad9967deb",
        "colab": {
          "base_uri": "https://localhost:8080/",
          "height": 193
        }
      },
      "source": [
        "df_temp = pd.read_excel (r'/content/drive/My Drive/office supply/OfficeSupplyCampaignResultS7-23-19.xlsx', sheet_name='Campaign Results')\n",
        "df_temp.head(3)"
      ],
      "execution_count": 177,
      "outputs": [
        {
          "output_type": "execute_result",
          "data": {
            "text/html": [
              "<div>\n",
              "<style scoped>\n",
              "    .dataframe tbody tr th:only-of-type {\n",
              "        vertical-align: middle;\n",
              "    }\n",
              "\n",
              "    .dataframe tbody tr th {\n",
              "        vertical-align: top;\n",
              "    }\n",
              "\n",
              "    .dataframe thead th {\n",
              "        text-align: right;\n",
              "    }\n",
              "</style>\n",
              "<table border=\"1\" class=\"dataframe\">\n",
              "  <thead>\n",
              "    <tr style=\"text-align: right;\">\n",
              "      <th></th>\n",
              "      <th>Customer Number</th>\n",
              "      <th>Campaign Period Sales</th>\n",
              "      <th>Historical Sales Volume</th>\n",
              "      <th>Date of First Purchase</th>\n",
              "      <th>Number of Prior Year Transactions</th>\n",
              "      <th>Do Not Direct Mail Solicit</th>\n",
              "      <th>Do Not Email</th>\n",
              "      <th>Do Not Telemarket</th>\n",
              "      <th>Repurchase Method</th>\n",
              "      <th>Last Transaction Channel</th>\n",
              "      <th>Desk</th>\n",
              "      <th>Executive Chair</th>\n",
              "      <th>Standard Chair</th>\n",
              "      <th>Monitor</th>\n",
              "      <th>Printer</th>\n",
              "      <th>Computer</th>\n",
              "      <th>Insurance</th>\n",
              "      <th>Toner</th>\n",
              "      <th>Office Supplies</th>\n",
              "      <th>Number of Employees</th>\n",
              "      <th>Language</th>\n",
              "    </tr>\n",
              "  </thead>\n",
              "  <tbody>\n",
              "    <tr>\n",
              "      <th>0</th>\n",
              "      <td>86734.0</td>\n",
              "      <td>238.704762</td>\n",
              "      <td>146803.428571</td>\n",
              "      <td>1968-10-01</td>\n",
              "      <td>15.0</td>\n",
              "      <td>0.0</td>\n",
              "      <td>0.0</td>\n",
              "      <td>0.0</td>\n",
              "      <td>AUTO RENEW</td>\n",
              "      <td>AUTO RENEW</td>\n",
              "      <td>N</td>\n",
              "      <td>N</td>\n",
              "      <td>N</td>\n",
              "      <td>N</td>\n",
              "      <td>N</td>\n",
              "      <td>N</td>\n",
              "      <td>Y</td>\n",
              "      <td>N</td>\n",
              "      <td>Y</td>\n",
              "      <td>6-10</td>\n",
              "      <td>English</td>\n",
              "    </tr>\n",
              "    <tr>\n",
              "      <th>1</th>\n",
              "      <td>97098.0</td>\n",
              "      <td>281.680000</td>\n",
              "      <td>439984.160000</td>\n",
              "      <td>1981-06-15</td>\n",
              "      <td>22.0</td>\n",
              "      <td>0.0</td>\n",
              "      <td>0.0</td>\n",
              "      <td>0.0</td>\n",
              "      <td>NOTICE</td>\n",
              "      <td>MAIL</td>\n",
              "      <td>N</td>\n",
              "      <td>N</td>\n",
              "      <td>N</td>\n",
              "      <td>N</td>\n",
              "      <td>N</td>\n",
              "      <td>N</td>\n",
              "      <td>N</td>\n",
              "      <td>N</td>\n",
              "      <td>Y</td>\n",
              "      <td>11-50</td>\n",
              "      <td>English</td>\n",
              "    </tr>\n",
              "    <tr>\n",
              "      <th>2</th>\n",
              "      <td>100836.0</td>\n",
              "      <td>432.857143</td>\n",
              "      <td>970465.714286</td>\n",
              "      <td>1962-11-01</td>\n",
              "      <td>19.0</td>\n",
              "      <td>0.0</td>\n",
              "      <td>0.0</td>\n",
              "      <td>0.0</td>\n",
              "      <td>NOTICE</td>\n",
              "      <td>MAIL</td>\n",
              "      <td>N</td>\n",
              "      <td>N</td>\n",
              "      <td>N</td>\n",
              "      <td>N</td>\n",
              "      <td>N</td>\n",
              "      <td>N</td>\n",
              "      <td>N</td>\n",
              "      <td>N</td>\n",
              "      <td>Y</td>\n",
              "      <td>6-10</td>\n",
              "      <td>English</td>\n",
              "    </tr>\n",
              "  </tbody>\n",
              "</table>\n",
              "</div>"
            ],
            "text/plain": [
              "   Customer Number  Campaign Period Sales  ...  Number of Employees Language\n",
              "0          86734.0             238.704762  ...                 6-10  English\n",
              "1          97098.0             281.680000  ...                11-50  English\n",
              "2         100836.0             432.857143  ...                 6-10  English\n",
              "\n",
              "[3 rows x 21 columns]"
            ]
          },
          "metadata": {
            "tags": []
          },
          "execution_count": 177
        }
      ]
    },
    {
      "cell_type": "code",
      "metadata": {
        "trusted": true,
        "id": "5gEY-NeLSCIr",
        "colab_type": "code",
        "outputId": "48590b17-f695-4205-ed77-d0b30870274c",
        "colab": {
          "base_uri": "https://localhost:8080/",
          "height": 493
        }
      },
      "source": [
        "df_temp.info()"
      ],
      "execution_count": 178,
      "outputs": [
        {
          "output_type": "stream",
          "text": [
            "<class 'pandas.core.frame.DataFrame'>\n",
            "RangeIndex: 16173 entries, 0 to 16172\n",
            "Data columns (total 21 columns):\n",
            " #   Column                             Non-Null Count  Dtype         \n",
            "---  ------                             --------------  -----         \n",
            " 0   Customer Number                    16172 non-null  float64       \n",
            " 1   Campaign Period Sales              16172 non-null  float64       \n",
            " 2   Historical Sales Volume            16172 non-null  float64       \n",
            " 3   Date of First Purchase             16172 non-null  datetime64[ns]\n",
            " 4   Number of Prior Year Transactions  16172 non-null  float64       \n",
            " 5   Do Not Direct Mail Solicit         16172 non-null  float64       \n",
            " 6   Do Not Email                       16172 non-null  float64       \n",
            " 7   Do Not Telemarket                  16172 non-null  float64       \n",
            " 8   Repurchase Method                  16172 non-null  object        \n",
            " 9   Last Transaction Channel           15730 non-null  object        \n",
            " 10  Desk                               16173 non-null  object        \n",
            " 11  Executive Chair                    16171 non-null  object        \n",
            " 12  Standard Chair                     16171 non-null  object        \n",
            " 13  Monitor                            16171 non-null  object        \n",
            " 14  Printer                            16171 non-null  object        \n",
            " 15  Computer                           16172 non-null  object        \n",
            " 16  Insurance                          16170 non-null  object        \n",
            " 17  Toner                              16170 non-null  object        \n",
            " 18  Office Supplies                    16172 non-null  object        \n",
            " 19  Number of Employees                16170 non-null  object        \n",
            " 20  Language                           11701 non-null  object        \n",
            "dtypes: datetime64[ns](1), float64(7), object(13)\n",
            "memory usage: 2.6+ MB\n"
          ],
          "name": "stdout"
        }
      ]
    },
    {
      "cell_type": "markdown",
      "metadata": {
        "id": "NVlTEoaHSCI8",
        "colab_type": "text"
      },
      "source": [
        "refresh database"
      ]
    },
    {
      "cell_type": "code",
      "metadata": {
        "trusted": true,
        "id": "W9VGuDQ6SCJA",
        "colab_type": "code",
        "colab": {}
      },
      "source": [
        "df = df_temp"
      ],
      "execution_count": 0,
      "outputs": []
    },
    {
      "cell_type": "markdown",
      "metadata": {
        "id": "8mGyyoxeSCJS",
        "colab_type": "text"
      },
      "source": [
        "check duplicate record"
      ]
    },
    {
      "cell_type": "code",
      "metadata": {
        "trusted": true,
        "id": "2CWhyvFmSCJX",
        "colab_type": "code",
        "outputId": "bd061acb-5f36-4cd2-e032-39e1bc3bcf8e",
        "colab": {
          "base_uri": "https://localhost:8080/",
          "height": 391
        }
      },
      "source": [
        "df.nunique()"
      ],
      "execution_count": 180,
      "outputs": [
        {
          "output_type": "execute_result",
          "data": {
            "text/plain": [
              "Customer Number                      16172\n",
              "Campaign Period Sales                 4322\n",
              "Historical Sales Volume              16162\n",
              "Date of First Purchase                3493\n",
              "Number of Prior Year Transactions       61\n",
              "Do Not Direct Mail Solicit               2\n",
              "Do Not Email                             2\n",
              "Do Not Telemarket                        2\n",
              "Repurchase Method                        3\n",
              "Last Transaction Channel                 8\n",
              "Desk                                     4\n",
              "Executive Chair                          2\n",
              "Standard Chair                           2\n",
              "Monitor                                  2\n",
              "Printer                                  2\n",
              "Computer                                 3\n",
              "Insurance                                3\n",
              "Toner                                    3\n",
              "Office Supplies                          2\n",
              "Number of Employees                      7\n",
              "Language                                18\n",
              "dtype: int64"
            ]
          },
          "metadata": {
            "tags": []
          },
          "execution_count": 180
        }
      ]
    },
    {
      "cell_type": "markdown",
      "metadata": {
        "id": "OsHXKeMWSCJm",
        "colab_type": "text"
      },
      "source": [
        "Does Campaign Period Sales consist only the transaction directly to the campaign or both this campaign transaction and normal transaction \n",
        "\n",
        "Should we take Campaign Period Sales where >0 as participate and =0 as not participate\n",
        "\n",
        "Or get a mean of the dollar purchased based on Number of Prior Year Transactions, and then take Campaign Period Sales minus mean where >mean as participate and =mean as not participate"
      ]
    },
    {
      "cell_type": "code",
      "metadata": {
        "trusted": true,
        "id": "7oc837UISCJp",
        "colab_type": "code",
        "outputId": "a32b5764-26aa-4a13-a729-84f6e6a53cc7",
        "colab": {
          "base_uri": "https://localhost:8080/",
          "height": 170
        }
      },
      "source": [
        "df['Campaign Period Sales'].describe()"
      ],
      "execution_count": 181,
      "outputs": [
        {
          "output_type": "execute_result",
          "data": {
            "text/plain": [
              "count    16172.000000\n",
              "mean       245.896967\n",
              "std        720.317450\n",
              "min       -566.500000\n",
              "25%          0.000000\n",
              "50%          0.000000\n",
              "75%        145.669048\n",
              "max       8936.850000\n",
              "Name: Campaign Period Sales, dtype: float64"
            ]
          },
          "metadata": {
            "tags": []
          },
          "execution_count": 181
        }
      ]
    },
    {
      "cell_type": "code",
      "metadata": {
        "trusted": true,
        "id": "i6C6DL4WSCJ9",
        "colab_type": "code",
        "outputId": "b07729d8-9e08-4f42-e5d7-ed88b2662508",
        "colab": {
          "base_uri": "https://localhost:8080/",
          "height": 170
        }
      },
      "source": [
        "df.loc[df['Campaign Period Sales'] > 0, 'Campaign Period Sales'] = 1\n",
        "df.loc[df['Campaign Period Sales'] == 0, 'Campaign Period Sales'] = 0\n",
        "df['Campaign Period Sales'].value_counts()  "
      ],
      "execution_count": 182,
      "outputs": [
        {
          "output_type": "execute_result",
          "data": {
            "text/plain": [
              " 0.000000      11787\n",
              " 1.000000       4379\n",
              "-140.960000        1\n",
              "-161.166667        1\n",
              "-566.500000        1\n",
              "-119.333333        1\n",
              "-421.833333        1\n",
              "-14.320000         1\n",
              "Name: Campaign Period Sales, dtype: int64"
            ]
          },
          "metadata": {
            "tags": []
          },
          "execution_count": 182
        }
      ]
    },
    {
      "cell_type": "markdown",
      "metadata": {
        "id": "mrWVfv64SCKJ",
        "colab_type": "raw"
      },
      "source": [
        "negative value indicate refund, will drop"
      ]
    },
    {
      "cell_type": "code",
      "metadata": {
        "trusted": true,
        "id": "uyLjSRu_SCKM",
        "colab_type": "code",
        "outputId": "2785b57b-3c45-46c2-8e2b-ab93374a5afb",
        "colab": {
          "base_uri": "https://localhost:8080/",
          "height": 68
        }
      },
      "source": [
        "df = df[df['Campaign Period Sales'] >= 0]\n",
        "df['Campaign Period Sales'].value_counts()  "
      ],
      "execution_count": 183,
      "outputs": [
        {
          "output_type": "execute_result",
          "data": {
            "text/plain": [
              "0.0    11787\n",
              "1.0     4379\n",
              "Name: Campaign Period Sales, dtype: int64"
            ]
          },
          "metadata": {
            "tags": []
          },
          "execution_count": 183
        }
      ]
    },
    {
      "cell_type": "markdown",
      "metadata": {
        "id": "IKyXKlhXSCKY",
        "colab_type": "text"
      },
      "source": [
        "Data cleaning & mapping"
      ]
    },
    {
      "cell_type": "code",
      "metadata": {
        "trusted": true,
        "id": "4Jsn5cGESCKa",
        "colab_type": "code",
        "colab": {}
      },
      "source": [
        "df = df.drop('Customer Number', axis = 1)"
      ],
      "execution_count": 0,
      "outputs": []
    },
    {
      "cell_type": "code",
      "metadata": {
        "trusted": true,
        "id": "lkIi11kySCKm",
        "colab_type": "code",
        "outputId": "a50e8a27-497d-4d86-d977-e771b6b9730a",
        "colab": {
          "base_uri": "https://localhost:8080/",
          "height": 68
        }
      },
      "source": [
        "df['Do Not Direct Mail Solicit'].value_counts()"
      ],
      "execution_count": 185,
      "outputs": [
        {
          "output_type": "execute_result",
          "data": {
            "text/plain": [
              "0.0    14425\n",
              "1.0     1741\n",
              "Name: Do Not Direct Mail Solicit, dtype: int64"
            ]
          },
          "metadata": {
            "tags": []
          },
          "execution_count": 185
        }
      ]
    },
    {
      "cell_type": "code",
      "metadata": {
        "trusted": true,
        "id": "IfEGHLE1SCK0",
        "colab_type": "code",
        "outputId": "b782138a-d401-4b91-955d-7ac5b7272200",
        "colab": {
          "base_uri": "https://localhost:8080/",
          "height": 68
        }
      },
      "source": [
        "df['Do Not Email'].value_counts()    \n"
      ],
      "execution_count": 186,
      "outputs": [
        {
          "output_type": "execute_result",
          "data": {
            "text/plain": [
              "0.0    12745\n",
              "1.0     3421\n",
              "Name: Do Not Email, dtype: int64"
            ]
          },
          "metadata": {
            "tags": []
          },
          "execution_count": 186
        }
      ]
    },
    {
      "cell_type": "code",
      "metadata": {
        "trusted": true,
        "id": "mlgAQ6PaSCLA",
        "colab_type": "code",
        "outputId": "57c98b36-7cf5-40ea-d5b8-ddf7d145bad5",
        "colab": {
          "base_uri": "https://localhost:8080/",
          "height": 68
        }
      },
      "source": [
        "df['Do Not Telemarket'].value_counts()\n"
      ],
      "execution_count": 187,
      "outputs": [
        {
          "output_type": "execute_result",
          "data": {
            "text/plain": [
              "0.0    14590\n",
              "1.0     1576\n",
              "Name: Do Not Telemarket, dtype: int64"
            ]
          },
          "metadata": {
            "tags": []
          },
          "execution_count": 187
        }
      ]
    },
    {
      "cell_type": "code",
      "metadata": {
        "trusted": true,
        "id": "A6LSEusDSCLL",
        "colab_type": "code",
        "outputId": "fee99955-7bb4-4460-eb93-e385f2238449",
        "colab": {
          "base_uri": "https://localhost:8080/",
          "height": 85
        }
      },
      "source": [
        "df['Repurchase Method'].value_counts()"
      ],
      "execution_count": 188,
      "outputs": [
        {
          "output_type": "execute_result",
          "data": {
            "text/plain": [
              "NOTICE          11897\n",
              "AUTO RENEW       4268\n",
              "PAYMENT PLAN        1\n",
              "Name: Repurchase Method, dtype: int64"
            ]
          },
          "metadata": {
            "tags": []
          },
          "execution_count": 188
        }
      ]
    },
    {
      "cell_type": "code",
      "metadata": {
        "trusted": true,
        "id": "QURb8pm8SCLW",
        "colab_type": "code",
        "outputId": "b111f005-0c65-426d-cf72-921896f50964",
        "colab": {
          "base_uri": "https://localhost:8080/",
          "height": 170
        }
      },
      "source": [
        "df['Last Transaction Channel'].value_counts()"
      ],
      "execution_count": 189,
      "outputs": [
        {
          "output_type": "execute_result",
          "data": {
            "text/plain": [
              "MAIL              7766\n",
              "AUTO RENEW        3141\n",
              "WEB               2645\n",
              "PHONE             1096\n",
              "BRANCH (POS)       633\n",
              "BRANCH (PHONE)     411\n",
              "BILLING             18\n",
              "IT                  14\n",
              "Name: Last Transaction Channel, dtype: int64"
            ]
          },
          "metadata": {
            "tags": []
          },
          "execution_count": 189
        }
      ]
    },
    {
      "cell_type": "code",
      "metadata": {
        "trusted": true,
        "id": "JUr36KJ5SCLh",
        "colab_type": "code",
        "outputId": "96fc2b23-b61f-4cf4-81d6-1245c29f7123",
        "colab": {
          "base_uri": "https://localhost:8080/",
          "height": 34
        }
      },
      "source": [
        "df['Last Transaction Channel'].isnull().sum()"
      ],
      "execution_count": 190,
      "outputs": [
        {
          "output_type": "execute_result",
          "data": {
            "text/plain": [
              "442"
            ]
          },
          "metadata": {
            "tags": []
          },
          "execution_count": 190
        }
      ]
    },
    {
      "cell_type": "code",
      "metadata": {
        "trusted": true,
        "id": "oEK-Zo-BSCLq",
        "colab_type": "code",
        "colab": {}
      },
      "source": [
        "df = df[df['Last Transaction Channel'].notna()]"
      ],
      "execution_count": 0,
      "outputs": []
    },
    {
      "cell_type": "code",
      "metadata": {
        "trusted": true,
        "id": "0xPoyvZDSCLz",
        "colab_type": "code",
        "outputId": "87cf43e3-e987-4479-c7d4-512d04124cb7",
        "colab": {
          "base_uri": "https://localhost:8080/",
          "height": 85
        }
      },
      "source": [
        "df['Desk'].value_counts()"
      ],
      "execution_count": 192,
      "outputs": [
        {
          "output_type": "execute_result",
          "data": {
            "text/plain": [
              "N     14837\n",
              "Y       886\n",
              "YY        1\n",
              "Name: Desk, dtype: int64"
            ]
          },
          "metadata": {
            "tags": []
          },
          "execution_count": 192
        }
      ]
    },
    {
      "cell_type": "markdown",
      "metadata": {
        "id": "xNvIvKxlSCL_",
        "colab_type": "text"
      },
      "source": [
        "There is a problem with Desk column, 1 extra line and 1 incorrect value\n",
        "\n",
        "Find out the location of this adnormal to decide next action\n",
        "\n",
        "Incorrect value will map later"
      ]
    },
    {
      "cell_type": "code",
      "metadata": {
        "trusted": true,
        "id": "T9k66hdKSCMA",
        "colab_type": "code",
        "outputId": "13875772-652b-4d09-a023-320b2d4c24dc",
        "colab": {
          "base_uri": "https://localhost:8080/",
          "height": 34
        }
      },
      "source": [
        "print(df[df['Desk']==911].index.values)"
      ],
      "execution_count": 193,
      "outputs": [
        {
          "output_type": "stream",
          "text": [
            "[]\n"
          ],
          "name": "stdout"
        }
      ]
    },
    {
      "cell_type": "code",
      "metadata": {
        "trusted": true,
        "id": "Z_BDlA2dSCMG",
        "colab_type": "code",
        "outputId": "9995a5c3-1eb2-4e50-de24-37ec0bf45879",
        "colab": {
          "base_uri": "https://localhost:8080/",
          "height": 176
        }
      },
      "source": [
        "df.tail(3)"
      ],
      "execution_count": 194,
      "outputs": [
        {
          "output_type": "execute_result",
          "data": {
            "text/html": [
              "<div>\n",
              "<style scoped>\n",
              "    .dataframe tbody tr th:only-of-type {\n",
              "        vertical-align: middle;\n",
              "    }\n",
              "\n",
              "    .dataframe tbody tr th {\n",
              "        vertical-align: top;\n",
              "    }\n",
              "\n",
              "    .dataframe thead th {\n",
              "        text-align: right;\n",
              "    }\n",
              "</style>\n",
              "<table border=\"1\" class=\"dataframe\">\n",
              "  <thead>\n",
              "    <tr style=\"text-align: right;\">\n",
              "      <th></th>\n",
              "      <th>Campaign Period Sales</th>\n",
              "      <th>Historical Sales Volume</th>\n",
              "      <th>Date of First Purchase</th>\n",
              "      <th>Number of Prior Year Transactions</th>\n",
              "      <th>Do Not Direct Mail Solicit</th>\n",
              "      <th>Do Not Email</th>\n",
              "      <th>Do Not Telemarket</th>\n",
              "      <th>Repurchase Method</th>\n",
              "      <th>Last Transaction Channel</th>\n",
              "      <th>Desk</th>\n",
              "      <th>Executive Chair</th>\n",
              "      <th>Standard Chair</th>\n",
              "      <th>Monitor</th>\n",
              "      <th>Printer</th>\n",
              "      <th>Computer</th>\n",
              "      <th>Insurance</th>\n",
              "      <th>Toner</th>\n",
              "      <th>Office Supplies</th>\n",
              "      <th>Number of Employees</th>\n",
              "      <th>Language</th>\n",
              "    </tr>\n",
              "  </thead>\n",
              "  <tbody>\n",
              "    <tr>\n",
              "      <th>16169</th>\n",
              "      <td>0.0</td>\n",
              "      <td>2.355030e+06</td>\n",
              "      <td>1995-01-01</td>\n",
              "      <td>6.0</td>\n",
              "      <td>0.0</td>\n",
              "      <td>0.0</td>\n",
              "      <td>0.0</td>\n",
              "      <td>NOTICE</td>\n",
              "      <td>MAIL</td>\n",
              "      <td>N</td>\n",
              "      <td>N</td>\n",
              "      <td>N</td>\n",
              "      <td>N</td>\n",
              "      <td>N</td>\n",
              "      <td>N</td>\n",
              "      <td>N</td>\n",
              "      <td>N</td>\n",
              "      <td>N</td>\n",
              "      <td></td>\n",
              "      <td>NaN</td>\n",
              "    </tr>\n",
              "    <tr>\n",
              "      <th>16170</th>\n",
              "      <td>0.0</td>\n",
              "      <td>5.845700e+05</td>\n",
              "      <td>1996-02-01</td>\n",
              "      <td>2.0</td>\n",
              "      <td>0.0</td>\n",
              "      <td>1.0</td>\n",
              "      <td>0.0</td>\n",
              "      <td>NOTICE</td>\n",
              "      <td>MAIL</td>\n",
              "      <td>N</td>\n",
              "      <td>N</td>\n",
              "      <td>N</td>\n",
              "      <td>N</td>\n",
              "      <td>N</td>\n",
              "      <td>N</td>\n",
              "      <td>N</td>\n",
              "      <td>N</td>\n",
              "      <td>N</td>\n",
              "      <td></td>\n",
              "      <td>NaN</td>\n",
              "    </tr>\n",
              "    <tr>\n",
              "      <th>16171</th>\n",
              "      <td>0.0</td>\n",
              "      <td>1.949425e+06</td>\n",
              "      <td>1998-03-15</td>\n",
              "      <td>4.0</td>\n",
              "      <td>0.0</td>\n",
              "      <td>0.0</td>\n",
              "      <td>0.0</td>\n",
              "      <td>NOTICE</td>\n",
              "      <td>PHONE</td>\n",
              "      <td>N</td>\n",
              "      <td>N</td>\n",
              "      <td>N</td>\n",
              "      <td>N</td>\n",
              "      <td>N</td>\n",
              "      <td>N</td>\n",
              "      <td>N</td>\n",
              "      <td>N</td>\n",
              "      <td>N</td>\n",
              "      <td></td>\n",
              "      <td>NaN</td>\n",
              "    </tr>\n",
              "  </tbody>\n",
              "</table>\n",
              "</div>"
            ],
            "text/plain": [
              "       Campaign Period Sales  ...  Language\n",
              "16169                    0.0  ...       NaN\n",
              "16170                    0.0  ...       NaN\n",
              "16171                    0.0  ...       NaN\n",
              "\n",
              "[3 rows x 20 columns]"
            ]
          },
          "metadata": {
            "tags": []
          },
          "execution_count": 194
        }
      ]
    },
    {
      "cell_type": "code",
      "metadata": {
        "trusted": true,
        "id": "1MmZdyUBSCML",
        "colab_type": "code",
        "outputId": "6659075b-330e-4bcf-c6f2-5154ecb4c172",
        "colab": {
          "base_uri": "https://localhost:8080/",
          "height": 176
        }
      },
      "source": [
        "df = df[df.Desk != 911]\n",
        "df.tail(3)"
      ],
      "execution_count": 195,
      "outputs": [
        {
          "output_type": "execute_result",
          "data": {
            "text/html": [
              "<div>\n",
              "<style scoped>\n",
              "    .dataframe tbody tr th:only-of-type {\n",
              "        vertical-align: middle;\n",
              "    }\n",
              "\n",
              "    .dataframe tbody tr th {\n",
              "        vertical-align: top;\n",
              "    }\n",
              "\n",
              "    .dataframe thead th {\n",
              "        text-align: right;\n",
              "    }\n",
              "</style>\n",
              "<table border=\"1\" class=\"dataframe\">\n",
              "  <thead>\n",
              "    <tr style=\"text-align: right;\">\n",
              "      <th></th>\n",
              "      <th>Campaign Period Sales</th>\n",
              "      <th>Historical Sales Volume</th>\n",
              "      <th>Date of First Purchase</th>\n",
              "      <th>Number of Prior Year Transactions</th>\n",
              "      <th>Do Not Direct Mail Solicit</th>\n",
              "      <th>Do Not Email</th>\n",
              "      <th>Do Not Telemarket</th>\n",
              "      <th>Repurchase Method</th>\n",
              "      <th>Last Transaction Channel</th>\n",
              "      <th>Desk</th>\n",
              "      <th>Executive Chair</th>\n",
              "      <th>Standard Chair</th>\n",
              "      <th>Monitor</th>\n",
              "      <th>Printer</th>\n",
              "      <th>Computer</th>\n",
              "      <th>Insurance</th>\n",
              "      <th>Toner</th>\n",
              "      <th>Office Supplies</th>\n",
              "      <th>Number of Employees</th>\n",
              "      <th>Language</th>\n",
              "    </tr>\n",
              "  </thead>\n",
              "  <tbody>\n",
              "    <tr>\n",
              "      <th>16169</th>\n",
              "      <td>0.0</td>\n",
              "      <td>2.355030e+06</td>\n",
              "      <td>1995-01-01</td>\n",
              "      <td>6.0</td>\n",
              "      <td>0.0</td>\n",
              "      <td>0.0</td>\n",
              "      <td>0.0</td>\n",
              "      <td>NOTICE</td>\n",
              "      <td>MAIL</td>\n",
              "      <td>N</td>\n",
              "      <td>N</td>\n",
              "      <td>N</td>\n",
              "      <td>N</td>\n",
              "      <td>N</td>\n",
              "      <td>N</td>\n",
              "      <td>N</td>\n",
              "      <td>N</td>\n",
              "      <td>N</td>\n",
              "      <td></td>\n",
              "      <td>NaN</td>\n",
              "    </tr>\n",
              "    <tr>\n",
              "      <th>16170</th>\n",
              "      <td>0.0</td>\n",
              "      <td>5.845700e+05</td>\n",
              "      <td>1996-02-01</td>\n",
              "      <td>2.0</td>\n",
              "      <td>0.0</td>\n",
              "      <td>1.0</td>\n",
              "      <td>0.0</td>\n",
              "      <td>NOTICE</td>\n",
              "      <td>MAIL</td>\n",
              "      <td>N</td>\n",
              "      <td>N</td>\n",
              "      <td>N</td>\n",
              "      <td>N</td>\n",
              "      <td>N</td>\n",
              "      <td>N</td>\n",
              "      <td>N</td>\n",
              "      <td>N</td>\n",
              "      <td>N</td>\n",
              "      <td></td>\n",
              "      <td>NaN</td>\n",
              "    </tr>\n",
              "    <tr>\n",
              "      <th>16171</th>\n",
              "      <td>0.0</td>\n",
              "      <td>1.949425e+06</td>\n",
              "      <td>1998-03-15</td>\n",
              "      <td>4.0</td>\n",
              "      <td>0.0</td>\n",
              "      <td>0.0</td>\n",
              "      <td>0.0</td>\n",
              "      <td>NOTICE</td>\n",
              "      <td>PHONE</td>\n",
              "      <td>N</td>\n",
              "      <td>N</td>\n",
              "      <td>N</td>\n",
              "      <td>N</td>\n",
              "      <td>N</td>\n",
              "      <td>N</td>\n",
              "      <td>N</td>\n",
              "      <td>N</td>\n",
              "      <td>N</td>\n",
              "      <td></td>\n",
              "      <td>NaN</td>\n",
              "    </tr>\n",
              "  </tbody>\n",
              "</table>\n",
              "</div>"
            ],
            "text/plain": [
              "       Campaign Period Sales  ...  Language\n",
              "16169                    0.0  ...       NaN\n",
              "16170                    0.0  ...       NaN\n",
              "16171                    0.0  ...       NaN\n",
              "\n",
              "[3 rows x 20 columns]"
            ]
          },
          "metadata": {
            "tags": []
          },
          "execution_count": 195
        }
      ]
    },
    {
      "cell_type": "code",
      "metadata": {
        "trusted": true,
        "id": "crBwSaofSCMR",
        "colab_type": "code",
        "outputId": "3e1d86d3-40c2-41fe-e26f-3a02d556ce43",
        "colab": {
          "base_uri": "https://localhost:8080/",
          "height": 85
        }
      },
      "source": [
        "df['Desk'].value_counts()"
      ],
      "execution_count": 196,
      "outputs": [
        {
          "output_type": "execute_result",
          "data": {
            "text/plain": [
              "N     14837\n",
              "Y       886\n",
              "YY        1\n",
              "Name: Desk, dtype: int64"
            ]
          },
          "metadata": {
            "tags": []
          },
          "execution_count": 196
        }
      ]
    },
    {
      "cell_type": "code",
      "metadata": {
        "trusted": true,
        "id": "dOGzNR5LSCMW",
        "colab_type": "code",
        "colab": {}
      },
      "source": [
        "df['Desk'] = df['Desk'].map( {'N': 0, 'Y': 1, 'YY': 1} )"
      ],
      "execution_count": 0,
      "outputs": []
    },
    {
      "cell_type": "code",
      "metadata": {
        "trusted": true,
        "id": "aaDFe_9KSCMc",
        "colab_type": "code",
        "outputId": "fed6e5db-30a3-4513-8bc8-58a423da5bf1",
        "colab": {
          "base_uri": "https://localhost:8080/",
          "height": 68
        }
      },
      "source": [
        "df['Desk'].value_counts()"
      ],
      "execution_count": 198,
      "outputs": [
        {
          "output_type": "execute_result",
          "data": {
            "text/plain": [
              "0    14837\n",
              "1      887\n",
              "Name: Desk, dtype: int64"
            ]
          },
          "metadata": {
            "tags": []
          },
          "execution_count": 198
        }
      ]
    },
    {
      "cell_type": "code",
      "metadata": {
        "trusted": true,
        "id": "Wd6A5j44SCMk",
        "colab_type": "code",
        "outputId": "97664b88-c8b8-4aee-9ccf-602919d8ef0f",
        "colab": {
          "base_uri": "https://localhost:8080/",
          "height": 68
        }
      },
      "source": [
        "df['Executive Chair'].value_counts()"
      ],
      "execution_count": 199,
      "outputs": [
        {
          "output_type": "execute_result",
          "data": {
            "text/plain": [
              "N    14592\n",
              "Y     1131\n",
              "Name: Executive Chair, dtype: int64"
            ]
          },
          "metadata": {
            "tags": []
          },
          "execution_count": 199
        }
      ]
    },
    {
      "cell_type": "code",
      "metadata": {
        "trusted": true,
        "id": "Sj8N538VSCMs",
        "colab_type": "code",
        "colab": {}
      },
      "source": [
        "df['Executive Chair'] = df['Executive Chair'].map( {'N': 0, 'Y': 1} )\n",
        "df['Executive Chair'].replace('', np.nan, inplace=True)\n",
        "df.dropna(subset=['Executive Chair'], inplace=True)"
      ],
      "execution_count": 0,
      "outputs": []
    },
    {
      "cell_type": "code",
      "metadata": {
        "trusted": true,
        "id": "UeAJCnShSCMy",
        "colab_type": "code",
        "outputId": "fc17ce66-7468-47ac-dd0b-00bcc93b9049",
        "colab": {
          "base_uri": "https://localhost:8080/",
          "height": 68
        }
      },
      "source": [
        "df['Executive Chair'].value_counts()"
      ],
      "execution_count": 201,
      "outputs": [
        {
          "output_type": "execute_result",
          "data": {
            "text/plain": [
              "0.0    14592\n",
              "1.0     1131\n",
              "Name: Executive Chair, dtype: int64"
            ]
          },
          "metadata": {
            "tags": []
          },
          "execution_count": 201
        }
      ]
    },
    {
      "cell_type": "code",
      "metadata": {
        "trusted": true,
        "id": "oUw_f4HvSCM3",
        "colab_type": "code",
        "outputId": "735625d5-a89c-424c-f2a9-6199b5a06083",
        "colab": {
          "base_uri": "https://localhost:8080/",
          "height": 68
        }
      },
      "source": [
        "df['Standard Chair'].value_counts()\n"
      ],
      "execution_count": 202,
      "outputs": [
        {
          "output_type": "execute_result",
          "data": {
            "text/plain": [
              "N    15452\n",
              "Y      271\n",
              "Name: Standard Chair, dtype: int64"
            ]
          },
          "metadata": {
            "tags": []
          },
          "execution_count": 202
        }
      ]
    },
    {
      "cell_type": "code",
      "metadata": {
        "trusted": true,
        "id": "3NA72luSSCM8",
        "colab_type": "code",
        "outputId": "6d559c88-9295-4f3e-eac1-1db3fa12a0ca",
        "colab": {
          "base_uri": "https://localhost:8080/",
          "height": 68
        }
      },
      "source": [
        "df['Standard Chair'] = df['Standard Chair'].map( {'N': 0, 'Y': 1} )\n",
        "\n",
        "df['Standard Chair'].value_counts()"
      ],
      "execution_count": 203,
      "outputs": [
        {
          "output_type": "execute_result",
          "data": {
            "text/plain": [
              "0    15452\n",
              "1      271\n",
              "Name: Standard Chair, dtype: int64"
            ]
          },
          "metadata": {
            "tags": []
          },
          "execution_count": 203
        }
      ]
    },
    {
      "cell_type": "code",
      "metadata": {
        "trusted": true,
        "id": "hn5EnnfESCND",
        "colab_type": "code",
        "outputId": "60035df0-8ada-41dd-b19c-af95d945d4e1",
        "colab": {
          "base_uri": "https://localhost:8080/",
          "height": 68
        }
      },
      "source": [
        "df['Monitor'].value_counts()\n"
      ],
      "execution_count": 204,
      "outputs": [
        {
          "output_type": "execute_result",
          "data": {
            "text/plain": [
              "N    15431\n",
              "Y      292\n",
              "Name: Monitor, dtype: int64"
            ]
          },
          "metadata": {
            "tags": []
          },
          "execution_count": 204
        }
      ]
    },
    {
      "cell_type": "code",
      "metadata": {
        "trusted": true,
        "id": "6lKvaJWbSCNJ",
        "colab_type": "code",
        "outputId": "57520de2-1213-441a-c220-c21c462b1511",
        "colab": {
          "base_uri": "https://localhost:8080/",
          "height": 68
        }
      },
      "source": [
        "df['Monitor'] = df['Monitor'].map( {'N': 0, 'Y': 1} )\n",
        "df['Monitor'].value_counts()"
      ],
      "execution_count": 205,
      "outputs": [
        {
          "output_type": "execute_result",
          "data": {
            "text/plain": [
              "0    15431\n",
              "1      292\n",
              "Name: Monitor, dtype: int64"
            ]
          },
          "metadata": {
            "tags": []
          },
          "execution_count": 205
        }
      ]
    },
    {
      "cell_type": "code",
      "metadata": {
        "trusted": true,
        "id": "8D2pYgYLSCNR",
        "colab_type": "code",
        "outputId": "a17ea7a3-6228-4c4a-beb2-750bfb71263b",
        "colab": {
          "base_uri": "https://localhost:8080/",
          "height": 68
        }
      },
      "source": [
        "df['Printer'].value_counts()\n"
      ],
      "execution_count": 206,
      "outputs": [
        {
          "output_type": "execute_result",
          "data": {
            "text/plain": [
              "N    15305\n",
              "Y      418\n",
              "Name: Printer, dtype: int64"
            ]
          },
          "metadata": {
            "tags": []
          },
          "execution_count": 206
        }
      ]
    },
    {
      "cell_type": "code",
      "metadata": {
        "trusted": true,
        "id": "J1vDG5hcSCNW",
        "colab_type": "code",
        "outputId": "4d2a3677-7680-4f6b-9e86-605c3c1a558a",
        "colab": {
          "base_uri": "https://localhost:8080/",
          "height": 68
        }
      },
      "source": [
        "df['Printer'] = df['Printer'].map( {'N': 0, 'Y': 1} )\n",
        "df['Printer'].value_counts()"
      ],
      "execution_count": 207,
      "outputs": [
        {
          "output_type": "execute_result",
          "data": {
            "text/plain": [
              "0    15305\n",
              "1      418\n",
              "Name: Printer, dtype: int64"
            ]
          },
          "metadata": {
            "tags": []
          },
          "execution_count": 207
        }
      ]
    },
    {
      "cell_type": "code",
      "metadata": {
        "trusted": true,
        "id": "ZyvMicniSCNa",
        "colab_type": "code",
        "outputId": "5b83009d-3a39-4342-c839-9a6f0cca28c4",
        "colab": {
          "base_uri": "https://localhost:8080/",
          "height": 85
        }
      },
      "source": [
        "df['Computer'].value_counts()\n"
      ],
      "execution_count": 208,
      "outputs": [
        {
          "output_type": "execute_result",
          "data": {
            "text/plain": [
              "N     15497\n",
              "Y       225\n",
              "YY        1\n",
              "Name: Computer, dtype: int64"
            ]
          },
          "metadata": {
            "tags": []
          },
          "execution_count": 208
        }
      ]
    },
    {
      "cell_type": "code",
      "metadata": {
        "trusted": true,
        "id": "a-_AEP1PSCNf",
        "colab_type": "code",
        "outputId": "2666b6bf-3dcc-4bf9-a3e3-3feb3b294757",
        "colab": {
          "base_uri": "https://localhost:8080/",
          "height": 68
        }
      },
      "source": [
        "df['Computer'] = df['Computer'].map( {'N': 0, 'Y': 1,'YY': 1} )\n",
        "df['Computer'].value_counts()"
      ],
      "execution_count": 209,
      "outputs": [
        {
          "output_type": "execute_result",
          "data": {
            "text/plain": [
              "0    15497\n",
              "1      226\n",
              "Name: Computer, dtype: int64"
            ]
          },
          "metadata": {
            "tags": []
          },
          "execution_count": 209
        }
      ]
    },
    {
      "cell_type": "code",
      "metadata": {
        "trusted": true,
        "id": "gBoBTxDcSCNj",
        "colab_type": "code",
        "outputId": "e4fdf47f-7859-4412-bcae-778bc46ebeda",
        "colab": {
          "base_uri": "https://localhost:8080/",
          "height": 85
        }
      },
      "source": [
        "df['Insurance'].value_counts()\n"
      ],
      "execution_count": 210,
      "outputs": [
        {
          "output_type": "execute_result",
          "data": {
            "text/plain": [
              "N     13845\n",
              "Y      1876\n",
              "YY        1\n",
              "Name: Insurance, dtype: int64"
            ]
          },
          "metadata": {
            "tags": []
          },
          "execution_count": 210
        }
      ]
    },
    {
      "cell_type": "code",
      "metadata": {
        "trusted": true,
        "id": "97MzQqHRSCNo",
        "colab_type": "code",
        "outputId": "0fb30929-e95f-4245-e356-7cb5a94a7e67",
        "colab": {
          "base_uri": "https://localhost:8080/",
          "height": 68
        }
      },
      "source": [
        "df['Insurance'] = df['Insurance'].map( {'N': 0, 'Y': 1,'YY': 1} )\n",
        "df['Insurance'].replace('', np.nan, inplace=True)\n",
        "df.dropna(subset=['Insurance'], inplace=True)\n",
        "df['Insurance'].value_counts()"
      ],
      "execution_count": 211,
      "outputs": [
        {
          "output_type": "execute_result",
          "data": {
            "text/plain": [
              "0.0    13845\n",
              "1.0     1877\n",
              "Name: Insurance, dtype: int64"
            ]
          },
          "metadata": {
            "tags": []
          },
          "execution_count": 211
        }
      ]
    },
    {
      "cell_type": "code",
      "metadata": {
        "trusted": true,
        "id": "cZXNDlocSCNt",
        "colab_type": "code",
        "outputId": "db9da5c0-b26b-48ea-f98b-b2b9f7ce316c",
        "colab": {
          "base_uri": "https://localhost:8080/",
          "height": 85
        }
      },
      "source": [
        "df['Toner'].value_counts()\n"
      ],
      "execution_count": 212,
      "outputs": [
        {
          "output_type": "execute_result",
          "data": {
            "text/plain": [
              "N     14683\n",
              "Y      1038\n",
              "YY        1\n",
              "Name: Toner, dtype: int64"
            ]
          },
          "metadata": {
            "tags": []
          },
          "execution_count": 212
        }
      ]
    },
    {
      "cell_type": "code",
      "metadata": {
        "trusted": true,
        "id": "-3-igs8pSCNy",
        "colab_type": "code",
        "outputId": "a998f6a4-5701-403d-822b-f3b8872efc78",
        "colab": {
          "base_uri": "https://localhost:8080/",
          "height": 68
        }
      },
      "source": [
        "df['Toner'] = df['Toner'].map( {'N': 0, 'Y': 1,'YY': 1} )\n",
        "df['Toner'].value_counts()"
      ],
      "execution_count": 213,
      "outputs": [
        {
          "output_type": "execute_result",
          "data": {
            "text/plain": [
              "0    14683\n",
              "1     1039\n",
              "Name: Toner, dtype: int64"
            ]
          },
          "metadata": {
            "tags": []
          },
          "execution_count": 213
        }
      ]
    },
    {
      "cell_type": "code",
      "metadata": {
        "trusted": true,
        "id": "B3mEYn99SCN2",
        "colab_type": "code",
        "outputId": "ffb75e23-8de4-4a51-e7ff-a6edc1894548",
        "colab": {
          "base_uri": "https://localhost:8080/",
          "height": 68
        }
      },
      "source": [
        "df['Office Supplies'].value_counts()\n"
      ],
      "execution_count": 214,
      "outputs": [
        {
          "output_type": "execute_result",
          "data": {
            "text/plain": [
              "Y    11514\n",
              "N     4208\n",
              "Name: Office Supplies, dtype: int64"
            ]
          },
          "metadata": {
            "tags": []
          },
          "execution_count": 214
        }
      ]
    },
    {
      "cell_type": "code",
      "metadata": {
        "trusted": true,
        "id": "XY_fB--nSCN6",
        "colab_type": "code",
        "outputId": "b5d3c276-a676-4e8d-dbfc-4b15ebf31b4d",
        "colab": {
          "base_uri": "https://localhost:8080/",
          "height": 68
        }
      },
      "source": [
        "df['Office Supplies'] = df['Office Supplies'].map( {'N': 0, 'Y': 1,'YY': 1} )\n",
        "df['Office Supplies'].value_counts()"
      ],
      "execution_count": 215,
      "outputs": [
        {
          "output_type": "execute_result",
          "data": {
            "text/plain": [
              "1    11514\n",
              "0     4208\n",
              "Name: Office Supplies, dtype: int64"
            ]
          },
          "metadata": {
            "tags": []
          },
          "execution_count": 215
        }
      ]
    },
    {
      "cell_type": "code",
      "metadata": {
        "trusted": true,
        "id": "hP9jCBRrSCN_",
        "colab_type": "code",
        "outputId": "e48d7461-5cda-4fa1-871b-3f9a85b68ab5",
        "colab": {
          "base_uri": "https://localhost:8080/",
          "height": 153
        }
      },
      "source": [
        "df['Number of Employees'].value_counts()"
      ],
      "execution_count": 216,
      "outputs": [
        {
          "output_type": "execute_result",
          "data": {
            "text/plain": [
              "6-10       5103\n",
              "           3604\n",
              "1-5        2637\n",
              "11-50      2170\n",
              "51-100     1349\n",
              "101-500     639\n",
              "500+        218\n",
              "Name: Number of Employees, dtype: int64"
            ]
          },
          "metadata": {
            "tags": []
          },
          "execution_count": 216
        }
      ]
    },
    {
      "cell_type": "markdown",
      "metadata": {
        "id": "dTKXKpQ9SCOD",
        "colab_type": "text"
      },
      "source": [
        "blank value on numbers of employee. quantity are significant enough to not drop"
      ]
    },
    {
      "cell_type": "code",
      "metadata": {
        "trusted": true,
        "id": "GdYAyrriSCOH",
        "colab_type": "code",
        "outputId": "c1ccd74b-19f9-4317-9ae0-0ed8879628d2",
        "colab": {
          "base_uri": "https://localhost:8080/",
          "height": 153
        }
      },
      "source": [
        "df['Number of Employees_copy'] = df['Number of Employees']\n",
        "df['Number of Employees_copy'] = df['Number of Employees_copy'].replace(r'^\\s*$', np.NaN, regex=True)\n",
        "df['Number of Employees_copy'] = df['Number of Employees_copy'].astype(str)\n",
        "df['Number of Employees_copy'] = df['Number of Employees_copy'].map({'1-5': 0, '6-10': 1, '11-50': 2, '51-100': 3, '101-500': 4, '500+': 5, 'nan': 6})\n",
        "df['Number of Employees_copy'].value_counts()"
      ],
      "execution_count": 217,
      "outputs": [
        {
          "output_type": "execute_result",
          "data": {
            "text/plain": [
              "1    5103\n",
              "6    3606\n",
              "0    2637\n",
              "2    2170\n",
              "3    1349\n",
              "4     639\n",
              "5     218\n",
              "Name: Number of Employees_copy, dtype: int64"
            ]
          },
          "metadata": {
            "tags": []
          },
          "execution_count": 217
        }
      ]
    },
    {
      "cell_type": "code",
      "metadata": {
        "trusted": true,
        "id": "v0oS4pMmSCOL",
        "colab_type": "code",
        "outputId": "4e1414e5-0031-4f21-96bf-fa86f1cc80be",
        "colab": {
          "base_uri": "https://localhost:8080/",
          "height": 153
        }
      },
      "source": [
        "df['Number of Employees_copy']=df['Number of Employees_copy'].replace(6, df['Number of Employees_copy'].mean(), regex=True)\n",
        "df['Number of Employees_copy'].value_counts()"
      ],
      "execution_count": 218,
      "outputs": [
        {
          "output_type": "execute_result",
          "data": {
            "text/plain": [
              "1.000000    5103\n",
              "2.466098    3606\n",
              "0.000000    2637\n",
              "2.000000    2170\n",
              "3.000000    1349\n",
              "4.000000     639\n",
              "5.000000     218\n",
              "Name: Number of Employees_copy, dtype: int64"
            ]
          },
          "metadata": {
            "tags": []
          },
          "execution_count": 218
        }
      ]
    },
    {
      "cell_type": "code",
      "metadata": {
        "trusted": true,
        "id": "_ZcqjeUOSCOR",
        "colab_type": "code",
        "colab": {}
      },
      "source": [
        "df = df.drop('Number of Employees_copy', axis = 1)"
      ],
      "execution_count": 0,
      "outputs": []
    },
    {
      "cell_type": "markdown",
      "metadata": {
        "id": "oVjOWeDkSCOd",
        "colab_type": "text"
      },
      "source": [
        "category mean suggest the blanks should be in between of category 11-50 and category 51-100\n",
        "\n",
        "will merge these 3 category together"
      ]
    },
    {
      "cell_type": "code",
      "metadata": {
        "trusted": true,
        "id": "mR2gkP-5SCOd",
        "colab_type": "code",
        "colab": {}
      },
      "source": [
        "#df['Number of Employees'] = df['Number of Employees'].map({'11-50': 11-100, '51-100': 11-100, r'^\\s*$': 11-100})\n",
        "df['Number of Employees'] = df['Number of Employees'].replace(r'^\\s*$', np.nan, regex=True)\n",
        "df['Number of Employees'] = df['Number of Employees'].astype(str)\n",
        "df['Number of Employees'] = df['Number of Employees'].replace(\"11-50\",\"11-100\").replace(\"51-100\",\"11-100\").replace(\"nan\",\"11-100\")"
      ],
      "execution_count": 0,
      "outputs": []
    },
    {
      "cell_type": "code",
      "metadata": {
        "trusted": true,
        "id": "nhNZlfNVSCOg",
        "colab_type": "code",
        "outputId": "2a8be6ac-7585-48d9-b49c-fb58555ccf44",
        "colab": {
          "base_uri": "https://localhost:8080/",
          "height": 119
        }
      },
      "source": [
        "df['Number of Employees'].value_counts()"
      ],
      "execution_count": 221,
      "outputs": [
        {
          "output_type": "execute_result",
          "data": {
            "text/plain": [
              "11-100     7125\n",
              "6-10       5103\n",
              "1-5        2637\n",
              "101-500     639\n",
              "500+        218\n",
              "Name: Number of Employees, dtype: int64"
            ]
          },
          "metadata": {
            "tags": []
          },
          "execution_count": 221
        }
      ]
    },
    {
      "cell_type": "code",
      "metadata": {
        "trusted": true,
        "id": "Y40TYg68SCOj",
        "colab_type": "code",
        "outputId": "149d5789-128c-4ba8-928d-e08bb95419e0",
        "colab": {
          "base_uri": "https://localhost:8080/",
          "height": 340
        }
      },
      "source": [
        "df['Language'].value_counts()"
      ],
      "execution_count": 222,
      "outputs": [
        {
          "output_type": "execute_result",
          "data": {
            "text/plain": [
              "English       11037\n",
              "Spanish          88\n",
              "Italian          45\n",
              "Portuguese       40\n",
              "Hindi            39\n",
              "Chinese          30\n",
              "Russian          24\n",
              "Hebrew           20\n",
              "Arabic           16\n",
              "German           15\n",
              "Greek            14\n",
              "Japanese         11\n",
              "Polish           10\n",
              "Vietnamese        9\n",
              "French            6\n",
              "Korean            4\n",
              "Thai              2\n",
              "Pashto            1\n",
              "Name: Language, dtype: int64"
            ]
          },
          "metadata": {
            "tags": []
          },
          "execution_count": 222
        }
      ]
    },
    {
      "cell_type": "markdown",
      "metadata": {
        "id": "ULwdtrXBSCOm",
        "colab_type": "text"
      },
      "source": [
        "group all the non english together and group nan into english"
      ]
    },
    {
      "cell_type": "code",
      "metadata": {
        "trusted": true,
        "id": "ssvlvP1ASCOn",
        "colab_type": "code",
        "colab": {}
      },
      "source": [
        "\n",
        "List=df.Language.value_counts().index[1:].tolist()\n",
        "mapping={}\n",
        "for s in List:\n",
        "    mapping[s]='Else'\n",
        "df['Language']=df['Language'].map(lambda x: mapping[x] if x in mapping else x)\n",
        "df['Language'] = df['Language'].map( {'English': 1,'Else': 0} )\n",
        "df.Language.value_counts()\n",
        "df.rename(columns={'Language': 'isEnglish'}, inplace=True)\n",
        "df['isEnglish'] = df['isEnglish'].replace(np.nan,1 , regex=True)"
      ],
      "execution_count": 0,
      "outputs": []
    },
    {
      "cell_type": "code",
      "metadata": {
        "trusted": true,
        "id": "a6wdde1ESCOq",
        "colab_type": "code",
        "outputId": "5ae3e095-8c36-4bd5-e1c0-8987b459e4e9",
        "colab": {
          "base_uri": "https://localhost:8080/",
          "height": 68
        }
      },
      "source": [
        "df['isEnglish'].value_counts()"
      ],
      "execution_count": 224,
      "outputs": [
        {
          "output_type": "execute_result",
          "data": {
            "text/plain": [
              "1.0    15348\n",
              "0.0      374\n",
              "Name: isEnglish, dtype: int64"
            ]
          },
          "metadata": {
            "tags": []
          },
          "execution_count": 224
        }
      ]
    },
    {
      "cell_type": "code",
      "metadata": {
        "trusted": true,
        "id": "q53pjZIrSCOu",
        "colab_type": "code",
        "outputId": "3aa3ced1-9890-4401-df39-4a81ecbb523c",
        "colab": {
          "base_uri": "https://localhost:8080/",
          "height": 476
        }
      },
      "source": [
        "df.info()"
      ],
      "execution_count": 225,
      "outputs": [
        {
          "output_type": "stream",
          "text": [
            "<class 'pandas.core.frame.DataFrame'>\n",
            "Int64Index: 15722 entries, 0 to 16171\n",
            "Data columns (total 20 columns):\n",
            " #   Column                             Non-Null Count  Dtype         \n",
            "---  ------                             --------------  -----         \n",
            " 0   Campaign Period Sales              15722 non-null  float64       \n",
            " 1   Historical Sales Volume            15722 non-null  float64       \n",
            " 2   Date of First Purchase             15722 non-null  datetime64[ns]\n",
            " 3   Number of Prior Year Transactions  15722 non-null  float64       \n",
            " 4   Do Not Direct Mail Solicit         15722 non-null  float64       \n",
            " 5   Do Not Email                       15722 non-null  float64       \n",
            " 6   Do Not Telemarket                  15722 non-null  float64       \n",
            " 7   Repurchase Method                  15722 non-null  object        \n",
            " 8   Last Transaction Channel           15722 non-null  object        \n",
            " 9   Desk                               15722 non-null  int64         \n",
            " 10  Executive Chair                    15722 non-null  float64       \n",
            " 11  Standard Chair                     15722 non-null  int64         \n",
            " 12  Monitor                            15722 non-null  int64         \n",
            " 13  Printer                            15722 non-null  int64         \n",
            " 14  Computer                           15722 non-null  int64         \n",
            " 15  Insurance                          15722 non-null  float64       \n",
            " 16  Toner                              15722 non-null  int64         \n",
            " 17  Office Supplies                    15722 non-null  int64         \n",
            " 18  Number of Employees                15722 non-null  object        \n",
            " 19  isEnglish                          15722 non-null  float64       \n",
            "dtypes: datetime64[ns](1), float64(9), int64(7), object(3)\n",
            "memory usage: 2.5+ MB\n"
          ],
          "name": "stdout"
        }
      ]
    },
    {
      "cell_type": "code",
      "metadata": {
        "id": "MVlRHq7UWU2v",
        "colab_type": "code",
        "colab": {}
      },
      "source": [
        "for col in ['Campaign Period Sales', 'Number of Prior Year Transactions', 'Do Not Direct Mail Solicit', 'Do Not Email', 'Do Not Telemarket', 'Executive Chair', 'Insurance', 'isEnglish']:\n",
        "    df[col] = df[col].astype('int')"
      ],
      "execution_count": 0,
      "outputs": []
    },
    {
      "cell_type": "code",
      "metadata": {
        "id": "O6YAJlfkfZdw",
        "colab_type": "code",
        "colab": {
          "base_uri": "https://localhost:8080/",
          "height": 476
        },
        "outputId": "0917615b-4de2-4914-d4ce-a9b36f5a662d"
      },
      "source": [
        "df.info()"
      ],
      "execution_count": 227,
      "outputs": [
        {
          "output_type": "stream",
          "text": [
            "<class 'pandas.core.frame.DataFrame'>\n",
            "Int64Index: 15722 entries, 0 to 16171\n",
            "Data columns (total 20 columns):\n",
            " #   Column                             Non-Null Count  Dtype         \n",
            "---  ------                             --------------  -----         \n",
            " 0   Campaign Period Sales              15722 non-null  int64         \n",
            " 1   Historical Sales Volume            15722 non-null  float64       \n",
            " 2   Date of First Purchase             15722 non-null  datetime64[ns]\n",
            " 3   Number of Prior Year Transactions  15722 non-null  int64         \n",
            " 4   Do Not Direct Mail Solicit         15722 non-null  int64         \n",
            " 5   Do Not Email                       15722 non-null  int64         \n",
            " 6   Do Not Telemarket                  15722 non-null  int64         \n",
            " 7   Repurchase Method                  15722 non-null  object        \n",
            " 8   Last Transaction Channel           15722 non-null  object        \n",
            " 9   Desk                               15722 non-null  int64         \n",
            " 10  Executive Chair                    15722 non-null  int64         \n",
            " 11  Standard Chair                     15722 non-null  int64         \n",
            " 12  Monitor                            15722 non-null  int64         \n",
            " 13  Printer                            15722 non-null  int64         \n",
            " 14  Computer                           15722 non-null  int64         \n",
            " 15  Insurance                          15722 non-null  int64         \n",
            " 16  Toner                              15722 non-null  int64         \n",
            " 17  Office Supplies                    15722 non-null  int64         \n",
            " 18  Number of Employees                15722 non-null  object        \n",
            " 19  isEnglish                          15722 non-null  int64         \n",
            "dtypes: datetime64[ns](1), float64(1), int64(15), object(3)\n",
            "memory usage: 2.5+ MB\n"
          ],
          "name": "stdout"
        }
      ]
    },
    {
      "cell_type": "markdown",
      "metadata": {
        "id": "Fwp1cgCmljc_",
        "colab_type": "text"
      },
      "source": [
        "heatmap"
      ]
    },
    {
      "cell_type": "code",
      "metadata": {
        "id": "HFKQQE8TmsBf",
        "colab_type": "code",
        "colab": {}
      },
      "source": [
        "df['Number of Employees_heatmap'] = df['Number of Employees']\n",
        "df['Number of Employees_heatmap'] = df['Number of Employees_heatmap'].map({'1-5': 0, '6-10': 1, '11-100': 2, '101-500': 3, '500+': 4})"
      ],
      "execution_count": 0,
      "outputs": []
    },
    {
      "cell_type": "code",
      "metadata": {
        "id": "fWbSnPL1lpBU",
        "colab_type": "code",
        "outputId": "d34d15e9-5c60-405c-b8ff-b26bc1c8e76f",
        "colab": {
          "base_uri": "https://localhost:8080/",
          "height": 754
        }
      },
      "source": [
        "corrmat = df.corr()\n",
        "top_corr_features = corrmat.index\n",
        "plt.figure(figsize=(10,10))\n",
        "#plot heat map\n",
        "g=sns.heatmap(df[top_corr_features].corr(),annot=True,cmap=\"RdYlGn\")"
      ],
      "execution_count": 229,
      "outputs": [
        {
          "output_type": "display_data",
          "data": {
            "image/png": "[encoded data removed]",
            "text/plain": [
              "<Figure size 720x720 with 2 Axes>"
            ]
          },
          "metadata": {
            "tags": [],
            "needs_background": "light"
          }
        }
      ]
    },
    {
      "cell_type": "code",
      "metadata": {
        "id": "-qIROKqeYZtm",
        "colab_type": "code",
        "colab": {}
      },
      "source": [
        "df = df.drop('Number of Employees_heatmap', axis = 1)"
      ],
      "execution_count": 0,
      "outputs": []
    },
    {
      "cell_type": "markdown",
      "metadata": {
        "id": "wtW0YxAtWKL_",
        "colab_type": "text"
      },
      "source": [
        "most of the feature didnt show much correlation to the label\n",
        "will use all of them to do modelling"
      ]
    },
    {
      "cell_type": "code",
      "metadata": {
        "id": "OJgRWdsJnhAo",
        "colab_type": "code",
        "outputId": "697f9edb-4a56-4a26-f7ea-af1b0f1043d6",
        "colab": {
          "base_uri": "https://localhost:8080/",
          "height": 34
        }
      },
      "source": [
        "from sklearn.model_selection import train_test_split\n",
        "from sklearn.linear_model import LogisticRegression\n",
        "\n",
        "df.drop(columns=['Date of First Purchase', 'Historical Sales Volume'], inplace=True)\n",
        "df_encode = pd.get_dummies(df, prefix_sep='_', drop_first=True)\n",
        "\n",
        "\n",
        "X = np.array(df_encode.drop(columns='Campaign Period Sales'))\n",
        "Y = np.array(df_encode['Campaign Period Sales'])\n",
        "\n",
        "X_train, X_test, Y_train, Y_test = train_test_split(X, Y, test_size=0.2,random_state=0)\n",
        "\n",
        "lr = LogisticRegression()\n",
        "lr.fit(X_train, Y_train)\n",
        "print(\"Logisticregression = \" ,lr.score(X_test, Y_test))"
      ],
      "execution_count": 231,
      "outputs": [
        {
          "output_type": "stream",
          "text": [
            "Logisticregression =  0.7367249602543721\n"
          ],
          "name": "stdout"
        }
      ]
    }
  ]
}