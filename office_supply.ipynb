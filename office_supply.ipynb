{
  "nbformat": 4,
  "nbformat_minor": 0,
  "metadata": {
    "kernelspec": {
      "language": "python",
      "display_name": "Python 3",
      "name": "python3"
    },
    "language_info": {
      "pygments_lexer": "ipython3",
      "nbconvert_exporter": "python",
      "version": "3.6.4",
      "file_extension": ".py",
      "codemirror_mode": {
        "name": "ipython",
        "version": 3
      },
      "name": "python",
      "mimetype": "text/x-python"
    },
    "colab": {
      "name": "office_supply.ipynb",
      "provenance": [],
      "include_colab_link": true
    }
  },
  "cells": [
    {
      "cell_type": "markdown",
      "metadata": {
        "id": "view-in-github",
        "colab_type": "text"
      },
      "source": [
        "<a href=\"https://colab.research.google.com/github/viffsi/Office_supply/blob/master/office_supply.ipynb\" target=\"_parent\"><img src=\"https://colab.research.google.com/assets/colab-badge.svg\" alt=\"Open In Colab\"/></a>"
      ]
    },
    {
      "cell_type": "code",
      "metadata": {
        "id": "rJGSoW8DS7BH",
        "colab_type": "code",
        "outputId": "7c1352d5-3908-4410-ae86-a89f0728de46",
        "colab": {
          "base_uri": "https://localhost:8080/",
          "height": 34
        }
      },
      "source": [
        "from google.colab import drive\n",
        "drive.mount('/content/drive')"
      ],
      "execution_count": 673,
      "outputs": [
        {
          "output_type": "stream",
          "text": [
            "Drive already mounted at /content/drive; to attempt to forcibly remount, call drive.mount(\"/content/drive\", force_remount=True).\n"
          ],
          "name": "stdout"
        }
      ]
    },
    {
      "cell_type": "markdown",
      "metadata": {
        "id": "vpggf0eCSCHq",
        "colab_type": "text"
      },
      "source": [
        "staple import"
      ]
    },
    {
      "cell_type": "code",
      "metadata": {
        "trusted": true,
        "id": "Dek95cf4SCHz",
        "colab_type": "code",
        "colab": {}
      },
      "source": [
        "import pandas as pd\n",
        "import os\n",
        "import numpy as np\n",
        "import seaborn as sns\n",
        "import matplotlib.pyplot as plt\n",
        "from sklearn import preprocessing\n",
        "%matplotlib inline\n",
        "\n",
        "import warnings\n",
        "warnings.filterwarnings('ignore')"
      ],
      "execution_count": 0,
      "outputs": []
    },
    {
      "cell_type": "markdown",
      "metadata": {
        "_uuid": "d629ff2d2480ee46fbb7e2d37f6b5fab8052498a",
        "collapsed": true,
        "_cell_guid": "79c7e3d0-c299-4dcb-8224-4455121ee9b0",
        "trusted": false,
        "id": "wGIheg05SCIO",
        "colab_type": "text"
      },
      "source": [
        "EDA"
      ]
    },
    {
      "cell_type": "markdown",
      "metadata": {
        "id": "890EcWcESCIS",
        "colab_type": "text"
      },
      "source": [
        "**Column description**\n",
        "1. Customer Number\t \n",
        "A unique company identifier \n",
        "2. Campaign Period Sales \t \n",
        "Total dollar purchased during the campaign period \n",
        "3. Historical Sales Volume \t\n",
        "Total historical dollar purchased\n",
        "4. Date of First Purchase\t\n",
        "Date of first transaction\n",
        "5. Number of Prior Year Transactions\t\n",
        "The number of transactions in the year prior to the promotion period\n",
        "6. Do Not Direct Mail Solicit\t\n",
        "Does not allow promotional mail\n",
        "7. Do Not Email\t\n",
        "Does not allow promotional email\n",
        "8. Do Not Telemarket\t\n",
        "Does not allow promotional calls\n",
        "9. Repurchase Method\t\n",
        "Method of last purchase prior to the campaign\n",
        "10. Last Transaction Channel\t\n",
        "Sales channel of last purchase prior to the campaign\n",
        "11. Desk\t\n",
        "Prior purchase of this item\n",
        "12. Executive Chair\t\n",
        "Prior purchase of this item\n",
        "13. Standard Chair\t\n",
        "Prior purchase of this item\n",
        "14. Monitor\t\n",
        "Prior purchase of this item\n",
        "15. Printer\t\n",
        "Prior purchase of this item\n",
        "16. Computer\t\n",
        "Prior purchase of this item\n",
        "17. Insurance\t\n",
        "Prior purchase of this item\n",
        "18. Toner\t\n",
        "Prior purchase of this item\n",
        "19. Office Supplies\t\n",
        "Prior purchase of this item\n",
        "20. Number of Employees\t\n",
        "Purchased data on no. of employees\n",
        "21. Language\t\n",
        "Primary language spoken"
      ]
    },
    {
      "cell_type": "code",
      "metadata": {
        "trusted": true,
        "id": "yzEi0Dx9SCIX",
        "colab_type": "code",
        "outputId": "4fdebd17-f2d0-4c7d-b256-63a31efc5885",
        "colab": {
          "base_uri": "https://localhost:8080/",
          "height": 193
        }
      },
      "source": [
        "df_temp = pd.read_excel (r'/content/drive/My Drive/office supply/OfficeSupplyCampaignResultS7-23-19.xlsx', sheet_name='Campaign Results')\n",
        "df_temp.head(3)"
      ],
      "execution_count": 675,
      "outputs": [
        {
          "output_type": "execute_result",
          "data": {
            "text/html": [
              "<div>\n",
              "<style scoped>\n",
              "    .dataframe tbody tr th:only-of-type {\n",
              "        vertical-align: middle;\n",
              "    }\n",
              "\n",
              "    .dataframe tbody tr th {\n",
              "        vertical-align: top;\n",
              "    }\n",
              "\n",
              "    .dataframe thead th {\n",
              "        text-align: right;\n",
              "    }\n",
              "</style>\n",
              "<table border=\"1\" class=\"dataframe\">\n",
              "  <thead>\n",
              "    <tr style=\"text-align: right;\">\n",
              "      <th></th>\n",
              "      <th>Customer Number</th>\n",
              "      <th>Campaign Period Sales</th>\n",
              "      <th>Historical Sales Volume</th>\n",
              "      <th>Date of First Purchase</th>\n",
              "      <th>Number of Prior Year Transactions</th>\n",
              "      <th>Do Not Direct Mail Solicit</th>\n",
              "      <th>Do Not Email</th>\n",
              "      <th>Do Not Telemarket</th>\n",
              "      <th>Repurchase Method</th>\n",
              "      <th>Last Transaction Channel</th>\n",
              "      <th>Desk</th>\n",
              "      <th>Executive Chair</th>\n",
              "      <th>Standard Chair</th>\n",
              "      <th>Monitor</th>\n",
              "      <th>Printer</th>\n",
              "      <th>Computer</th>\n",
              "      <th>Insurance</th>\n",
              "      <th>Toner</th>\n",
              "      <th>Office Supplies</th>\n",
              "      <th>Number of Employees</th>\n",
              "      <th>Language</th>\n",
              "    </tr>\n",
              "  </thead>\n",
              "  <tbody>\n",
              "    <tr>\n",
              "      <th>0</th>\n",
              "      <td>86734.0</td>\n",
              "      <td>238.704762</td>\n",
              "      <td>146803.428571</td>\n",
              "      <td>1968-10-01</td>\n",
              "      <td>15.0</td>\n",
              "      <td>0.0</td>\n",
              "      <td>0.0</td>\n",
              "      <td>0.0</td>\n",
              "      <td>AUTO RENEW</td>\n",
              "      <td>AUTO RENEW</td>\n",
              "      <td>N</td>\n",
              "      <td>N</td>\n",
              "      <td>N</td>\n",
              "      <td>N</td>\n",
              "      <td>N</td>\n",
              "      <td>N</td>\n",
              "      <td>Y</td>\n",
              "      <td>N</td>\n",
              "      <td>Y</td>\n",
              "      <td>6-10</td>\n",
              "      <td>English</td>\n",
              "    </tr>\n",
              "    <tr>\n",
              "      <th>1</th>\n",
              "      <td>97098.0</td>\n",
              "      <td>281.680000</td>\n",
              "      <td>439984.160000</td>\n",
              "      <td>1981-06-15</td>\n",
              "      <td>22.0</td>\n",
              "      <td>0.0</td>\n",
              "      <td>0.0</td>\n",
              "      <td>0.0</td>\n",
              "      <td>NOTICE</td>\n",
              "      <td>MAIL</td>\n",
              "      <td>N</td>\n",
              "      <td>N</td>\n",
              "      <td>N</td>\n",
              "      <td>N</td>\n",
              "      <td>N</td>\n",
              "      <td>N</td>\n",
              "      <td>N</td>\n",
              "      <td>N</td>\n",
              "      <td>Y</td>\n",
              "      <td>11-50</td>\n",
              "      <td>English</td>\n",
              "    </tr>\n",
              "    <tr>\n",
              "      <th>2</th>\n",
              "      <td>100836.0</td>\n",
              "      <td>432.857143</td>\n",
              "      <td>970465.714286</td>\n",
              "      <td>1962-11-01</td>\n",
              "      <td>19.0</td>\n",
              "      <td>0.0</td>\n",
              "      <td>0.0</td>\n",
              "      <td>0.0</td>\n",
              "      <td>NOTICE</td>\n",
              "      <td>MAIL</td>\n",
              "      <td>N</td>\n",
              "      <td>N</td>\n",
              "      <td>N</td>\n",
              "      <td>N</td>\n",
              "      <td>N</td>\n",
              "      <td>N</td>\n",
              "      <td>N</td>\n",
              "      <td>N</td>\n",
              "      <td>Y</td>\n",
              "      <td>6-10</td>\n",
              "      <td>English</td>\n",
              "    </tr>\n",
              "  </tbody>\n",
              "</table>\n",
              "</div>"
            ],
            "text/plain": [
              "   Customer Number  Campaign Period Sales  ...  Number of Employees Language\n",
              "0          86734.0             238.704762  ...                 6-10  English\n",
              "1          97098.0             281.680000  ...                11-50  English\n",
              "2         100836.0             432.857143  ...                 6-10  English\n",
              "\n",
              "[3 rows x 21 columns]"
            ]
          },
          "metadata": {
            "tags": []
          },
          "execution_count": 675
        }
      ]
    },
    {
      "cell_type": "code",
      "metadata": {
        "trusted": true,
        "id": "5gEY-NeLSCIr",
        "colab_type": "code",
        "outputId": "6f7e7a9f-7db5-4227-edf0-081e67ee5144",
        "colab": {
          "base_uri": "https://localhost:8080/",
          "height": 493
        }
      },
      "source": [
        "df_temp.info()"
      ],
      "execution_count": 676,
      "outputs": [
        {
          "output_type": "stream",
          "text": [
            "<class 'pandas.core.frame.DataFrame'>\n",
            "RangeIndex: 16173 entries, 0 to 16172\n",
            "Data columns (total 21 columns):\n",
            " #   Column                             Non-Null Count  Dtype         \n",
            "---  ------                             --------------  -----         \n",
            " 0   Customer Number                    16172 non-null  float64       \n",
            " 1   Campaign Period Sales              16172 non-null  float64       \n",
            " 2   Historical Sales Volume            16172 non-null  float64       \n",
            " 3   Date of First Purchase             16172 non-null  datetime64[ns]\n",
            " 4   Number of Prior Year Transactions  16172 non-null  float64       \n",
            " 5   Do Not Direct Mail Solicit         16172 non-null  float64       \n",
            " 6   Do Not Email                       16172 non-null  float64       \n",
            " 7   Do Not Telemarket                  16172 non-null  float64       \n",
            " 8   Repurchase Method                  16172 non-null  object        \n",
            " 9   Last Transaction Channel           15730 non-null  object        \n",
            " 10  Desk                               16173 non-null  object        \n",
            " 11  Executive Chair                    16171 non-null  object        \n",
            " 12  Standard Chair                     16171 non-null  object        \n",
            " 13  Monitor                            16171 non-null  object        \n",
            " 14  Printer                            16171 non-null  object        \n",
            " 15  Computer                           16172 non-null  object        \n",
            " 16  Insurance                          16170 non-null  object        \n",
            " 17  Toner                              16170 non-null  object        \n",
            " 18  Office Supplies                    16172 non-null  object        \n",
            " 19  Number of Employees                16170 non-null  object        \n",
            " 20  Language                           11701 non-null  object        \n",
            "dtypes: datetime64[ns](1), float64(7), object(13)\n",
            "memory usage: 2.6+ MB\n"
          ],
          "name": "stdout"
        }
      ]
    },
    {
      "cell_type": "markdown",
      "metadata": {
        "id": "NVlTEoaHSCI8",
        "colab_type": "text"
      },
      "source": [
        "refresh database"
      ]
    },
    {
      "cell_type": "code",
      "metadata": {
        "trusted": true,
        "id": "W9VGuDQ6SCJA",
        "colab_type": "code",
        "colab": {}
      },
      "source": [
        "df = df_temp"
      ],
      "execution_count": 0,
      "outputs": []
    },
    {
      "cell_type": "markdown",
      "metadata": {
        "id": "8mGyyoxeSCJS",
        "colab_type": "text"
      },
      "source": [
        "check duplicate record"
      ]
    },
    {
      "cell_type": "code",
      "metadata": {
        "trusted": true,
        "id": "2CWhyvFmSCJX",
        "colab_type": "code",
        "outputId": "406e2d38-fc11-4832-9465-88da9600fa3d",
        "colab": {
          "base_uri": "https://localhost:8080/",
          "height": 391
        }
      },
      "source": [
        "df.nunique()"
      ],
      "execution_count": 678,
      "outputs": [
        {
          "output_type": "execute_result",
          "data": {
            "text/plain": [
              "Customer Number                      16172\n",
              "Campaign Period Sales                 4322\n",
              "Historical Sales Volume              16162\n",
              "Date of First Purchase                3493\n",
              "Number of Prior Year Transactions       61\n",
              "Do Not Direct Mail Solicit               2\n",
              "Do Not Email                             2\n",
              "Do Not Telemarket                        2\n",
              "Repurchase Method                        3\n",
              "Last Transaction Channel                 8\n",
              "Desk                                     4\n",
              "Executive Chair                          2\n",
              "Standard Chair                           2\n",
              "Monitor                                  2\n",
              "Printer                                  2\n",
              "Computer                                 3\n",
              "Insurance                                3\n",
              "Toner                                    3\n",
              "Office Supplies                          2\n",
              "Number of Employees                      7\n",
              "Language                                18\n",
              "dtype: int64"
            ]
          },
          "metadata": {
            "tags": []
          },
          "execution_count": 678
        }
      ]
    },
    {
      "cell_type": "markdown",
      "metadata": {
        "id": "IKyXKlhXSCKY",
        "colab_type": "text"
      },
      "source": [
        "Data cleaning & mapping"
      ]
    },
    {
      "cell_type": "markdown",
      "metadata": {
        "id": "OsHXKeMWSCJm",
        "colab_type": "text"
      },
      "source": [
        "Does Campaign Period Sales consist only the transaction directly to the campaign or both this campaign transaction and normal transaction \n",
        "\n",
        "Should we take Campaign Period Sales where >0 as participate and =0 as not participate\n",
        "\n",
        "Or get a mean of the dollar purchased based on Number of Prior Year Transactions, and then take Campaign Period Sales minus mean where >mean as participate and =mean as not participate\n",
        "\n"
      ]
    },
    {
      "cell_type": "code",
      "metadata": {
        "trusted": true,
        "id": "7oc837UISCJp",
        "colab_type": "code",
        "outputId": "cd652e90-1d85-4e63-a9bf-6b6190f58e83",
        "colab": {
          "base_uri": "https://localhost:8080/",
          "height": 170
        }
      },
      "source": [
        "df['Campaign Period Sales'].describe()"
      ],
      "execution_count": 679,
      "outputs": [
        {
          "output_type": "execute_result",
          "data": {
            "text/plain": [
              "count    16172.000000\n",
              "mean       245.896967\n",
              "std        720.317450\n",
              "min       -566.500000\n",
              "25%          0.000000\n",
              "50%          0.000000\n",
              "75%        145.669048\n",
              "max       8936.850000\n",
              "Name: Campaign Period Sales, dtype: float64"
            ]
          },
          "metadata": {
            "tags": []
          },
          "execution_count": 679
        }
      ]
    },
    {
      "cell_type": "code",
      "metadata": {
        "trusted": true,
        "id": "i6C6DL4WSCJ9",
        "colab_type": "code",
        "outputId": "d23592c5-98c4-4d00-b3eb-35c4ebce18b9",
        "colab": {
          "base_uri": "https://localhost:8080/",
          "height": 170
        }
      },
      "source": [
        "df.loc[df['Campaign Period Sales'] > 0, 'Campaign Period Sales'] = 1\n",
        "df.loc[df['Campaign Period Sales'] == 0, 'Campaign Period Sales'] = 0\n",
        "df['Campaign Period Sales'].value_counts()  "
      ],
      "execution_count": 680,
      "outputs": [
        {
          "output_type": "execute_result",
          "data": {
            "text/plain": [
              " 0.000000      11787\n",
              " 1.000000       4379\n",
              "-140.960000        1\n",
              "-161.166667        1\n",
              "-566.500000        1\n",
              "-119.333333        1\n",
              "-421.833333        1\n",
              "-14.320000         1\n",
              "Name: Campaign Period Sales, dtype: int64"
            ]
          },
          "metadata": {
            "tags": []
          },
          "execution_count": 680
        }
      ]
    },
    {
      "cell_type": "markdown",
      "metadata": {
        "id": "mrWVfv64SCKJ",
        "colab_type": "raw"
      },
      "source": [
        "negative value indicate refund, will drop"
      ]
    },
    {
      "cell_type": "code",
      "metadata": {
        "trusted": true,
        "id": "uyLjSRu_SCKM",
        "colab_type": "code",
        "outputId": "918ad8a0-2332-49bb-c1a0-605ef1daf05f",
        "colab": {
          "base_uri": "https://localhost:8080/",
          "height": 68
        }
      },
      "source": [
        "df = df[df['Campaign Period Sales'] >= 0]\n",
        "df['Campaign Period Sales'].value_counts()  "
      ],
      "execution_count": 681,
      "outputs": [
        {
          "output_type": "execute_result",
          "data": {
            "text/plain": [
              "0.0    11787\n",
              "1.0     4379\n",
              "Name: Campaign Period Sales, dtype: int64"
            ]
          },
          "metadata": {
            "tags": []
          },
          "execution_count": 681
        }
      ]
    },
    {
      "cell_type": "code",
      "metadata": {
        "trusted": true,
        "id": "4Jsn5cGESCKa",
        "colab_type": "code",
        "colab": {}
      },
      "source": [
        "df = df.drop('Customer Number', axis = 1)"
      ],
      "execution_count": 0,
      "outputs": []
    },
    {
      "cell_type": "markdown",
      "metadata": {
        "id": "VLUlIVAGo72h",
        "colab_type": "text"
      },
      "source": [
        "Create new column for account age\n"
      ]
    },
    {
      "cell_type": "code",
      "metadata": {
        "id": "e18sWSKfxDP_",
        "colab_type": "code",
        "colab": {}
      },
      "source": [
        "from datetime import datetime\n",
        "from dateutil.relativedelta import relativedelta\n",
        "now = datetime.now()  \n",
        "\n",
        "df['diff_years'] = ((now - df['Date of First Purchase'])/365).dt.days"
      ],
      "execution_count": 0,
      "outputs": []
    },
    {
      "cell_type": "code",
      "metadata": {
        "id": "bGUaRtWwmTz7",
        "colab_type": "code",
        "colab": {
          "base_uri": "https://localhost:8080/",
          "height": 170
        },
        "outputId": "6ab9dfd3-6a09-4cf8-f4ed-6c5a3e210cec"
      },
      "source": [
        "df['diff_years'].describe()"
      ],
      "execution_count": 684,
      "outputs": [
        {
          "output_type": "execute_result",
          "data": {
            "text/plain": [
              "count    16166.000000\n",
              "mean        26.633366\n",
              "std         10.959205\n",
              "min          1.000000\n",
              "25%         22.000000\n",
              "50%         26.000000\n",
              "75%         32.000000\n",
              "max         94.000000\n",
              "Name: diff_years, dtype: float64"
            ]
          },
          "metadata": {
            "tags": []
          },
          "execution_count": 684
        }
      ]
    },
    {
      "cell_type": "markdown",
      "metadata": {
        "id": "wf8afO4qo-ps",
        "colab_type": "text"
      },
      "source": [
        "Create new column for sales volume per year\n",
        "\n",
        "Has very low correlation to label, will drop"
      ]
    },
    {
      "cell_type": "code",
      "metadata": {
        "id": "64KwbjhCn2_8",
        "colab_type": "code",
        "colab": {}
      },
      "source": [
        "#df['salesVolumePerYear'] = df['Historical Sales Volume'] / df['diff_years'] \n",
        "#df['salesVolumePerYear'].describe()"
      ],
      "execution_count": 0,
      "outputs": []
    },
    {
      "cell_type": "markdown",
      "metadata": {
        "id": "MtktJtSTpWBa",
        "colab_type": "text"
      },
      "source": [
        "Create new column for sales order per year\n",
        "\n",
        "Has very low correlation to label, will drop"
      ]
    },
    {
      "cell_type": "code",
      "metadata": {
        "id": "cOKWIlukpQga",
        "colab_type": "code",
        "colab": {}
      },
      "source": [
        "#df['salesOrderPerYear'] = df['Number of Prior Year Transactions'] / df['diff_years'] \n",
        "#df['salesOrderPerYear'].describe()"
      ],
      "execution_count": 0,
      "outputs": []
    },
    {
      "cell_type": "code",
      "metadata": {
        "trusted": true,
        "id": "lkIi11kySCKm",
        "colab_type": "code",
        "outputId": "d64b07de-b7f4-4467-bd14-d49dfd3849c8",
        "colab": {
          "base_uri": "https://localhost:8080/",
          "height": 68
        }
      },
      "source": [
        "df['Do Not Direct Mail Solicit'].value_counts()"
      ],
      "execution_count": 687,
      "outputs": [
        {
          "output_type": "execute_result",
          "data": {
            "text/plain": [
              "0.0    14425\n",
              "1.0     1741\n",
              "Name: Do Not Direct Mail Solicit, dtype: int64"
            ]
          },
          "metadata": {
            "tags": []
          },
          "execution_count": 687
        }
      ]
    },
    {
      "cell_type": "code",
      "metadata": {
        "trusted": true,
        "id": "IfEGHLE1SCK0",
        "colab_type": "code",
        "outputId": "36209a7d-0157-4efe-b094-add69fbf911d",
        "colab": {
          "base_uri": "https://localhost:8080/",
          "height": 68
        }
      },
      "source": [
        "df['Do Not Email'].value_counts()    "
      ],
      "execution_count": 688,
      "outputs": [
        {
          "output_type": "execute_result",
          "data": {
            "text/plain": [
              "0.0    12745\n",
              "1.0     3421\n",
              "Name: Do Not Email, dtype: int64"
            ]
          },
          "metadata": {
            "tags": []
          },
          "execution_count": 688
        }
      ]
    },
    {
      "cell_type": "code",
      "metadata": {
        "trusted": true,
        "id": "mlgAQ6PaSCLA",
        "colab_type": "code",
        "outputId": "22634b90-9971-4e13-851f-3902ed069476",
        "colab": {
          "base_uri": "https://localhost:8080/",
          "height": 68
        }
      },
      "source": [
        "df['Do Not Telemarket'].value_counts()"
      ],
      "execution_count": 689,
      "outputs": [
        {
          "output_type": "execute_result",
          "data": {
            "text/plain": [
              "0.0    14590\n",
              "1.0     1576\n",
              "Name: Do Not Telemarket, dtype: int64"
            ]
          },
          "metadata": {
            "tags": []
          },
          "execution_count": 689
        }
      ]
    },
    {
      "cell_type": "code",
      "metadata": {
        "trusted": true,
        "id": "A6LSEusDSCLL",
        "colab_type": "code",
        "outputId": "15a71cf0-07e9-406a-ef5e-c5340dc4d5d3",
        "colab": {
          "base_uri": "https://localhost:8080/",
          "height": 85
        }
      },
      "source": [
        "df['Repurchase Method'].value_counts()"
      ],
      "execution_count": 690,
      "outputs": [
        {
          "output_type": "execute_result",
          "data": {
            "text/plain": [
              "NOTICE          11897\n",
              "AUTO RENEW       4268\n",
              "PAYMENT PLAN        1\n",
              "Name: Repurchase Method, dtype: int64"
            ]
          },
          "metadata": {
            "tags": []
          },
          "execution_count": 690
        }
      ]
    },
    {
      "cell_type": "code",
      "metadata": {
        "trusted": true,
        "id": "QURb8pm8SCLW",
        "colab_type": "code",
        "outputId": "f2409e7b-b60e-4e29-becf-0eae1b7f0a6d",
        "colab": {
          "base_uri": "https://localhost:8080/",
          "height": 170
        }
      },
      "source": [
        "df['Last Transaction Channel'].value_counts()"
      ],
      "execution_count": 691,
      "outputs": [
        {
          "output_type": "execute_result",
          "data": {
            "text/plain": [
              "MAIL              7766\n",
              "AUTO RENEW        3141\n",
              "WEB               2645\n",
              "PHONE             1096\n",
              "BRANCH (POS)       633\n",
              "BRANCH (PHONE)     411\n",
              "BILLING             18\n",
              "IT                  14\n",
              "Name: Last Transaction Channel, dtype: int64"
            ]
          },
          "metadata": {
            "tags": []
          },
          "execution_count": 691
        }
      ]
    },
    {
      "cell_type": "code",
      "metadata": {
        "trusted": true,
        "id": "JUr36KJ5SCLh",
        "colab_type": "code",
        "outputId": "d305533b-fb24-4c7b-aaee-5196820d6861",
        "colab": {
          "base_uri": "https://localhost:8080/",
          "height": 34
        }
      },
      "source": [
        "df['Last Transaction Channel'].isnull().sum()"
      ],
      "execution_count": 692,
      "outputs": [
        {
          "output_type": "execute_result",
          "data": {
            "text/plain": [
              "442"
            ]
          },
          "metadata": {
            "tags": []
          },
          "execution_count": 692
        }
      ]
    },
    {
      "cell_type": "code",
      "metadata": {
        "trusted": true,
        "id": "oEK-Zo-BSCLq",
        "colab_type": "code",
        "colab": {}
      },
      "source": [
        "df = df[df['Last Transaction Channel'].notna()]"
      ],
      "execution_count": 0,
      "outputs": []
    },
    {
      "cell_type": "code",
      "metadata": {
        "trusted": true,
        "id": "0xPoyvZDSCLz",
        "colab_type": "code",
        "outputId": "82063a5f-0216-45fa-bc35-a7ee49589e81",
        "colab": {
          "base_uri": "https://localhost:8080/",
          "height": 85
        }
      },
      "source": [
        "df['Desk'].value_counts()"
      ],
      "execution_count": 694,
      "outputs": [
        {
          "output_type": "execute_result",
          "data": {
            "text/plain": [
              "N     14837\n",
              "Y       886\n",
              "YY        1\n",
              "Name: Desk, dtype: int64"
            ]
          },
          "metadata": {
            "tags": []
          },
          "execution_count": 694
        }
      ]
    },
    {
      "cell_type": "markdown",
      "metadata": {
        "id": "xNvIvKxlSCL_",
        "colab_type": "text"
      },
      "source": [
        "There is a problem with Desk column, 1 extra line and 1 incorrect value\n",
        "\n",
        "Find out the location of this adnormal to decide next action\n",
        "\n",
        "Incorrect value will map later"
      ]
    },
    {
      "cell_type": "code",
      "metadata": {
        "trusted": true,
        "id": "T9k66hdKSCMA",
        "colab_type": "code",
        "outputId": "5121d0e0-f88f-4f70-e8c3-dc1019980b21",
        "colab": {
          "base_uri": "https://localhost:8080/",
          "height": 34
        }
      },
      "source": [
        "print(df[df['Desk']==911].index.values)"
      ],
      "execution_count": 695,
      "outputs": [
        {
          "output_type": "stream",
          "text": [
            "[]\n"
          ],
          "name": "stdout"
        }
      ]
    },
    {
      "cell_type": "code",
      "metadata": {
        "trusted": true,
        "id": "Z_BDlA2dSCMG",
        "colab_type": "code",
        "outputId": "da80180a-8df9-448d-94ea-1c9a1de15957",
        "colab": {
          "base_uri": "https://localhost:8080/",
          "height": 193
        }
      },
      "source": [
        "df.tail(3)"
      ],
      "execution_count": 696,
      "outputs": [
        {
          "output_type": "execute_result",
          "data": {
            "text/html": [
              "<div>\n",
              "<style scoped>\n",
              "    .dataframe tbody tr th:only-of-type {\n",
              "        vertical-align: middle;\n",
              "    }\n",
              "\n",
              "    .dataframe tbody tr th {\n",
              "        vertical-align: top;\n",
              "    }\n",
              "\n",
              "    .dataframe thead th {\n",
              "        text-align: right;\n",
              "    }\n",
              "</style>\n",
              "<table border=\"1\" class=\"dataframe\">\n",
              "  <thead>\n",
              "    <tr style=\"text-align: right;\">\n",
              "      <th></th>\n",
              "      <th>Campaign Period Sales</th>\n",
              "      <th>Historical Sales Volume</th>\n",
              "      <th>Date of First Purchase</th>\n",
              "      <th>Number of Prior Year Transactions</th>\n",
              "      <th>Do Not Direct Mail Solicit</th>\n",
              "      <th>Do Not Email</th>\n",
              "      <th>Do Not Telemarket</th>\n",
              "      <th>Repurchase Method</th>\n",
              "      <th>Last Transaction Channel</th>\n",
              "      <th>Desk</th>\n",
              "      <th>Executive Chair</th>\n",
              "      <th>Standard Chair</th>\n",
              "      <th>Monitor</th>\n",
              "      <th>Printer</th>\n",
              "      <th>Computer</th>\n",
              "      <th>Insurance</th>\n",
              "      <th>Toner</th>\n",
              "      <th>Office Supplies</th>\n",
              "      <th>Number of Employees</th>\n",
              "      <th>Language</th>\n",
              "      <th>diff_years</th>\n",
              "    </tr>\n",
              "  </thead>\n",
              "  <tbody>\n",
              "    <tr>\n",
              "      <th>16169</th>\n",
              "      <td>0.0</td>\n",
              "      <td>2.355030e+06</td>\n",
              "      <td>1995-01-01</td>\n",
              "      <td>6.0</td>\n",
              "      <td>0.0</td>\n",
              "      <td>0.0</td>\n",
              "      <td>0.0</td>\n",
              "      <td>NOTICE</td>\n",
              "      <td>MAIL</td>\n",
              "      <td>N</td>\n",
              "      <td>N</td>\n",
              "      <td>N</td>\n",
              "      <td>N</td>\n",
              "      <td>N</td>\n",
              "      <td>N</td>\n",
              "      <td>N</td>\n",
              "      <td>N</td>\n",
              "      <td>N</td>\n",
              "      <td></td>\n",
              "      <td>NaN</td>\n",
              "      <td>25</td>\n",
              "    </tr>\n",
              "    <tr>\n",
              "      <th>16170</th>\n",
              "      <td>0.0</td>\n",
              "      <td>5.845700e+05</td>\n",
              "      <td>1996-02-01</td>\n",
              "      <td>2.0</td>\n",
              "      <td>0.0</td>\n",
              "      <td>1.0</td>\n",
              "      <td>0.0</td>\n",
              "      <td>NOTICE</td>\n",
              "      <td>MAIL</td>\n",
              "      <td>N</td>\n",
              "      <td>N</td>\n",
              "      <td>N</td>\n",
              "      <td>N</td>\n",
              "      <td>N</td>\n",
              "      <td>N</td>\n",
              "      <td>N</td>\n",
              "      <td>N</td>\n",
              "      <td>N</td>\n",
              "      <td></td>\n",
              "      <td>NaN</td>\n",
              "      <td>24</td>\n",
              "    </tr>\n",
              "    <tr>\n",
              "      <th>16171</th>\n",
              "      <td>0.0</td>\n",
              "      <td>1.949425e+06</td>\n",
              "      <td>1998-03-15</td>\n",
              "      <td>4.0</td>\n",
              "      <td>0.0</td>\n",
              "      <td>0.0</td>\n",
              "      <td>0.0</td>\n",
              "      <td>NOTICE</td>\n",
              "      <td>PHONE</td>\n",
              "      <td>N</td>\n",
              "      <td>N</td>\n",
              "      <td>N</td>\n",
              "      <td>N</td>\n",
              "      <td>N</td>\n",
              "      <td>N</td>\n",
              "      <td>N</td>\n",
              "      <td>N</td>\n",
              "      <td>N</td>\n",
              "      <td></td>\n",
              "      <td>NaN</td>\n",
              "      <td>22</td>\n",
              "    </tr>\n",
              "  </tbody>\n",
              "</table>\n",
              "</div>"
            ],
            "text/plain": [
              "       Campaign Period Sales  Historical Sales Volume  ... Language  diff_years\n",
              "16169                    0.0             2.355030e+06  ...      NaN          25\n",
              "16170                    0.0             5.845700e+05  ...      NaN          24\n",
              "16171                    0.0             1.949425e+06  ...      NaN          22\n",
              "\n",
              "[3 rows x 21 columns]"
            ]
          },
          "metadata": {
            "tags": []
          },
          "execution_count": 696
        }
      ]
    },
    {
      "cell_type": "code",
      "metadata": {
        "trusted": true,
        "id": "1MmZdyUBSCML",
        "colab_type": "code",
        "outputId": "21fec571-a128-4311-e6fc-91a22d6ec7b2",
        "colab": {
          "base_uri": "https://localhost:8080/",
          "height": 193
        }
      },
      "source": [
        "df = df[df.Desk != 911]\n",
        "df.tail(3)"
      ],
      "execution_count": 697,
      "outputs": [
        {
          "output_type": "execute_result",
          "data": {
            "text/html": [
              "<div>\n",
              "<style scoped>\n",
              "    .dataframe tbody tr th:only-of-type {\n",
              "        vertical-align: middle;\n",
              "    }\n",
              "\n",
              "    .dataframe tbody tr th {\n",
              "        vertical-align: top;\n",
              "    }\n",
              "\n",
              "    .dataframe thead th {\n",
              "        text-align: right;\n",
              "    }\n",
              "</style>\n",
              "<table border=\"1\" class=\"dataframe\">\n",
              "  <thead>\n",
              "    <tr style=\"text-align: right;\">\n",
              "      <th></th>\n",
              "      <th>Campaign Period Sales</th>\n",
              "      <th>Historical Sales Volume</th>\n",
              "      <th>Date of First Purchase</th>\n",
              "      <th>Number of Prior Year Transactions</th>\n",
              "      <th>Do Not Direct Mail Solicit</th>\n",
              "      <th>Do Not Email</th>\n",
              "      <th>Do Not Telemarket</th>\n",
              "      <th>Repurchase Method</th>\n",
              "      <th>Last Transaction Channel</th>\n",
              "      <th>Desk</th>\n",
              "      <th>Executive Chair</th>\n",
              "      <th>Standard Chair</th>\n",
              "      <th>Monitor</th>\n",
              "      <th>Printer</th>\n",
              "      <th>Computer</th>\n",
              "      <th>Insurance</th>\n",
              "      <th>Toner</th>\n",
              "      <th>Office Supplies</th>\n",
              "      <th>Number of Employees</th>\n",
              "      <th>Language</th>\n",
              "      <th>diff_years</th>\n",
              "    </tr>\n",
              "  </thead>\n",
              "  <tbody>\n",
              "    <tr>\n",
              "      <th>16169</th>\n",
              "      <td>0.0</td>\n",
              "      <td>2.355030e+06</td>\n",
              "      <td>1995-01-01</td>\n",
              "      <td>6.0</td>\n",
              "      <td>0.0</td>\n",
              "      <td>0.0</td>\n",
              "      <td>0.0</td>\n",
              "      <td>NOTICE</td>\n",
              "      <td>MAIL</td>\n",
              "      <td>N</td>\n",
              "      <td>N</td>\n",
              "      <td>N</td>\n",
              "      <td>N</td>\n",
              "      <td>N</td>\n",
              "      <td>N</td>\n",
              "      <td>N</td>\n",
              "      <td>N</td>\n",
              "      <td>N</td>\n",
              "      <td></td>\n",
              "      <td>NaN</td>\n",
              "      <td>25</td>\n",
              "    </tr>\n",
              "    <tr>\n",
              "      <th>16170</th>\n",
              "      <td>0.0</td>\n",
              "      <td>5.845700e+05</td>\n",
              "      <td>1996-02-01</td>\n",
              "      <td>2.0</td>\n",
              "      <td>0.0</td>\n",
              "      <td>1.0</td>\n",
              "      <td>0.0</td>\n",
              "      <td>NOTICE</td>\n",
              "      <td>MAIL</td>\n",
              "      <td>N</td>\n",
              "      <td>N</td>\n",
              "      <td>N</td>\n",
              "      <td>N</td>\n",
              "      <td>N</td>\n",
              "      <td>N</td>\n",
              "      <td>N</td>\n",
              "      <td>N</td>\n",
              "      <td>N</td>\n",
              "      <td></td>\n",
              "      <td>NaN</td>\n",
              "      <td>24</td>\n",
              "    </tr>\n",
              "    <tr>\n",
              "      <th>16171</th>\n",
              "      <td>0.0</td>\n",
              "      <td>1.949425e+06</td>\n",
              "      <td>1998-03-15</td>\n",
              "      <td>4.0</td>\n",
              "      <td>0.0</td>\n",
              "      <td>0.0</td>\n",
              "      <td>0.0</td>\n",
              "      <td>NOTICE</td>\n",
              "      <td>PHONE</td>\n",
              "      <td>N</td>\n",
              "      <td>N</td>\n",
              "      <td>N</td>\n",
              "      <td>N</td>\n",
              "      <td>N</td>\n",
              "      <td>N</td>\n",
              "      <td>N</td>\n",
              "      <td>N</td>\n",
              "      <td>N</td>\n",
              "      <td></td>\n",
              "      <td>NaN</td>\n",
              "      <td>22</td>\n",
              "    </tr>\n",
              "  </tbody>\n",
              "</table>\n",
              "</div>"
            ],
            "text/plain": [
              "       Campaign Period Sales  Historical Sales Volume  ... Language  diff_years\n",
              "16169                    0.0             2.355030e+06  ...      NaN          25\n",
              "16170                    0.0             5.845700e+05  ...      NaN          24\n",
              "16171                    0.0             1.949425e+06  ...      NaN          22\n",
              "\n",
              "[3 rows x 21 columns]"
            ]
          },
          "metadata": {
            "tags": []
          },
          "execution_count": 697
        }
      ]
    },
    {
      "cell_type": "code",
      "metadata": {
        "trusted": true,
        "id": "crBwSaofSCMR",
        "colab_type": "code",
        "outputId": "362b19f6-cb7a-4016-cd14-9540eedb2bde",
        "colab": {
          "base_uri": "https://localhost:8080/",
          "height": 85
        }
      },
      "source": [
        "df['Desk'].value_counts()"
      ],
      "execution_count": 698,
      "outputs": [
        {
          "output_type": "execute_result",
          "data": {
            "text/plain": [
              "N     14837\n",
              "Y       886\n",
              "YY        1\n",
              "Name: Desk, dtype: int64"
            ]
          },
          "metadata": {
            "tags": []
          },
          "execution_count": 698
        }
      ]
    },
    {
      "cell_type": "code",
      "metadata": {
        "trusted": true,
        "id": "dOGzNR5LSCMW",
        "colab_type": "code",
        "colab": {}
      },
      "source": [
        "df['Desk'] = df['Desk'].map( {'N': 0, 'Y': 1, 'YY': 1} )"
      ],
      "execution_count": 0,
      "outputs": []
    },
    {
      "cell_type": "code",
      "metadata": {
        "trusted": true,
        "id": "aaDFe_9KSCMc",
        "colab_type": "code",
        "outputId": "4c3c2756-8742-4df9-94aa-0b0120e6c2b2",
        "colab": {
          "base_uri": "https://localhost:8080/",
          "height": 68
        }
      },
      "source": [
        "df['Desk'].value_counts()"
      ],
      "execution_count": 700,
      "outputs": [
        {
          "output_type": "execute_result",
          "data": {
            "text/plain": [
              "0    14837\n",
              "1      887\n",
              "Name: Desk, dtype: int64"
            ]
          },
          "metadata": {
            "tags": []
          },
          "execution_count": 700
        }
      ]
    },
    {
      "cell_type": "code",
      "metadata": {
        "trusted": true,
        "id": "Wd6A5j44SCMk",
        "colab_type": "code",
        "outputId": "c2638648-4642-4726-d4a8-2b0395eb710b",
        "colab": {
          "base_uri": "https://localhost:8080/",
          "height": 68
        }
      },
      "source": [
        "df['Executive Chair'].value_counts()"
      ],
      "execution_count": 701,
      "outputs": [
        {
          "output_type": "execute_result",
          "data": {
            "text/plain": [
              "N    14592\n",
              "Y     1131\n",
              "Name: Executive Chair, dtype: int64"
            ]
          },
          "metadata": {
            "tags": []
          },
          "execution_count": 701
        }
      ]
    },
    {
      "cell_type": "code",
      "metadata": {
        "trusted": true,
        "id": "Sj8N538VSCMs",
        "colab_type": "code",
        "colab": {}
      },
      "source": [
        "df['Executive Chair'] = df['Executive Chair'].map( {'N': 0, 'Y': 1} )\n",
        "df['Executive Chair'].replace('', np.nan, inplace=True)\n",
        "#df.dropna(subset=['Executive Chair'], inplace=True)"
      ],
      "execution_count": 0,
      "outputs": []
    },
    {
      "cell_type": "code",
      "metadata": {
        "trusted": true,
        "id": "UeAJCnShSCMy",
        "colab_type": "code",
        "outputId": "15a4a91a-8e0e-4879-d16a-a73339077a59",
        "colab": {
          "base_uri": "https://localhost:8080/",
          "height": 68
        }
      },
      "source": [
        "df['Executive Chair'].value_counts()"
      ],
      "execution_count": 703,
      "outputs": [
        {
          "output_type": "execute_result",
          "data": {
            "text/plain": [
              "0.0    14592\n",
              "1.0     1131\n",
              "Name: Executive Chair, dtype: int64"
            ]
          },
          "metadata": {
            "tags": []
          },
          "execution_count": 703
        }
      ]
    },
    {
      "cell_type": "code",
      "metadata": {
        "trusted": true,
        "id": "oUw_f4HvSCM3",
        "colab_type": "code",
        "outputId": "50fdb977-1051-4fce-b028-859cda98b314",
        "colab": {
          "base_uri": "https://localhost:8080/",
          "height": 68
        }
      },
      "source": [
        "df['Standard Chair'].value_counts()\n"
      ],
      "execution_count": 704,
      "outputs": [
        {
          "output_type": "execute_result",
          "data": {
            "text/plain": [
              "N    15452\n",
              "Y      271\n",
              "Name: Standard Chair, dtype: int64"
            ]
          },
          "metadata": {
            "tags": []
          },
          "execution_count": 704
        }
      ]
    },
    {
      "cell_type": "code",
      "metadata": {
        "trusted": true,
        "id": "3NA72luSSCM8",
        "colab_type": "code",
        "outputId": "e105f34f-6be2-47c5-b8da-6e50c30ebb5c",
        "colab": {
          "base_uri": "https://localhost:8080/",
          "height": 68
        }
      },
      "source": [
        "df['Standard Chair'] = df['Standard Chair'].map( {'N': 0, 'Y': 1} )\n",
        "\n",
        "df['Standard Chair'].value_counts()"
      ],
      "execution_count": 705,
      "outputs": [
        {
          "output_type": "execute_result",
          "data": {
            "text/plain": [
              "0.0    15452\n",
              "1.0      271\n",
              "Name: Standard Chair, dtype: int64"
            ]
          },
          "metadata": {
            "tags": []
          },
          "execution_count": 705
        }
      ]
    },
    {
      "cell_type": "code",
      "metadata": {
        "trusted": true,
        "id": "hn5EnnfESCND",
        "colab_type": "code",
        "outputId": "f7f3943b-0b3b-49be-d616-7b7f8669b774",
        "colab": {
          "base_uri": "https://localhost:8080/",
          "height": 68
        }
      },
      "source": [
        "df['Monitor'].value_counts()"
      ],
      "execution_count": 706,
      "outputs": [
        {
          "output_type": "execute_result",
          "data": {
            "text/plain": [
              "N    15431\n",
              "Y      292\n",
              "Name: Monitor, dtype: int64"
            ]
          },
          "metadata": {
            "tags": []
          },
          "execution_count": 706
        }
      ]
    },
    {
      "cell_type": "code",
      "metadata": {
        "trusted": true,
        "id": "6lKvaJWbSCNJ",
        "colab_type": "code",
        "outputId": "02196597-bc02-489e-8140-3c723010eeec",
        "colab": {
          "base_uri": "https://localhost:8080/",
          "height": 68
        }
      },
      "source": [
        "df['Monitor'] = df['Monitor'].map( {'N': 0, 'Y': 1} )\n",
        "df['Monitor'].value_counts()"
      ],
      "execution_count": 707,
      "outputs": [
        {
          "output_type": "execute_result",
          "data": {
            "text/plain": [
              "0.0    15431\n",
              "1.0      292\n",
              "Name: Monitor, dtype: int64"
            ]
          },
          "metadata": {
            "tags": []
          },
          "execution_count": 707
        }
      ]
    },
    {
      "cell_type": "code",
      "metadata": {
        "trusted": true,
        "id": "8D2pYgYLSCNR",
        "colab_type": "code",
        "outputId": "8411ca9a-2f85-4bd5-becf-c6893d842fff",
        "colab": {
          "base_uri": "https://localhost:8080/",
          "height": 68
        }
      },
      "source": [
        "df['Printer'].value_counts()"
      ],
      "execution_count": 708,
      "outputs": [
        {
          "output_type": "execute_result",
          "data": {
            "text/plain": [
              "N    15305\n",
              "Y      418\n",
              "Name: Printer, dtype: int64"
            ]
          },
          "metadata": {
            "tags": []
          },
          "execution_count": 708
        }
      ]
    },
    {
      "cell_type": "code",
      "metadata": {
        "trusted": true,
        "id": "J1vDG5hcSCNW",
        "colab_type": "code",
        "outputId": "42f8e80a-53d9-4f56-eb48-23bf814d258f",
        "colab": {
          "base_uri": "https://localhost:8080/",
          "height": 68
        }
      },
      "source": [
        "df['Printer'] = df['Printer'].map( {'N': 0, 'Y': 1} )\n",
        "df['Printer'].value_counts()"
      ],
      "execution_count": 709,
      "outputs": [
        {
          "output_type": "execute_result",
          "data": {
            "text/plain": [
              "0.0    15305\n",
              "1.0      418\n",
              "Name: Printer, dtype: int64"
            ]
          },
          "metadata": {
            "tags": []
          },
          "execution_count": 709
        }
      ]
    },
    {
      "cell_type": "code",
      "metadata": {
        "trusted": true,
        "id": "ZyvMicniSCNa",
        "colab_type": "code",
        "outputId": "6843448a-e61f-4fb0-9616-4f5e32b8acbc",
        "colab": {
          "base_uri": "https://localhost:8080/",
          "height": 85
        }
      },
      "source": [
        "df['Computer'].value_counts()\n"
      ],
      "execution_count": 710,
      "outputs": [
        {
          "output_type": "execute_result",
          "data": {
            "text/plain": [
              "N     15498\n",
              "Y       225\n",
              "YY        1\n",
              "Name: Computer, dtype: int64"
            ]
          },
          "metadata": {
            "tags": []
          },
          "execution_count": 710
        }
      ]
    },
    {
      "cell_type": "code",
      "metadata": {
        "trusted": true,
        "id": "a-_AEP1PSCNf",
        "colab_type": "code",
        "outputId": "d18690cc-625e-4d93-9b00-411571024a01",
        "colab": {
          "base_uri": "https://localhost:8080/",
          "height": 68
        }
      },
      "source": [
        "df['Computer'] = df['Computer'].map( {'N': 0, 'Y': 1,'YY': 1} )\n",
        "df['Computer'].value_counts()"
      ],
      "execution_count": 711,
      "outputs": [
        {
          "output_type": "execute_result",
          "data": {
            "text/plain": [
              "0    15498\n",
              "1      226\n",
              "Name: Computer, dtype: int64"
            ]
          },
          "metadata": {
            "tags": []
          },
          "execution_count": 711
        }
      ]
    },
    {
      "cell_type": "code",
      "metadata": {
        "trusted": true,
        "id": "gBoBTxDcSCNj",
        "colab_type": "code",
        "outputId": "160323e9-1b79-4140-ef64-aa7c36ed3a20",
        "colab": {
          "base_uri": "https://localhost:8080/",
          "height": 85
        }
      },
      "source": [
        "df['Insurance'].value_counts()\n"
      ],
      "execution_count": 712,
      "outputs": [
        {
          "output_type": "execute_result",
          "data": {
            "text/plain": [
              "N     13845\n",
              "Y      1876\n",
              "YY        1\n",
              "Name: Insurance, dtype: int64"
            ]
          },
          "metadata": {
            "tags": []
          },
          "execution_count": 712
        }
      ]
    },
    {
      "cell_type": "code",
      "metadata": {
        "trusted": true,
        "id": "97MzQqHRSCNo",
        "colab_type": "code",
        "outputId": "5bb5928e-d82b-4390-a3ff-f74ff1d2f063",
        "colab": {
          "base_uri": "https://localhost:8080/",
          "height": 68
        }
      },
      "source": [
        "df['Insurance'] = df['Insurance'].map( {'N': 0, 'Y': 1,'YY': 1} )\n",
        "df['Insurance'].replace('', np.nan, inplace=True)\n",
        "df.dropna(subset=['Insurance'], inplace=True)\n",
        "df['Insurance'].value_counts()"
      ],
      "execution_count": 713,
      "outputs": [
        {
          "output_type": "execute_result",
          "data": {
            "text/plain": [
              "0.0    13845\n",
              "1.0     1877\n",
              "Name: Insurance, dtype: int64"
            ]
          },
          "metadata": {
            "tags": []
          },
          "execution_count": 713
        }
      ]
    },
    {
      "cell_type": "code",
      "metadata": {
        "trusted": true,
        "id": "cZXNDlocSCNt",
        "colab_type": "code",
        "outputId": "8fa4cf8d-6e19-4eb5-d4c4-e22f584a6362",
        "colab": {
          "base_uri": "https://localhost:8080/",
          "height": 85
        }
      },
      "source": [
        "df['Toner'].value_counts()\n"
      ],
      "execution_count": 714,
      "outputs": [
        {
          "output_type": "execute_result",
          "data": {
            "text/plain": [
              "N     14683\n",
              "Y      1038\n",
              "YY        1\n",
              "Name: Toner, dtype: int64"
            ]
          },
          "metadata": {
            "tags": []
          },
          "execution_count": 714
        }
      ]
    },
    {
      "cell_type": "code",
      "metadata": {
        "trusted": true,
        "id": "-3-igs8pSCNy",
        "colab_type": "code",
        "outputId": "1ef840cb-e171-4952-f802-510616420d72",
        "colab": {
          "base_uri": "https://localhost:8080/",
          "height": 68
        }
      },
      "source": [
        "df['Toner'] = df['Toner'].map( {'N': 0, 'Y': 1,'YY': 1} )\n",
        "df['Toner'].value_counts()"
      ],
      "execution_count": 715,
      "outputs": [
        {
          "output_type": "execute_result",
          "data": {
            "text/plain": [
              "0    14683\n",
              "1     1039\n",
              "Name: Toner, dtype: int64"
            ]
          },
          "metadata": {
            "tags": []
          },
          "execution_count": 715
        }
      ]
    },
    {
      "cell_type": "code",
      "metadata": {
        "trusted": true,
        "id": "B3mEYn99SCN2",
        "colab_type": "code",
        "outputId": "9e099a29-80db-4a81-83c3-151f8dafaed9",
        "colab": {
          "base_uri": "https://localhost:8080/",
          "height": 68
        }
      },
      "source": [
        "df['Office Supplies'].value_counts()"
      ],
      "execution_count": 716,
      "outputs": [
        {
          "output_type": "execute_result",
          "data": {
            "text/plain": [
              "Y    11514\n",
              "N     4208\n",
              "Name: Office Supplies, dtype: int64"
            ]
          },
          "metadata": {
            "tags": []
          },
          "execution_count": 716
        }
      ]
    },
    {
      "cell_type": "code",
      "metadata": {
        "trusted": true,
        "id": "XY_fB--nSCN6",
        "colab_type": "code",
        "outputId": "43de325b-864f-4f5e-c0c0-ffbf510071c0",
        "colab": {
          "base_uri": "https://localhost:8080/",
          "height": 68
        }
      },
      "source": [
        "df['Office Supplies'] = df['Office Supplies'].map( {'N': 0, 'Y': 1,'YY': 1} )\n",
        "df['Office Supplies'].value_counts()"
      ],
      "execution_count": 717,
      "outputs": [
        {
          "output_type": "execute_result",
          "data": {
            "text/plain": [
              "1    11514\n",
              "0     4208\n",
              "Name: Office Supplies, dtype: int64"
            ]
          },
          "metadata": {
            "tags": []
          },
          "execution_count": 717
        }
      ]
    },
    {
      "cell_type": "code",
      "metadata": {
        "trusted": true,
        "id": "hP9jCBRrSCN_",
        "colab_type": "code",
        "outputId": "d907b232-55da-4516-d3bf-f2ad593a2788",
        "colab": {
          "base_uri": "https://localhost:8080/",
          "height": 153
        }
      },
      "source": [
        "df['Number of Employees'].value_counts()"
      ],
      "execution_count": 718,
      "outputs": [
        {
          "output_type": "execute_result",
          "data": {
            "text/plain": [
              "6-10       5103\n",
              "           3604\n",
              "1-5        2637\n",
              "11-50      2170\n",
              "51-100     1349\n",
              "101-500     639\n",
              "500+        218\n",
              "Name: Number of Employees, dtype: int64"
            ]
          },
          "metadata": {
            "tags": []
          },
          "execution_count": 718
        }
      ]
    },
    {
      "cell_type": "markdown",
      "metadata": {
        "id": "dTKXKpQ9SCOD",
        "colab_type": "text"
      },
      "source": [
        "blank value on numbers of employee. quantity are significant enough to not drop"
      ]
    },
    {
      "cell_type": "code",
      "metadata": {
        "trusted": true,
        "id": "GdYAyrriSCOH",
        "colab_type": "code",
        "outputId": "b0601823-c478-4a3f-a0f2-62c197bd8945",
        "colab": {
          "base_uri": "https://localhost:8080/",
          "height": 153
        }
      },
      "source": [
        "df['Number of Employees_copy'] = df['Number of Employees']\n",
        "df['Number of Employees_copy'] = df['Number of Employees_copy'].replace(r'^\\s*$', np.NaN, regex=True)\n",
        "df['Number of Employees_copy'] = df['Number of Employees_copy'].astype(str)\n",
        "df['Number of Employees_copy'] = df['Number of Employees_copy'].map({'1-5': 0, '6-10': 1, '11-50': 2, '51-100': 3, '101-500': 4, '500+': 5, 'nan': 6})\n",
        "df['Number of Employees_copy'].value_counts()"
      ],
      "execution_count": 719,
      "outputs": [
        {
          "output_type": "execute_result",
          "data": {
            "text/plain": [
              "1    5103\n",
              "6    3606\n",
              "0    2637\n",
              "2    2170\n",
              "3    1349\n",
              "4     639\n",
              "5     218\n",
              "Name: Number of Employees_copy, dtype: int64"
            ]
          },
          "metadata": {
            "tags": []
          },
          "execution_count": 719
        }
      ]
    },
    {
      "cell_type": "code",
      "metadata": {
        "trusted": true,
        "id": "v0oS4pMmSCOL",
        "colab_type": "code",
        "outputId": "95493071-0cb8-42c1-8770-24ac174956ed",
        "colab": {
          "base_uri": "https://localhost:8080/",
          "height": 153
        }
      },
      "source": [
        "df['Number of Employees_copy']=df['Number of Employees_copy'].replace(6, df['Number of Employees_copy'].mean(), regex=True)\n",
        "df['Number of Employees_copy'].value_counts()"
      ],
      "execution_count": 720,
      "outputs": [
        {
          "output_type": "execute_result",
          "data": {
            "text/plain": [
              "1.000000    5103\n",
              "2.466098    3606\n",
              "0.000000    2637\n",
              "2.000000    2170\n",
              "3.000000    1349\n",
              "4.000000     639\n",
              "5.000000     218\n",
              "Name: Number of Employees_copy, dtype: int64"
            ]
          },
          "metadata": {
            "tags": []
          },
          "execution_count": 720
        }
      ]
    },
    {
      "cell_type": "code",
      "metadata": {
        "trusted": true,
        "id": "_ZcqjeUOSCOR",
        "colab_type": "code",
        "colab": {}
      },
      "source": [
        "df = df.drop('Number of Employees_copy', axis = 1)"
      ],
      "execution_count": 0,
      "outputs": []
    },
    {
      "cell_type": "markdown",
      "metadata": {
        "id": "oVjOWeDkSCOd",
        "colab_type": "text"
      },
      "source": [
        "category mean suggest the blanks should be in between of category 11-50 and category 51-100\n",
        "\n",
        "will merge these 3 category together"
      ]
    },
    {
      "cell_type": "code",
      "metadata": {
        "trusted": true,
        "id": "mR2gkP-5SCOd",
        "colab_type": "code",
        "colab": {}
      },
      "source": [
        "#df['Number of Employees'] = df['Number of Employees'].map({'11-50': 11-100, '51-100': 11-100, r'^\\s*$': 11-100})\n",
        "df['Number of Employees'] = df['Number of Employees'].replace(r'^\\s*$', np.nan, regex=True)\n",
        "df['Number of Employees'] = df['Number of Employees'].astype(str)\n",
        "df['Number of Employees'] = df['Number of Employees'].replace(\"11-50\",\"11-100\").replace(\"51-100\",\"11-100\").replace(\"nan\",\"11-100\")"
      ],
      "execution_count": 0,
      "outputs": []
    },
    {
      "cell_type": "code",
      "metadata": {
        "trusted": true,
        "id": "nhNZlfNVSCOg",
        "colab_type": "code",
        "outputId": "b1fcb53a-4b3e-4b2e-91cd-718022d7dd36",
        "colab": {
          "base_uri": "https://localhost:8080/",
          "height": 119
        }
      },
      "source": [
        "df['Number of Employees'].value_counts()"
      ],
      "execution_count": 723,
      "outputs": [
        {
          "output_type": "execute_result",
          "data": {
            "text/plain": [
              "11-100     7125\n",
              "6-10       5103\n",
              "1-5        2637\n",
              "101-500     639\n",
              "500+        218\n",
              "Name: Number of Employees, dtype: int64"
            ]
          },
          "metadata": {
            "tags": []
          },
          "execution_count": 723
        }
      ]
    },
    {
      "cell_type": "code",
      "metadata": {
        "trusted": true,
        "id": "Y40TYg68SCOj",
        "colab_type": "code",
        "outputId": "e15fbfe9-e7b0-4661-a5e6-e53e2e1e1f7b",
        "colab": {
          "base_uri": "https://localhost:8080/",
          "height": 340
        }
      },
      "source": [
        "df['Language'].value_counts()"
      ],
      "execution_count": 724,
      "outputs": [
        {
          "output_type": "execute_result",
          "data": {
            "text/plain": [
              "English       11037\n",
              "Spanish          88\n",
              "Italian          45\n",
              "Portuguese       40\n",
              "Hindi            39\n",
              "Chinese          30\n",
              "Russian          24\n",
              "Hebrew           20\n",
              "Arabic           16\n",
              "German           15\n",
              "Greek            14\n",
              "Japanese         11\n",
              "Polish           10\n",
              "Vietnamese        9\n",
              "French            6\n",
              "Korean            4\n",
              "Thai              2\n",
              "Pashto            1\n",
              "Name: Language, dtype: int64"
            ]
          },
          "metadata": {
            "tags": []
          },
          "execution_count": 724
        }
      ]
    },
    {
      "cell_type": "markdown",
      "metadata": {
        "id": "ULwdtrXBSCOm",
        "colab_type": "text"
      },
      "source": [
        "group all the non english together and group nan into english"
      ]
    },
    {
      "cell_type": "code",
      "metadata": {
        "trusted": true,
        "id": "ssvlvP1ASCOn",
        "colab_type": "code",
        "colab": {}
      },
      "source": [
        "\n",
        "List=df.Language.value_counts().index[1:].tolist()\n",
        "mapping={}\n",
        "for s in List:\n",
        "    mapping[s]='Else'\n",
        "df['Language']=df['Language'].map(lambda x: mapping[x] if x in mapping else x)\n",
        "df['Language'] = df['Language'].map( {'English': 1,'Else': 0} )\n",
        "df.Language.value_counts()\n",
        "df.rename(columns={'Language': 'isEnglish'}, inplace=True)\n",
        "df['isEnglish'] = df['isEnglish'].replace(np.nan,1 , regex=True)"
      ],
      "execution_count": 0,
      "outputs": []
    },
    {
      "cell_type": "code",
      "metadata": {
        "trusted": true,
        "id": "a6wdde1ESCOq",
        "colab_type": "code",
        "outputId": "cdaf7b01-28be-40b1-b1fc-7de775e038c6",
        "colab": {
          "base_uri": "https://localhost:8080/",
          "height": 68
        }
      },
      "source": [
        "df['isEnglish'].value_counts()"
      ],
      "execution_count": 726,
      "outputs": [
        {
          "output_type": "execute_result",
          "data": {
            "text/plain": [
              "1.0    15348\n",
              "0.0      374\n",
              "Name: isEnglish, dtype: int64"
            ]
          },
          "metadata": {
            "tags": []
          },
          "execution_count": 726
        }
      ]
    },
    {
      "cell_type": "code",
      "metadata": {
        "trusted": true,
        "id": "q53pjZIrSCOu",
        "colab_type": "code",
        "outputId": "2e2ea0ab-c86b-47ac-ed76-fc4f89943ae9",
        "colab": {
          "base_uri": "https://localhost:8080/",
          "height": 493
        }
      },
      "source": [
        "df.info()"
      ],
      "execution_count": 727,
      "outputs": [
        {
          "output_type": "stream",
          "text": [
            "<class 'pandas.core.frame.DataFrame'>\n",
            "Int64Index: 15722 entries, 0 to 16171\n",
            "Data columns (total 21 columns):\n",
            " #   Column                             Non-Null Count  Dtype         \n",
            "---  ------                             --------------  -----         \n",
            " 0   Campaign Period Sales              15722 non-null  float64       \n",
            " 1   Historical Sales Volume            15722 non-null  float64       \n",
            " 2   Date of First Purchase             15722 non-null  datetime64[ns]\n",
            " 3   Number of Prior Year Transactions  15722 non-null  float64       \n",
            " 4   Do Not Direct Mail Solicit         15722 non-null  float64       \n",
            " 5   Do Not Email                       15722 non-null  float64       \n",
            " 6   Do Not Telemarket                  15722 non-null  float64       \n",
            " 7   Repurchase Method                  15722 non-null  object        \n",
            " 8   Last Transaction Channel           15722 non-null  object        \n",
            " 9   Desk                               15722 non-null  int64         \n",
            " 10  Executive Chair                    15722 non-null  float64       \n",
            " 11  Standard Chair                     15722 non-null  float64       \n",
            " 12  Monitor                            15722 non-null  float64       \n",
            " 13  Printer                            15722 non-null  float64       \n",
            " 14  Computer                           15722 non-null  int64         \n",
            " 15  Insurance                          15722 non-null  float64       \n",
            " 16  Toner                              15722 non-null  int64         \n",
            " 17  Office Supplies                    15722 non-null  int64         \n",
            " 18  Number of Employees                15722 non-null  object        \n",
            " 19  isEnglish                          15722 non-null  float64       \n",
            " 20  diff_years                         15722 non-null  int64         \n",
            "dtypes: datetime64[ns](1), float64(12), int64(5), object(3)\n",
            "memory usage: 2.6+ MB\n"
          ],
          "name": "stdout"
        }
      ]
    },
    {
      "cell_type": "code",
      "metadata": {
        "id": "MVlRHq7UWU2v",
        "colab_type": "code",
        "colab": {}
      },
      "source": [
        "for col in ['Campaign Period Sales', 'Number of Prior Year Transactions', 'Do Not Direct Mail Solicit', 'Do Not Email', 'Do Not Telemarket', 'Executive Chair', 'Insurance', 'isEnglish']:\n",
        "    df[col] = df[col].astype('int')"
      ],
      "execution_count": 0,
      "outputs": []
    },
    {
      "cell_type": "code",
      "metadata": {
        "id": "O6YAJlfkfZdw",
        "colab_type": "code",
        "outputId": "19d7e314-1fbb-438e-b352-762a890d17f6",
        "colab": {
          "base_uri": "https://localhost:8080/",
          "height": 493
        }
      },
      "source": [
        "df.info()"
      ],
      "execution_count": 729,
      "outputs": [
        {
          "output_type": "stream",
          "text": [
            "<class 'pandas.core.frame.DataFrame'>\n",
            "Int64Index: 15722 entries, 0 to 16171\n",
            "Data columns (total 21 columns):\n",
            " #   Column                             Non-Null Count  Dtype         \n",
            "---  ------                             --------------  -----         \n",
            " 0   Campaign Period Sales              15722 non-null  int64         \n",
            " 1   Historical Sales Volume            15722 non-null  float64       \n",
            " 2   Date of First Purchase             15722 non-null  datetime64[ns]\n",
            " 3   Number of Prior Year Transactions  15722 non-null  int64         \n",
            " 4   Do Not Direct Mail Solicit         15722 non-null  int64         \n",
            " 5   Do Not Email                       15722 non-null  int64         \n",
            " 6   Do Not Telemarket                  15722 non-null  int64         \n",
            " 7   Repurchase Method                  15722 non-null  object        \n",
            " 8   Last Transaction Channel           15722 non-null  object        \n",
            " 9   Desk                               15722 non-null  int64         \n",
            " 10  Executive Chair                    15722 non-null  int64         \n",
            " 11  Standard Chair                     15722 non-null  float64       \n",
            " 12  Monitor                            15722 non-null  float64       \n",
            " 13  Printer                            15722 non-null  float64       \n",
            " 14  Computer                           15722 non-null  int64         \n",
            " 15  Insurance                          15722 non-null  int64         \n",
            " 16  Toner                              15722 non-null  int64         \n",
            " 17  Office Supplies                    15722 non-null  int64         \n",
            " 18  Number of Employees                15722 non-null  object        \n",
            " 19  isEnglish                          15722 non-null  int64         \n",
            " 20  diff_years                         15722 non-null  int64         \n",
            "dtypes: datetime64[ns](1), float64(4), int64(13), object(3)\n",
            "memory usage: 2.6+ MB\n"
          ],
          "name": "stdout"
        }
      ]
    },
    {
      "cell_type": "markdown",
      "metadata": {
        "id": "Fwp1cgCmljc_",
        "colab_type": "text"
      },
      "source": [
        "heatmap"
      ]
    },
    {
      "cell_type": "code",
      "metadata": {
        "id": "HFKQQE8TmsBf",
        "colab_type": "code",
        "colab": {}
      },
      "source": [
        "df['Number of Employees_heatmap'] = df['Number of Employees']\n",
        "df['Number of Employees_heatmap'] = df['Number of Employees_heatmap'].map({'1-5': 0, '6-10': 1, '11-100': 2, '101-500': 3, '500+': 4})"
      ],
      "execution_count": 0,
      "outputs": []
    },
    {
      "cell_type": "code",
      "metadata": {
        "id": "fWbSnPL1lpBU",
        "colab_type": "code",
        "outputId": "f91227a0-e448-4f83-8c09-05821d8d38de",
        "colab": {
          "base_uri": "https://localhost:8080/",
          "height": 754
        }
      },
      "source": [
        "corrmat = df.corr()\n",
        "top_corr_features = corrmat.index\n",
        "plt.figure(figsize=(10,10))\n",
        "#plot heat map\n",
        "g=sns.heatmap(df[top_corr_features].corr(),annot=True,cmap=\"RdYlGn\")"
      ],
      "execution_count": 731,
      "outputs": [
        {
          "output_type": "display_data",
          "data": {
            "image/png": "[encoded data removed]",
            "text/plain": [
              "<Figure size 720x720 with 2 Axes>"
            ]
          },
          "metadata": {
            "tags": [],
            "needs_background": "light"
          }
        }
      ]
    },
    {
      "cell_type": "code",
      "metadata": {
        "id": "hlp8TmzFM7oQ",
        "colab_type": "code",
        "outputId": "7af555d5-c747-49dd-d4a9-039115a393f1",
        "colab": {
          "base_uri": "https://localhost:8080/",
          "height": 607
        }
      },
      "source": [
        "df_corr = df.corr().unstack().sort_values(kind=\"quicksort\", ascending=False).reset_index()\n",
        "df_corr.rename(columns={\"level_0\": \"Feature 1\", \"level_1\": \"Feature 2\", 0: 'Correlation Coefficient'}, inplace=True)\n",
        "df_corr[df_corr['Feature 1'] == 'Campaign Period Sales']"
      ],
      "execution_count": 732,
      "outputs": [
        {
          "output_type": "execute_result",
          "data": {
            "text/html": [
              "<div>\n",
              "<style scoped>\n",
              "    .dataframe tbody tr th:only-of-type {\n",
              "        vertical-align: middle;\n",
              "    }\n",
              "\n",
              "    .dataframe tbody tr th {\n",
              "        vertical-align: top;\n",
              "    }\n",
              "\n",
              "    .dataframe thead th {\n",
              "        text-align: right;\n",
              "    }\n",
              "</style>\n",
              "<table border=\"1\" class=\"dataframe\">\n",
              "  <thead>\n",
              "    <tr style=\"text-align: right;\">\n",
              "      <th></th>\n",
              "      <th>Feature 1</th>\n",
              "      <th>Feature 2</th>\n",
              "      <th>Correlation Coefficient</th>\n",
              "    </tr>\n",
              "  </thead>\n",
              "  <tbody>\n",
              "    <tr>\n",
              "      <th>17</th>\n",
              "      <td>Campaign Period Sales</td>\n",
              "      <td>Campaign Period Sales</td>\n",
              "      <td>1.000000</td>\n",
              "    </tr>\n",
              "    <tr>\n",
              "      <th>43</th>\n",
              "      <td>Campaign Period Sales</td>\n",
              "      <td>diff_years</td>\n",
              "      <td>0.285377</td>\n",
              "    </tr>\n",
              "    <tr>\n",
              "      <th>75</th>\n",
              "      <td>Campaign Period Sales</td>\n",
              "      <td>Monitor</td>\n",
              "      <td>0.170015</td>\n",
              "    </tr>\n",
              "    <tr>\n",
              "      <th>80</th>\n",
              "      <td>Campaign Period Sales</td>\n",
              "      <td>Computer</td>\n",
              "      <td>0.155554</td>\n",
              "    </tr>\n",
              "    <tr>\n",
              "      <th>83</th>\n",
              "      <td>Campaign Period Sales</td>\n",
              "      <td>Standard Chair</td>\n",
              "      <td>0.154078</td>\n",
              "    </tr>\n",
              "    <tr>\n",
              "      <th>91</th>\n",
              "      <td>Campaign Period Sales</td>\n",
              "      <td>Number of Prior Year Transactions</td>\n",
              "      <td>0.138927</td>\n",
              "    </tr>\n",
              "    <tr>\n",
              "      <th>94</th>\n",
              "      <td>Campaign Period Sales</td>\n",
              "      <td>Printer</td>\n",
              "      <td>0.132670</td>\n",
              "    </tr>\n",
              "    <tr>\n",
              "      <th>121</th>\n",
              "      <td>Campaign Period Sales</td>\n",
              "      <td>Executive Chair</td>\n",
              "      <td>0.079881</td>\n",
              "    </tr>\n",
              "    <tr>\n",
              "      <th>124</th>\n",
              "      <td>Campaign Period Sales</td>\n",
              "      <td>Toner</td>\n",
              "      <td>0.078490</td>\n",
              "    </tr>\n",
              "    <tr>\n",
              "      <th>156</th>\n",
              "      <td>Campaign Period Sales</td>\n",
              "      <td>Insurance</td>\n",
              "      <td>0.043865</td>\n",
              "    </tr>\n",
              "    <tr>\n",
              "      <th>160</th>\n",
              "      <td>Campaign Period Sales</td>\n",
              "      <td>Desk</td>\n",
              "      <td>0.041977</td>\n",
              "    </tr>\n",
              "    <tr>\n",
              "      <th>162</th>\n",
              "      <td>Campaign Period Sales</td>\n",
              "      <td>Office Supplies</td>\n",
              "      <td>0.034699</td>\n",
              "    </tr>\n",
              "    <tr>\n",
              "      <th>192</th>\n",
              "      <td>Campaign Period Sales</td>\n",
              "      <td>isEnglish</td>\n",
              "      <td>0.013806</td>\n",
              "    </tr>\n",
              "    <tr>\n",
              "      <th>209</th>\n",
              "      <td>Campaign Period Sales</td>\n",
              "      <td>Do Not Telemarket</td>\n",
              "      <td>0.012132</td>\n",
              "    </tr>\n",
              "    <tr>\n",
              "      <th>218</th>\n",
              "      <td>Campaign Period Sales</td>\n",
              "      <td>Do Not Direct Mail Solicit</td>\n",
              "      <td>0.010319</td>\n",
              "    </tr>\n",
              "    <tr>\n",
              "      <th>231</th>\n",
              "      <td>Campaign Period Sales</td>\n",
              "      <td>Do Not Email</td>\n",
              "      <td>0.004947</td>\n",
              "    </tr>\n",
              "    <tr>\n",
              "      <th>279</th>\n",
              "      <td>Campaign Period Sales</td>\n",
              "      <td>Number of Employees_heatmap</td>\n",
              "      <td>-0.019435</td>\n",
              "    </tr>\n",
              "    <tr>\n",
              "      <th>292</th>\n",
              "      <td>Campaign Period Sales</td>\n",
              "      <td>Historical Sales Volume</td>\n",
              "      <td>-0.033734</td>\n",
              "    </tr>\n",
              "  </tbody>\n",
              "</table>\n",
              "</div>"
            ],
            "text/plain": [
              "                 Feature 1  ... Correlation Coefficient\n",
              "17   Campaign Period Sales  ...                1.000000\n",
              "43   Campaign Period Sales  ...                0.285377\n",
              "75   Campaign Period Sales  ...                0.170015\n",
              "80   Campaign Period Sales  ...                0.155554\n",
              "83   Campaign Period Sales  ...                0.154078\n",
              "91   Campaign Period Sales  ...                0.138927\n",
              "94   Campaign Period Sales  ...                0.132670\n",
              "121  Campaign Period Sales  ...                0.079881\n",
              "124  Campaign Period Sales  ...                0.078490\n",
              "156  Campaign Period Sales  ...                0.043865\n",
              "160  Campaign Period Sales  ...                0.041977\n",
              "162  Campaign Period Sales  ...                0.034699\n",
              "192  Campaign Period Sales  ...                0.013806\n",
              "209  Campaign Period Sales  ...                0.012132\n",
              "218  Campaign Period Sales  ...                0.010319\n",
              "231  Campaign Period Sales  ...                0.004947\n",
              "279  Campaign Period Sales  ...               -0.019435\n",
              "292  Campaign Period Sales  ...               -0.033734\n",
              "\n",
              "[18 rows x 3 columns]"
            ]
          },
          "metadata": {
            "tags": []
          },
          "execution_count": 732
        }
      ]
    },
    {
      "cell_type": "code",
      "metadata": {
        "id": "-qIROKqeYZtm",
        "colab_type": "code",
        "colab": {}
      },
      "source": [
        "df = df.drop('Number of Employees_heatmap', axis = 1)"
      ],
      "execution_count": 0,
      "outputs": []
    },
    {
      "cell_type": "markdown",
      "metadata": {
        "id": "wtW0YxAtWKL_",
        "colab_type": "text"
      },
      "source": [
        "most of the feature didnt show much correlation to the label\n",
        "\n",
        "will use all of them to do modelling"
      ]
    },
    {
      "cell_type": "code",
      "metadata": {
        "id": "OJgRWdsJnhAo",
        "colab_type": "code",
        "outputId": "3792c2a2-7e3f-4383-8d91-51f18e0bad6c",
        "colab": {
          "base_uri": "https://localhost:8080/",
          "height": 34
        }
      },
      "source": [
        "from sklearn.model_selection import train_test_split\n",
        "from sklearn.linear_model import LogisticRegression\n",
        "\n",
        "df.drop(columns=['Date of First Purchase', 'Historical Sales Volume'], inplace=True)\n",
        "df_encode = pd.get_dummies(df, prefix_sep='_', drop_first=True)\n",
        "\n",
        "\n",
        "X = np.array(df_encode.drop(columns='Campaign Period Sales'))\n",
        "Y = np.array(df_encode['Campaign Period Sales'])\n",
        "\n",
        "X_train, X_test, Y_train, Y_test = train_test_split(X, Y, test_size=0.2,random_state=0)\n",
        "\n",
        "lr = LogisticRegression()\n",
        "lr.fit(X_train, Y_train)\n",
        "print(\"Logisticregression = \" ,lr.score(X_test, Y_test))"
      ],
      "execution_count": 734,
      "outputs": [
        {
          "output_type": "stream",
          "text": [
            "Logisticregression =  0.7834658187599364\n"
          ],
          "name": "stdout"
        }
      ]
    },
    {
      "cell_type": "markdown",
      "metadata": {
        "id": "khLvveUTkyzL",
        "colab_type": "text"
      },
      "source": [
        "base line is 0.73\n",
        "\n",
        "how can we get better than that?\n",
        "\n",
        "1. merging the pervious purchased to 1 column\n",
        "2. further explore other feature for correlation\n",
        "3. does sales volume per year and number of tranx per year affect campaign?\n",
        "4. recent buy parts of office supplies?"
      ]
    },
    {
      "cell_type": "markdown",
      "metadata": {
        "id": "pw8rJYUwqfO4",
        "colab_type": "text"
      },
      "source": [
        "merging the pervious purchased to 1 column\n",
        "\n"
      ]
    },
    {
      "cell_type": "code",
      "metadata": {
        "id": "U9Zg_5HPk9QS",
        "colab_type": "code",
        "colab": {}
      },
      "source": [
        "def label_purchased (row):\n",
        "   if row['Monitor'] + row['Computer'] + row['Standard Chair'] + row['Printer'] + row['Executive Chair'] + row['Toner'] + row['Insurance'] + row['Desk'] + row['Office Supplies'] > 0 :\n",
        "      return 1\n",
        "   return 0\n",
        "\n",
        "df['hasPriorPurchased_label'] = df.apply (lambda row: label_purchased(row), axis=1)"
      ],
      "execution_count": 0,
      "outputs": []
    },
    {
      "cell_type": "code",
      "metadata": {
        "id": "ZI6xRDyAyBsy",
        "colab_type": "code",
        "outputId": "f8cbfb89-bae4-48e1-8fe1-d252042b565f",
        "colab": {
          "base_uri": "https://localhost:8080/",
          "height": 210
        }
      },
      "source": [
        "df.head(3)"
      ],
      "execution_count": 736,
      "outputs": [
        {
          "output_type": "execute_result",
          "data": {
            "text/html": [
              "<div>\n",
              "<style scoped>\n",
              "    .dataframe tbody tr th:only-of-type {\n",
              "        vertical-align: middle;\n",
              "    }\n",
              "\n",
              "    .dataframe tbody tr th {\n",
              "        vertical-align: top;\n",
              "    }\n",
              "\n",
              "    .dataframe thead th {\n",
              "        text-align: right;\n",
              "    }\n",
              "</style>\n",
              "<table border=\"1\" class=\"dataframe\">\n",
              "  <thead>\n",
              "    <tr style=\"text-align: right;\">\n",
              "      <th></th>\n",
              "      <th>Campaign Period Sales</th>\n",
              "      <th>Number of Prior Year Transactions</th>\n",
              "      <th>Do Not Direct Mail Solicit</th>\n",
              "      <th>Do Not Email</th>\n",
              "      <th>Do Not Telemarket</th>\n",
              "      <th>Repurchase Method</th>\n",
              "      <th>Last Transaction Channel</th>\n",
              "      <th>Desk</th>\n",
              "      <th>Executive Chair</th>\n",
              "      <th>Standard Chair</th>\n",
              "      <th>Monitor</th>\n",
              "      <th>Printer</th>\n",
              "      <th>Computer</th>\n",
              "      <th>Insurance</th>\n",
              "      <th>Toner</th>\n",
              "      <th>Office Supplies</th>\n",
              "      <th>Number of Employees</th>\n",
              "      <th>isEnglish</th>\n",
              "      <th>diff_years</th>\n",
              "      <th>hasPriorPurchased_label</th>\n",
              "    </tr>\n",
              "  </thead>\n",
              "  <tbody>\n",
              "    <tr>\n",
              "      <th>0</th>\n",
              "      <td>1</td>\n",
              "      <td>15</td>\n",
              "      <td>0</td>\n",
              "      <td>0</td>\n",
              "      <td>0</td>\n",
              "      <td>AUTO RENEW</td>\n",
              "      <td>AUTO RENEW</td>\n",
              "      <td>0</td>\n",
              "      <td>0</td>\n",
              "      <td>0.0</td>\n",
              "      <td>0.0</td>\n",
              "      <td>0.0</td>\n",
              "      <td>0</td>\n",
              "      <td>1</td>\n",
              "      <td>0</td>\n",
              "      <td>1</td>\n",
              "      <td>6-10</td>\n",
              "      <td>1</td>\n",
              "      <td>51</td>\n",
              "      <td>1</td>\n",
              "    </tr>\n",
              "    <tr>\n",
              "      <th>1</th>\n",
              "      <td>1</td>\n",
              "      <td>22</td>\n",
              "      <td>0</td>\n",
              "      <td>0</td>\n",
              "      <td>0</td>\n",
              "      <td>NOTICE</td>\n",
              "      <td>MAIL</td>\n",
              "      <td>0</td>\n",
              "      <td>0</td>\n",
              "      <td>0.0</td>\n",
              "      <td>0.0</td>\n",
              "      <td>0.0</td>\n",
              "      <td>0</td>\n",
              "      <td>0</td>\n",
              "      <td>0</td>\n",
              "      <td>1</td>\n",
              "      <td>11-100</td>\n",
              "      <td>1</td>\n",
              "      <td>38</td>\n",
              "      <td>1</td>\n",
              "    </tr>\n",
              "    <tr>\n",
              "      <th>2</th>\n",
              "      <td>1</td>\n",
              "      <td>19</td>\n",
              "      <td>0</td>\n",
              "      <td>0</td>\n",
              "      <td>0</td>\n",
              "      <td>NOTICE</td>\n",
              "      <td>MAIL</td>\n",
              "      <td>0</td>\n",
              "      <td>0</td>\n",
              "      <td>0.0</td>\n",
              "      <td>0.0</td>\n",
              "      <td>0.0</td>\n",
              "      <td>0</td>\n",
              "      <td>0</td>\n",
              "      <td>0</td>\n",
              "      <td>1</td>\n",
              "      <td>6-10</td>\n",
              "      <td>1</td>\n",
              "      <td>57</td>\n",
              "      <td>1</td>\n",
              "    </tr>\n",
              "  </tbody>\n",
              "</table>\n",
              "</div>"
            ],
            "text/plain": [
              "   Campaign Period Sales  ...  hasPriorPurchased_label\n",
              "0                      1  ...                        1\n",
              "1                      1  ...                        1\n",
              "2                      1  ...                        1\n",
              "\n",
              "[3 rows x 20 columns]"
            ]
          },
          "metadata": {
            "tags": []
          },
          "execution_count": 736
        }
      ]
    },
    {
      "cell_type": "code",
      "metadata": {
        "id": "qSsqYP6MyMUN",
        "colab_type": "code",
        "outputId": "38e633c4-b5a5-44bf-d569-a6b431cae6c9",
        "colab": {
          "base_uri": "https://localhost:8080/",
          "height": 159
        }
      },
      "source": [
        "df.drop(['Executive Chair', 'Standard Chair', 'Monitor', 'Printer', 'Computer', 'Insurance', 'Toner', 'Office Supplies', 'Desk'], axis=1, inplace=True)\n",
        "df.head(3)"
      ],
      "execution_count": 737,
      "outputs": [
        {
          "output_type": "execute_result",
          "data": {
            "text/html": [
              "<div>\n",
              "<style scoped>\n",
              "    .dataframe tbody tr th:only-of-type {\n",
              "        vertical-align: middle;\n",
              "    }\n",
              "\n",
              "    .dataframe tbody tr th {\n",
              "        vertical-align: top;\n",
              "    }\n",
              "\n",
              "    .dataframe thead th {\n",
              "        text-align: right;\n",
              "    }\n",
              "</style>\n",
              "<table border=\"1\" class=\"dataframe\">\n",
              "  <thead>\n",
              "    <tr style=\"text-align: right;\">\n",
              "      <th></th>\n",
              "      <th>Campaign Period Sales</th>\n",
              "      <th>Number of Prior Year Transactions</th>\n",
              "      <th>Do Not Direct Mail Solicit</th>\n",
              "      <th>Do Not Email</th>\n",
              "      <th>Do Not Telemarket</th>\n",
              "      <th>Repurchase Method</th>\n",
              "      <th>Last Transaction Channel</th>\n",
              "      <th>Number of Employees</th>\n",
              "      <th>isEnglish</th>\n",
              "      <th>diff_years</th>\n",
              "      <th>hasPriorPurchased_label</th>\n",
              "    </tr>\n",
              "  </thead>\n",
              "  <tbody>\n",
              "    <tr>\n",
              "      <th>0</th>\n",
              "      <td>1</td>\n",
              "      <td>15</td>\n",
              "      <td>0</td>\n",
              "      <td>0</td>\n",
              "      <td>0</td>\n",
              "      <td>AUTO RENEW</td>\n",
              "      <td>AUTO RENEW</td>\n",
              "      <td>6-10</td>\n",
              "      <td>1</td>\n",
              "      <td>51</td>\n",
              "      <td>1</td>\n",
              "    </tr>\n",
              "    <tr>\n",
              "      <th>1</th>\n",
              "      <td>1</td>\n",
              "      <td>22</td>\n",
              "      <td>0</td>\n",
              "      <td>0</td>\n",
              "      <td>0</td>\n",
              "      <td>NOTICE</td>\n",
              "      <td>MAIL</td>\n",
              "      <td>11-100</td>\n",
              "      <td>1</td>\n",
              "      <td>38</td>\n",
              "      <td>1</td>\n",
              "    </tr>\n",
              "    <tr>\n",
              "      <th>2</th>\n",
              "      <td>1</td>\n",
              "      <td>19</td>\n",
              "      <td>0</td>\n",
              "      <td>0</td>\n",
              "      <td>0</td>\n",
              "      <td>NOTICE</td>\n",
              "      <td>MAIL</td>\n",
              "      <td>6-10</td>\n",
              "      <td>1</td>\n",
              "      <td>57</td>\n",
              "      <td>1</td>\n",
              "    </tr>\n",
              "  </tbody>\n",
              "</table>\n",
              "</div>"
            ],
            "text/plain": [
              "   Campaign Period Sales  ...  hasPriorPurchased_label\n",
              "0                      1  ...                        1\n",
              "1                      1  ...                        1\n",
              "2                      1  ...                        1\n",
              "\n",
              "[3 rows x 11 columns]"
            ]
          },
          "metadata": {
            "tags": []
          },
          "execution_count": 737
        }
      ]
    },
    {
      "cell_type": "code",
      "metadata": {
        "id": "XRQJkw-Q0ueH",
        "colab_type": "code",
        "outputId": "ca184f6a-e7d7-44dd-d7be-17ab59b5fde7",
        "colab": {
          "base_uri": "https://localhost:8080/",
          "height": 34
        }
      },
      "source": [
        "#from sklearn.model_selection import train_test_split\n",
        "#from sklearn.linear_model import LogisticRegression\n",
        "\n",
        "#df.drop(columns=['Date of First Purchase', 'Historical Sales Volume'], inplace=True)\n",
        "df_encode = pd.get_dummies(df, prefix_sep='_', drop_first=True)\n",
        "\n",
        "\n",
        "X = np.array(df_encode.drop(columns='Campaign Period Sales'))\n",
        "Y = np.array(df_encode['Campaign Period Sales'])\n",
        "\n",
        "X_train, X_test, Y_train, Y_test = train_test_split(X, Y, test_size=0.2,random_state=0)\n",
        "\n",
        "lr = LogisticRegression()\n",
        "lr.fit(X_train, Y_train)\n",
        "print(\"Logisticregression = \" ,lr.score(X_test, Y_test))"
      ],
      "execution_count": 738,
      "outputs": [
        {
          "output_type": "stream",
          "text": [
            "Logisticregression =  0.7802861685214626\n"
          ],
          "name": "stdout"
        }
      ]
    },
    {
      "cell_type": "code",
      "metadata": {
        "id": "g99eQeR8ism2",
        "colab_type": "code",
        "outputId": "531a7b85-7186-453a-e4a4-958d2dca686a",
        "colab": {
          "base_uri": "https://localhost:8080/",
          "height": 804
        }
      },
      "source": [
        "corrmat = df_encode.corr()\n",
        "top_corr_features = corrmat.index\n",
        "plt.figure(figsize=(10,10))\n",
        "#plot heat map\n",
        "g=sns.heatmap(df_encode[top_corr_features].corr(),annot=True,cmap=\"RdYlGn\")"
      ],
      "execution_count": 739,
      "outputs": [
        {
          "output_type": "display_data",
          "data": {
            "image/png": "[encoded data removed]",
            "text/plain": [
              "<Figure size 720x720 with 2 Axes>"
            ]
          },
          "metadata": {
            "tags": [],
            "needs_background": "light"
          }
        }
      ]
    },
    {
      "cell_type": "code",
      "metadata": {
        "id": "yFDTX79Ii0uj",
        "colab_type": "code",
        "outputId": "f318f95f-2d8d-41ad-be7e-e5eac00c91d7",
        "colab": {
          "base_uri": "https://localhost:8080/",
          "height": 669
        }
      },
      "source": [
        "df_corr = df_encode.corr().unstack().sort_values(kind=\"quicksort\", ascending=False).reset_index()\n",
        "df_corr.rename(columns={\"level_0\": \"Feature 1\", \"level_1\": \"Feature 2\", 0: 'Correlation Coefficient'}, inplace=True)\n",
        "df_corr[df_corr['Feature 1'] == 'Campaign Period Sales']"
      ],
      "execution_count": 740,
      "outputs": [
        {
          "output_type": "execute_result",
          "data": {
            "text/html": [
              "<div>\n",
              "<style scoped>\n",
              "    .dataframe tbody tr th:only-of-type {\n",
              "        vertical-align: middle;\n",
              "    }\n",
              "\n",
              "    .dataframe tbody tr th {\n",
              "        vertical-align: top;\n",
              "    }\n",
              "\n",
              "    .dataframe thead th {\n",
              "        text-align: right;\n",
              "    }\n",
              "</style>\n",
              "<table border=\"1\" class=\"dataframe\">\n",
              "  <thead>\n",
              "    <tr style=\"text-align: right;\">\n",
              "      <th></th>\n",
              "      <th>Feature 1</th>\n",
              "      <th>Feature 2</th>\n",
              "      <th>Correlation Coefficient</th>\n",
              "    </tr>\n",
              "  </thead>\n",
              "  <tbody>\n",
              "    <tr>\n",
              "      <th>19</th>\n",
              "      <td>Campaign Period Sales</td>\n",
              "      <td>Campaign Period Sales</td>\n",
              "      <td>1.000000</td>\n",
              "    </tr>\n",
              "    <tr>\n",
              "      <th>30</th>\n",
              "      <td>Campaign Period Sales</td>\n",
              "      <td>diff_years</td>\n",
              "      <td>0.285377</td>\n",
              "    </tr>\n",
              "    <tr>\n",
              "      <th>38</th>\n",
              "      <td>Campaign Period Sales</td>\n",
              "      <td>Number of Prior Year Transactions</td>\n",
              "      <td>0.138927</td>\n",
              "    </tr>\n",
              "    <tr>\n",
              "      <th>60</th>\n",
              "      <td>Campaign Period Sales</td>\n",
              "      <td>hasPriorPurchased_label</td>\n",
              "      <td>0.051017</td>\n",
              "    </tr>\n",
              "    <tr>\n",
              "      <th>95</th>\n",
              "      <td>Campaign Period Sales</td>\n",
              "      <td>Last Transaction Channel_IT</td>\n",
              "      <td>0.015298</td>\n",
              "    </tr>\n",
              "    <tr>\n",
              "      <th>102</th>\n",
              "      <td>Campaign Period Sales</td>\n",
              "      <td>isEnglish</td>\n",
              "      <td>0.013806</td>\n",
              "    </tr>\n",
              "    <tr>\n",
              "      <th>123</th>\n",
              "      <td>Campaign Period Sales</td>\n",
              "      <td>Do Not Telemarket</td>\n",
              "      <td>0.012132</td>\n",
              "    </tr>\n",
              "    <tr>\n",
              "      <th>130</th>\n",
              "      <td>Campaign Period Sales</td>\n",
              "      <td>Last Transaction Channel_BRANCH (PHONE)</td>\n",
              "      <td>0.010946</td>\n",
              "    </tr>\n",
              "    <tr>\n",
              "      <th>136</th>\n",
              "      <td>Campaign Period Sales</td>\n",
              "      <td>Last Transaction Channel_BILLING</td>\n",
              "      <td>0.010336</td>\n",
              "    </tr>\n",
              "    <tr>\n",
              "      <th>139</th>\n",
              "      <td>Campaign Period Sales</td>\n",
              "      <td>Do Not Direct Mail Solicit</td>\n",
              "      <td>0.010319</td>\n",
              "    </tr>\n",
              "    <tr>\n",
              "      <th>161</th>\n",
              "      <td>Campaign Period Sales</td>\n",
              "      <td>Number of Employees_101-500</td>\n",
              "      <td>0.005217</td>\n",
              "    </tr>\n",
              "    <tr>\n",
              "      <th>165</th>\n",
              "      <td>Campaign Period Sales</td>\n",
              "      <td>Do Not Email</td>\n",
              "      <td>0.004947</td>\n",
              "    </tr>\n",
              "    <tr>\n",
              "      <th>197</th>\n",
              "      <td>Campaign Period Sales</td>\n",
              "      <td>Last Transaction Channel_BRANCH (POS)</td>\n",
              "      <td>-0.000844</td>\n",
              "    </tr>\n",
              "    <tr>\n",
              "      <th>203</th>\n",
              "      <td>Campaign Period Sales</td>\n",
              "      <td>Last Transaction Channel_WEB</td>\n",
              "      <td>-0.001186</td>\n",
              "    </tr>\n",
              "    <tr>\n",
              "      <th>208</th>\n",
              "      <td>Campaign Period Sales</td>\n",
              "      <td>Number of Employees_500+</td>\n",
              "      <td>-0.002800</td>\n",
              "    </tr>\n",
              "    <tr>\n",
              "      <th>230</th>\n",
              "      <td>Campaign Period Sales</td>\n",
              "      <td>Number of Employees_6-10</td>\n",
              "      <td>-0.006073</td>\n",
              "    </tr>\n",
              "    <tr>\n",
              "      <th>275</th>\n",
              "      <td>Campaign Period Sales</td>\n",
              "      <td>Last Transaction Channel_PHONE</td>\n",
              "      <td>-0.014642</td>\n",
              "    </tr>\n",
              "    <tr>\n",
              "      <th>281</th>\n",
              "      <td>Campaign Period Sales</td>\n",
              "      <td>Number of Employees_11-100</td>\n",
              "      <td>-0.015743</td>\n",
              "    </tr>\n",
              "    <tr>\n",
              "      <th>287</th>\n",
              "      <td>Campaign Period Sales</td>\n",
              "      <td>Last Transaction Channel_MAIL</td>\n",
              "      <td>-0.020059</td>\n",
              "    </tr>\n",
              "    <tr>\n",
              "      <th>338</th>\n",
              "      <td>Campaign Period Sales</td>\n",
              "      <td>Repurchase Method_NOTICE</td>\n",
              "      <td>-0.046868</td>\n",
              "    </tr>\n",
              "  </tbody>\n",
              "</table>\n",
              "</div>"
            ],
            "text/plain": [
              "                 Feature 1  ... Correlation Coefficient\n",
              "19   Campaign Period Sales  ...                1.000000\n",
              "30   Campaign Period Sales  ...                0.285377\n",
              "38   Campaign Period Sales  ...                0.138927\n",
              "60   Campaign Period Sales  ...                0.051017\n",
              "95   Campaign Period Sales  ...                0.015298\n",
              "102  Campaign Period Sales  ...                0.013806\n",
              "123  Campaign Period Sales  ...                0.012132\n",
              "130  Campaign Period Sales  ...                0.010946\n",
              "136  Campaign Period Sales  ...                0.010336\n",
              "139  Campaign Period Sales  ...                0.010319\n",
              "161  Campaign Period Sales  ...                0.005217\n",
              "165  Campaign Period Sales  ...                0.004947\n",
              "197  Campaign Period Sales  ...               -0.000844\n",
              "203  Campaign Period Sales  ...               -0.001186\n",
              "208  Campaign Period Sales  ...               -0.002800\n",
              "230  Campaign Period Sales  ...               -0.006073\n",
              "275  Campaign Period Sales  ...               -0.014642\n",
              "281  Campaign Period Sales  ...               -0.015743\n",
              "287  Campaign Period Sales  ...               -0.020059\n",
              "338  Campaign Period Sales  ...               -0.046868\n",
              "\n",
              "[20 rows x 3 columns]"
            ]
          },
          "metadata": {
            "tags": []
          },
          "execution_count": 740
        }
      ]
    }
  ]
}